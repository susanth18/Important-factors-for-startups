{
  "cells": [
    {
      "cell_type": "code",
      "execution_count": null,
      "metadata": {
        "colab": {
          "base_uri": "https://localhost:8080/"
        },
        "id": "cK10uzzbM-OF",
        "outputId": "f433ff25-e0ea-48d2-d955-8d58ad31b825"
      },
      "outputs": [
        {
          "name": "stdout",
          "output_type": "stream",
          "text": [
            "Looking in indexes: https://pypi.org/simple, https://us-python.pkg.dev/colab-wheels/public/simple/\n",
            "Requirement already satisfied: pandas in /usr/local/lib/python3.8/dist-packages (1.3.5)\n",
            "Requirement already satisfied: pytz>=2017.3 in /usr/local/lib/python3.8/dist-packages (from pandas) (2022.7)\n",
            "Requirement already satisfied: numpy>=1.17.3 in /usr/local/lib/python3.8/dist-packages (from pandas) (1.21.6)\n",
            "Requirement already satisfied: python-dateutil>=2.7.3 in /usr/local/lib/python3.8/dist-packages (from pandas) (2.8.2)\n",
            "Requirement already satisfied: six>=1.5 in /usr/local/lib/python3.8/dist-packages (from python-dateutil>=2.7.3->pandas) (1.15.0)\n",
            "Looking in indexes: https://pypi.org/simple, https://us-python.pkg.dev/colab-wheels/public/simple/\n",
            "Requirement already satisfied: numpy in /usr/local/lib/python3.8/dist-packages (1.21.6)\n",
            "Looking in indexes: https://pypi.org/simple, https://us-python.pkg.dev/colab-wheels/public/simple/\n",
            "Requirement already satisfied: matplotlib in /usr/local/lib/python3.8/dist-packages (3.2.2)\n",
            "Requirement already satisfied: python-dateutil>=2.1 in /usr/local/lib/python3.8/dist-packages (from matplotlib) (2.8.2)\n",
            "Requirement already satisfied: cycler>=0.10 in /usr/local/lib/python3.8/dist-packages (from matplotlib) (0.11.0)\n",
            "Requirement already satisfied: kiwisolver>=1.0.1 in /usr/local/lib/python3.8/dist-packages (from matplotlib) (1.4.4)\n",
            "Requirement already satisfied: pyparsing!=2.0.4,!=2.1.2,!=2.1.6,>=2.0.1 in /usr/local/lib/python3.8/dist-packages (from matplotlib) (3.0.9)\n",
            "Requirement already satisfied: numpy>=1.11 in /usr/local/lib/python3.8/dist-packages (from matplotlib) (1.21.6)\n",
            "Requirement already satisfied: six>=1.5 in /usr/local/lib/python3.8/dist-packages (from python-dateutil>=2.1->matplotlib) (1.15.0)\n",
            "Looking in indexes: https://pypi.org/simple, https://us-python.pkg.dev/colab-wheels/public/simple/\n",
            "Collecting pyspark\n",
            "  Downloading pyspark-3.3.1.tar.gz (281.4 MB)\n",
            "\u001b[2K     \u001b[90m━━━━━━━━━━━━━━━━━━━━━━━━━━━━━━━━━━━━━━━\u001b[0m \u001b[32m281.4/281.4 MB\u001b[0m \u001b[31m3.3 MB/s\u001b[0m eta \u001b[36m0:00:00\u001b[0m\n",
            "\u001b[?25h  Preparing metadata (setup.py) ... \u001b[?25l\u001b[?25hdone\n",
            "Collecting py4j==0.10.9.5\n",
            "  Downloading py4j-0.10.9.5-py2.py3-none-any.whl (199 kB)\n",
            "\u001b[2K     \u001b[90m━━━━━━━━━━━━━━━━━━━━━━━━━━━━━━━━━━━━━━\u001b[0m \u001b[32m199.7/199.7 KB\u001b[0m \u001b[31m14.5 MB/s\u001b[0m eta \u001b[36m0:00:00\u001b[0m\n",
            "\u001b[?25hBuilding wheels for collected packages: pyspark\n",
            "  Building wheel for pyspark (setup.py) ... \u001b[?25l\u001b[?25hdone\n",
            "  Created wheel for pyspark: filename=pyspark-3.3.1-py2.py3-none-any.whl size=281845512 sha256=8f0190dc3fec3691ab5db64de1f18708e0b07c4eeaefd31b91aa0d4adcffd730\n",
            "  Stored in directory: /root/.cache/pip/wheels/43/dc/11/ec201cd671da62fa9c5cc77078235e40722170ceba231d7598\n",
            "Successfully built pyspark\n",
            "Installing collected packages: py4j, pyspark\n",
            "Successfully installed py4j-0.10.9.5 pyspark-3.3.1\n"
          ]
        }
      ],
      "source": [
        "!pip install pandas\n",
        "!pip install numpy\n",
        "!pip install matplotlib\n",
        "!pip install pyspark"
      ]
    },
    {
      "cell_type": "code",
      "execution_count": null,
      "metadata": {
        "id": "j3xTpH-jMyb9"
      },
      "outputs": [],
      "source": [
        "import pandas as pd\n",
        "import numpy as np\n",
        "# Load functionality to manipulate dataframes\n",
        "from pyspark.sql import functions as fn\n",
        "import matplotlib.pyplot as plt\n",
        "from pyspark.sql.functions import stddev, mean, col\n",
        "from pyspark.sql import SQLContext\n",
        "from pyspark.sql import SparkSession\n",
        "# Functionality for computing features\n",
        "from pyspark.ml import feature, regression, classification, Pipeline\n",
        "from pyspark.ml.classification import LogisticRegression\n",
        "from pyspark.ml import feature, regression, classification, Pipeline\n",
        "from pyspark.ml.feature import Tokenizer, VectorAssembler, HashingTF, Word2Vec, StringIndexer, OneHotEncoder\n",
        "from pyspark.ml import clustering\n",
        "from itertools import chain\n",
        "from pyspark.ml.linalg import Vectors, VectorUDT\n",
        "from pyspark.ml import classification\n",
        "from pyspark.ml.classification import LogisticRegression, RandomForestClassifier, DecisionTreeClassifier\n",
        "from pyspark.ml import evaluation\n",
        "from pyspark.ml.evaluation import BinaryClassificationEvaluator,MulticlassClassificationEvaluator\n",
        "from pyspark import keyword_only\n",
        "from pyspark.ml import Transformer\n",
        "from pyspark.ml.param.shared import HasInputCol, HasOutputCol, Param\n",
        "#Classification Report\n",
        "from sklearn.metrics import classification_report, confusion_matrix"
      ]
    },
    {
      "cell_type": "code",
      "execution_count": null,
      "metadata": {
        "id": "TGAOtNcnPK50"
      },
      "outputs": [],
      "source": [
        "MAX_MEMORY = \"45g\"\n",
        "\n",
        "spark = SparkSession \\\n",
        "    .builder \\\n",
        "    .appName(\"how to read csv file\") \\\n",
        "    .config(\"spark.executor.memory\", MAX_MEMORY) \\\n",
        "    .config(\"spark.driver.memory\", MAX_MEMORY) \\\n",
        "    .getOrCreate()"
      ]
    },
    {
      "cell_type": "code",
      "execution_count": null,
      "metadata": {
        "colab": {
          "base_uri": "https://localhost:8080/"
        },
        "id": "eTHVQ8hmRrGH",
        "outputId": "e30bce3e-1c1a-4d1c-a71e-8574e484d3c9"
      },
      "outputs": [
        {
          "name": "stdout",
          "output_type": "stream",
          "text": [
            "Mounted at /content/drive\n"
          ]
        }
      ],
      "source": [
        "from google.colab import drive\n",
        "drive.mount('/content/drive')"
      ]
    },
    {
      "cell_type": "code",
      "execution_count": null,
      "metadata": {
        "id": "NBpeEo-0PXZP"
      },
      "outputs": [],
      "source": [
        "# load master dataset\n",
        "dfmaster = spark.read.format(\"csv\").load(\"/content/drive/MyDrive/Data/master.csv\", delimiter = \",\", header = True)"
      ]
    },
    {
      "cell_type": "markdown",
      "metadata": {
        "id": "2LB5xRi2QFU2"
      },
      "source": [
        "#Data Preparation"
      ]
    },
    {
      "cell_type": "code",
      "execution_count": null,
      "metadata": {
        "id": "mIkm1LgHQCCk"
      },
      "outputs": [],
      "source": [
        "# create a 0/1 column for acquistions\n",
        "dfmaster = dfmaster.\\\n",
        "  withColumn(\"labelacq\", fn.when(col(\"status\") == \"acquired\",\"1\").otherwise(\"0\"))"
      ]
    },
    {
      "cell_type": "code",
      "execution_count": null,
      "metadata": {
        "colab": {
          "base_uri": "https://localhost:8080/"
        },
        "id": "ZknlsZTQQIhG",
        "outputId": "fed25f89-5d95-4e69-dc5b-dc1b13d381aa"
      },
      "outputs": [
        {
          "name": "stdout",
          "output_type": "stream",
          "text": [
            "49445\n"
          ]
        }
      ],
      "source": [
        "# number of rows in master table\n",
        "print(dfmaster.count())"
      ]
    },
    {
      "cell_type": "code",
      "execution_count": null,
      "metadata": {
        "colab": {
          "base_uri": "https://localhost:8080/"
        },
        "id": "b4V3vRukgnqD",
        "outputId": "7ac0aa17-180a-46a7-bb6e-0759127a6ad8"
      },
      "outputs": [
        {
          "data": {
            "text/plain": [
              "DataFrame[_c0: string, permalink: string, name: string, market: string, funding_total_usd: string, status: string, country_code: string, city: string, funding_rounds: string, founded_year: string, quarter_new: string, age: string, permalink_agg: string, count_investor: string, time_to_first_funding: string, investor_country_codes: string, funding_round_types: string, total_raised_usd: string, permalink_sub: string, category_final: string, perma: string, investor_country_code: string, permaround: string, funding_round_type: string, labelacq: string]"
            ]
          },
          "execution_count": 8,
          "metadata": {},
          "output_type": "execute_result"
        }
      ],
      "source": [
        "dfmaster"
      ]
    },
    {
      "cell_type": "code",
      "execution_count": null,
      "metadata": {
        "colab": {
          "base_uri": "https://localhost:8080/"
        },
        "id": "lQjuF2P-QNvT",
        "outputId": "52366aaf-b8ac-4836-9ad7-efc5e1989b71"
      },
      "outputs": [
        {
          "data": {
            "text/plain": [
              "_c0                           0\n",
              "permalink                     1\n",
              "name                          1\n",
              "market                     3967\n",
              "funding_total_usd             1\n",
              "status                     1315\n",
              "country_code               5273\n",
              "city                       6116\n",
              "funding_rounds                1\n",
              "founded_year              10956\n",
              "quarter_new               10956\n",
              "age                       10956\n",
              "permalink_agg                 1\n",
              "count_investor                1\n",
              "time_to_first_funding     24731\n",
              "investor_country_codes    20954\n",
              "funding_round_types       17110\n",
              "total_raised_usd          49435\n",
              "permalink_sub                 1\n",
              "category_final            45459\n",
              "perma                     20954\n",
              "investor_country_code     20954\n",
              "permaround                17110\n",
              "funding_round_type        17110\n",
              "labelacq                      0\n",
              "dtype: int64"
            ]
          },
          "execution_count": 9,
          "metadata": {},
          "output_type": "execute_result"
        }
      ],
      "source": [
        "# check for missing values \n",
        "dfmaster.toPandas().isnull().sum()"
      ]
    },
    {
      "cell_type": "code",
      "execution_count": null,
      "metadata": {
        "id": "AiaaUGk0QcQB"
      },
      "outputs": [],
      "source": [
        "# drop market columns because of too many level and better breakdown with the category_final column\n",
        "dfmaster1 = dfmaster.drop(\"market\")"
      ]
    },
    {
      "cell_type": "code",
      "execution_count": null,
      "metadata": {
        "colab": {
          "base_uri": "https://localhost:8080/",
          "height": 627
        },
        "id": "kjOYJTFidt0c",
        "outputId": "17529b6b-62ea-41ed-b5c0-61baa9cd0fa1"
      },
      "outputs": [
        {
          "data": {
            "text/html": [
              "\n",
              "  <div id=\"df-7b187d58-eaaa-46ac-afc2-6b13198e4733\">\n",
              "    <div class=\"colab-df-container\">\n",
              "      <div>\n",
              "<style scoped>\n",
              "    .dataframe tbody tr th:only-of-type {\n",
              "        vertical-align: middle;\n",
              "    }\n",
              "\n",
              "    .dataframe tbody tr th {\n",
              "        vertical-align: top;\n",
              "    }\n",
              "\n",
              "    .dataframe thead th {\n",
              "        text-align: right;\n",
              "    }\n",
              "</style>\n",
              "<table border=\"1\" class=\"dataframe\">\n",
              "  <thead>\n",
              "    <tr style=\"text-align: right;\">\n",
              "      <th></th>\n",
              "      <th>_c0</th>\n",
              "      <th>permalink</th>\n",
              "      <th>name</th>\n",
              "      <th>funding_total_usd</th>\n",
              "      <th>status</th>\n",
              "      <th>country_code</th>\n",
              "      <th>city</th>\n",
              "      <th>funding_rounds</th>\n",
              "      <th>founded_year</th>\n",
              "      <th>quarter_new</th>\n",
              "      <th>...</th>\n",
              "      <th>investor_country_codes</th>\n",
              "      <th>funding_round_types</th>\n",
              "      <th>total_raised_usd</th>\n",
              "      <th>permalink_sub</th>\n",
              "      <th>category_final</th>\n",
              "      <th>perma</th>\n",
              "      <th>investor_country_code</th>\n",
              "      <th>permaround</th>\n",
              "      <th>funding_round_type</th>\n",
              "      <th>labelacq</th>\n",
              "    </tr>\n",
              "  </thead>\n",
              "  <tbody>\n",
              "    <tr>\n",
              "      <th>0</th>\n",
              "      <td>0</td>\n",
              "      <td>/organization/1lay</td>\n",
              "      <td>1Lay</td>\n",
              "      <td>1,70,000</td>\n",
              "      <td>operating</td>\n",
              "      <td>None</td>\n",
              "      <td>None</td>\n",
              "      <td>1</td>\n",
              "      <td>2013</td>\n",
              "      <td>Q3</td>\n",
              "      <td>...</td>\n",
              "      <td>None</td>\n",
              "      <td>None</td>\n",
              "      <td>None</td>\n",
              "      <td>/organization/1lay</td>\n",
              "      <td>None</td>\n",
              "      <td>None</td>\n",
              "      <td>None</td>\n",
              "      <td>None</td>\n",
              "      <td>None</td>\n",
              "      <td>0</td>\n",
              "    </tr>\n",
              "    <tr>\n",
              "      <th>1</th>\n",
              "      <td>1</td>\n",
              "      <td>/organization/24pagebooks</td>\n",
              "      <td>24PageBooks</td>\n",
              "      <td>50,000</td>\n",
              "      <td>closed</td>\n",
              "      <td>USA</td>\n",
              "      <td>Rochester</td>\n",
              "      <td>1</td>\n",
              "      <td>2010</td>\n",
              "      <td>Q1</td>\n",
              "      <td>...</td>\n",
              "      <td>FRA</td>\n",
              "      <td>seed</td>\n",
              "      <td>None</td>\n",
              "      <td>/organization/24pagebooks</td>\n",
              "      <td>None</td>\n",
              "      <td>/organization/24pagebooks</td>\n",
              "      <td>FRA</td>\n",
              "      <td>/organization/24pagebooks</td>\n",
              "      <td>seed</td>\n",
              "      <td>0</td>\n",
              "    </tr>\n",
              "    <tr>\n",
              "      <th>2</th>\n",
              "      <td>2</td>\n",
              "      <td>/organization/5min</td>\n",
              "      <td>5min Media</td>\n",
              "      <td>1,28,00,000</td>\n",
              "      <td>acquired</td>\n",
              "      <td>USA</td>\n",
              "      <td>New York</td>\n",
              "      <td>3</td>\n",
              "      <td>2007</td>\n",
              "      <td>Q1</td>\n",
              "      <td>...</td>\n",
              "      <td>USA, USA, USA</td>\n",
              "      <td>venture, venture, venture</td>\n",
              "      <td>None</td>\n",
              "      <td>/organization/5min</td>\n",
              "      <td>None</td>\n",
              "      <td>/organization/5min</td>\n",
              "      <td>USA</td>\n",
              "      <td>/organization/5min</td>\n",
              "      <td>venture</td>\n",
              "      <td>1</td>\n",
              "    </tr>\n",
              "    <tr>\n",
              "      <th>3</th>\n",
              "      <td>3</td>\n",
              "      <td>/organization/abpathfinder</td>\n",
              "      <td>ABPathfinder</td>\n",
              "      <td>9,60,000</td>\n",
              "      <td>operating</td>\n",
              "      <td>USA</td>\n",
              "      <td>Overland Park</td>\n",
              "      <td>3</td>\n",
              "      <td>2010</td>\n",
              "      <td>Q2</td>\n",
              "      <td>...</td>\n",
              "      <td>USA, USA, USA</td>\n",
              "      <td>venture, venture, venture, venture</td>\n",
              "      <td>None</td>\n",
              "      <td>/organization/abpathfinder</td>\n",
              "      <td>None</td>\n",
              "      <td>/organization/abpathfinder</td>\n",
              "      <td>USA</td>\n",
              "      <td>/organization/abpathfinder</td>\n",
              "      <td>venture</td>\n",
              "      <td>0</td>\n",
              "    </tr>\n",
              "    <tr>\n",
              "      <th>4</th>\n",
              "      <td>4</td>\n",
              "      <td>/organization/acid-labs</td>\n",
              "      <td>Acid Labs</td>\n",
              "      <td>-</td>\n",
              "      <td>operating</td>\n",
              "      <td>USA</td>\n",
              "      <td>Santa Monica</td>\n",
              "      <td>1</td>\n",
              "      <td>2003</td>\n",
              "      <td>Q1</td>\n",
              "      <td>...</td>\n",
              "      <td>None</td>\n",
              "      <td>None</td>\n",
              "      <td>None</td>\n",
              "      <td>/organization/acid-labs</td>\n",
              "      <td>None</td>\n",
              "      <td>None</td>\n",
              "      <td>None</td>\n",
              "      <td>None</td>\n",
              "      <td>None</td>\n",
              "      <td>0</td>\n",
              "    </tr>\n",
              "    <tr>\n",
              "      <th>...</th>\n",
              "      <td>...</td>\n",
              "      <td>...</td>\n",
              "      <td>...</td>\n",
              "      <td>...</td>\n",
              "      <td>...</td>\n",
              "      <td>...</td>\n",
              "      <td>...</td>\n",
              "      <td>...</td>\n",
              "      <td>...</td>\n",
              "      <td>...</td>\n",
              "      <td>...</td>\n",
              "      <td>...</td>\n",
              "      <td>...</td>\n",
              "      <td>...</td>\n",
              "      <td>...</td>\n",
              "      <td>...</td>\n",
              "      <td>...</td>\n",
              "      <td>...</td>\n",
              "      <td>...</td>\n",
              "      <td>...</td>\n",
              "      <td>...</td>\n",
              "    </tr>\n",
              "    <tr>\n",
              "      <th>49440</th>\n",
              "      <td>49440</td>\n",
              "      <td>/organization/yieldmo</td>\n",
              "      <td>Yieldmo</td>\n",
              "      <td>2,21,00,000</td>\n",
              "      <td>operating</td>\n",
              "      <td>USA</td>\n",
              "      <td>New York</td>\n",
              "      <td>3</td>\n",
              "      <td>2012</td>\n",
              "      <td>Q2</td>\n",
              "      <td>...</td>\n",
              "      <td>USA, USA, USA, USA, USA, ISR, USA, USA, USA, U...</td>\n",
              "      <td>venture, venture, venture, venture, venture, v...</td>\n",
              "      <td>None</td>\n",
              "      <td>/organization/yieldmo</td>\n",
              "      <td>None</td>\n",
              "      <td>/organization/yieldmo</td>\n",
              "      <td>USA</td>\n",
              "      <td>/organization/yieldmo</td>\n",
              "      <td>venture</td>\n",
              "      <td>0</td>\n",
              "    </tr>\n",
              "    <tr>\n",
              "      <th>49441</th>\n",
              "      <td>49441</td>\n",
              "      <td>/organization/youxinpai</td>\n",
              "      <td>Youxinpai</td>\n",
              "      <td>3,00,00,000</td>\n",
              "      <td>operating</td>\n",
              "      <td>CHN</td>\n",
              "      <td>Beijing</td>\n",
              "      <td>1</td>\n",
              "      <td>2011</td>\n",
              "      <td>Q3</td>\n",
              "      <td>...</td>\n",
              "      <td>CHN, USA, CHN</td>\n",
              "      <td>venture, venture, venture, venture</td>\n",
              "      <td>None</td>\n",
              "      <td>/organization/youxinpai</td>\n",
              "      <td>None</td>\n",
              "      <td>/organization/youxinpai</td>\n",
              "      <td>CHN</td>\n",
              "      <td>/organization/youxinpai</td>\n",
              "      <td>venture</td>\n",
              "      <td>0</td>\n",
              "    </tr>\n",
              "    <tr>\n",
              "      <th>49442</th>\n",
              "      <td>49442</td>\n",
              "      <td>/organization/zeropercent-us</td>\n",
              "      <td>ZeroPercent.us</td>\n",
              "      <td>-</td>\n",
              "      <td>operating</td>\n",
              "      <td>USA</td>\n",
              "      <td>Chicago</td>\n",
              "      <td>1</td>\n",
              "      <td>2011</td>\n",
              "      <td>Q3</td>\n",
              "      <td>...</td>\n",
              "      <td>USA</td>\n",
              "      <td>seed</td>\n",
              "      <td>None</td>\n",
              "      <td>/organization/zeropercent-us</td>\n",
              "      <td>None</td>\n",
              "      <td>/organization/zeropercent-us</td>\n",
              "      <td>USA</td>\n",
              "      <td>/organization/zeropercent-us</td>\n",
              "      <td>seed</td>\n",
              "      <td>0</td>\n",
              "    </tr>\n",
              "    <tr>\n",
              "      <th>49443</th>\n",
              "      <td>49443</td>\n",
              "      <td>/organization/zinch</td>\n",
              "      <td>Zinch</td>\n",
              "      <td>54,86,842</td>\n",
              "      <td>acquired</td>\n",
              "      <td>USA</td>\n",
              "      <td>Orem</td>\n",
              "      <td>3</td>\n",
              "      <td>2007</td>\n",
              "      <td>Q1</td>\n",
              "      <td>...</td>\n",
              "      <td>USA, USA</td>\n",
              "      <td>venture, venture, angel</td>\n",
              "      <td>None</td>\n",
              "      <td>/organization/zinch</td>\n",
              "      <td>None</td>\n",
              "      <td>/organization/zinch</td>\n",
              "      <td>USA</td>\n",
              "      <td>/organization/zinch</td>\n",
              "      <td>venture</td>\n",
              "      <td>1</td>\n",
              "    </tr>\n",
              "    <tr>\n",
              "      <th>49444</th>\n",
              "      <td>49444</td>\n",
              "      <td>/organization/zippy-com-au-pty-ltd</td>\n",
              "      <td>Zippy.com.au Pty LTD</td>\n",
              "      <td>2,00,000</td>\n",
              "      <td>acquired</td>\n",
              "      <td>AUS</td>\n",
              "      <td>Brisbane</td>\n",
              "      <td>1</td>\n",
              "      <td>None</td>\n",
              "      <td>None</td>\n",
              "      <td>...</td>\n",
              "      <td>None</td>\n",
              "      <td>None</td>\n",
              "      <td>None</td>\n",
              "      <td>/organization/zippy-com-au-pty-ltd</td>\n",
              "      <td>None</td>\n",
              "      <td>None</td>\n",
              "      <td>None</td>\n",
              "      <td>None</td>\n",
              "      <td>None</td>\n",
              "      <td>1</td>\n",
              "    </tr>\n",
              "  </tbody>\n",
              "</table>\n",
              "<p>49445 rows × 24 columns</p>\n",
              "</div>\n",
              "      <button class=\"colab-df-convert\" onclick=\"convertToInteractive('df-7b187d58-eaaa-46ac-afc2-6b13198e4733')\"\n",
              "              title=\"Convert this dataframe to an interactive table.\"\n",
              "              style=\"display:none;\">\n",
              "        \n",
              "  <svg xmlns=\"http://www.w3.org/2000/svg\" height=\"24px\"viewBox=\"0 0 24 24\"\n",
              "       width=\"24px\">\n",
              "    <path d=\"M0 0h24v24H0V0z\" fill=\"none\"/>\n",
              "    <path d=\"M18.56 5.44l.94 2.06.94-2.06 2.06-.94-2.06-.94-.94-2.06-.94 2.06-2.06.94zm-11 1L8.5 8.5l.94-2.06 2.06-.94-2.06-.94L8.5 2.5l-.94 2.06-2.06.94zm10 10l.94 2.06.94-2.06 2.06-.94-2.06-.94-.94-2.06-.94 2.06-2.06.94z\"/><path d=\"M17.41 7.96l-1.37-1.37c-.4-.4-.92-.59-1.43-.59-.52 0-1.04.2-1.43.59L10.3 9.45l-7.72 7.72c-.78.78-.78 2.05 0 2.83L4 21.41c.39.39.9.59 1.41.59.51 0 1.02-.2 1.41-.59l7.78-7.78 2.81-2.81c.8-.78.8-2.07 0-2.86zM5.41 20L4 18.59l7.72-7.72 1.47 1.35L5.41 20z\"/>\n",
              "  </svg>\n",
              "      </button>\n",
              "      \n",
              "  <style>\n",
              "    .colab-df-container {\n",
              "      display:flex;\n",
              "      flex-wrap:wrap;\n",
              "      gap: 12px;\n",
              "    }\n",
              "\n",
              "    .colab-df-convert {\n",
              "      background-color: #E8F0FE;\n",
              "      border: none;\n",
              "      border-radius: 50%;\n",
              "      cursor: pointer;\n",
              "      display: none;\n",
              "      fill: #1967D2;\n",
              "      height: 32px;\n",
              "      padding: 0 0 0 0;\n",
              "      width: 32px;\n",
              "    }\n",
              "\n",
              "    .colab-df-convert:hover {\n",
              "      background-color: #E2EBFA;\n",
              "      box-shadow: 0px 1px 2px rgba(60, 64, 67, 0.3), 0px 1px 3px 1px rgba(60, 64, 67, 0.15);\n",
              "      fill: #174EA6;\n",
              "    }\n",
              "\n",
              "    [theme=dark] .colab-df-convert {\n",
              "      background-color: #3B4455;\n",
              "      fill: #D2E3FC;\n",
              "    }\n",
              "\n",
              "    [theme=dark] .colab-df-convert:hover {\n",
              "      background-color: #434B5C;\n",
              "      box-shadow: 0px 1px 3px 1px rgba(0, 0, 0, 0.15);\n",
              "      filter: drop-shadow(0px 1px 2px rgba(0, 0, 0, 0.3));\n",
              "      fill: #FFFFFF;\n",
              "    }\n",
              "  </style>\n",
              "\n",
              "      <script>\n",
              "        const buttonEl =\n",
              "          document.querySelector('#df-7b187d58-eaaa-46ac-afc2-6b13198e4733 button.colab-df-convert');\n",
              "        buttonEl.style.display =\n",
              "          google.colab.kernel.accessAllowed ? 'block' : 'none';\n",
              "\n",
              "        async function convertToInteractive(key) {\n",
              "          const element = document.querySelector('#df-7b187d58-eaaa-46ac-afc2-6b13198e4733');\n",
              "          const dataTable =\n",
              "            await google.colab.kernel.invokeFunction('convertToInteractive',\n",
              "                                                     [key], {});\n",
              "          if (!dataTable) return;\n",
              "\n",
              "          const docLinkHtml = 'Like what you see? Visit the ' +\n",
              "            '<a target=\"_blank\" href=https://colab.research.google.com/notebooks/data_table.ipynb>data table notebook</a>'\n",
              "            + ' to learn more about interactive tables.';\n",
              "          element.innerHTML = '';\n",
              "          dataTable['output_type'] = 'display_data';\n",
              "          await google.colab.output.renderOutput(dataTable, element);\n",
              "          const docLink = document.createElement('div');\n",
              "          docLink.innerHTML = docLinkHtml;\n",
              "          element.appendChild(docLink);\n",
              "        }\n",
              "      </script>\n",
              "    </div>\n",
              "  </div>\n",
              "  "
            ],
            "text/plain": [
              "         _c0                           permalink                  name  \\\n",
              "0          0                  /organization/1lay                  1Lay   \n",
              "1          1           /organization/24pagebooks           24PageBooks   \n",
              "2          2                  /organization/5min            5min Media   \n",
              "3          3          /organization/abpathfinder          ABPathfinder   \n",
              "4          4             /organization/acid-labs             Acid Labs   \n",
              "...      ...                                 ...                   ...   \n",
              "49440  49440               /organization/yieldmo               Yieldmo   \n",
              "49441  49441             /organization/youxinpai             Youxinpai   \n",
              "49442  49442        /organization/zeropercent-us        ZeroPercent.us   \n",
              "49443  49443                 /organization/zinch                 Zinch   \n",
              "49444  49444  /organization/zippy-com-au-pty-ltd  Zippy.com.au Pty LTD   \n",
              "\n",
              "      funding_total_usd     status country_code           city funding_rounds  \\\n",
              "0             1,70,000   operating         None           None              1   \n",
              "1               50,000      closed          USA      Rochester              1   \n",
              "2          1,28,00,000    acquired          USA       New York              3   \n",
              "3             9,60,000   operating          USA  Overland Park              3   \n",
              "4                  -     operating          USA   Santa Monica              1   \n",
              "...                 ...        ...          ...            ...            ...   \n",
              "49440      2,21,00,000   operating          USA       New York              3   \n",
              "49441      3,00,00,000   operating          CHN        Beijing              1   \n",
              "49442              -     operating          USA        Chicago              1   \n",
              "49443        54,86,842    acquired          USA           Orem              3   \n",
              "49444         2,00,000    acquired          AUS       Brisbane              1   \n",
              "\n",
              "      founded_year quarter_new  ...  \\\n",
              "0             2013          Q3  ...   \n",
              "1             2010          Q1  ...   \n",
              "2             2007          Q1  ...   \n",
              "3             2010          Q2  ...   \n",
              "4             2003          Q1  ...   \n",
              "...            ...         ...  ...   \n",
              "49440         2012          Q2  ...   \n",
              "49441         2011          Q3  ...   \n",
              "49442         2011          Q3  ...   \n",
              "49443         2007          Q1  ...   \n",
              "49444         None        None  ...   \n",
              "\n",
              "                                  investor_country_codes  \\\n",
              "0                                                   None   \n",
              "1                                                    FRA   \n",
              "2                                          USA, USA, USA   \n",
              "3                                          USA, USA, USA   \n",
              "4                                                   None   \n",
              "...                                                  ...   \n",
              "49440  USA, USA, USA, USA, USA, ISR, USA, USA, USA, U...   \n",
              "49441                                      CHN, USA, CHN   \n",
              "49442                                                USA   \n",
              "49443                                           USA, USA   \n",
              "49444                                               None   \n",
              "\n",
              "                                     funding_round_types total_raised_usd  \\\n",
              "0                                                   None             None   \n",
              "1                                                   seed             None   \n",
              "2                              venture, venture, venture             None   \n",
              "3                     venture, venture, venture, venture             None   \n",
              "4                                                   None             None   \n",
              "...                                                  ...              ...   \n",
              "49440  venture, venture, venture, venture, venture, v...             None   \n",
              "49441                 venture, venture, venture, venture             None   \n",
              "49442                                               seed             None   \n",
              "49443                            venture, venture, angel             None   \n",
              "49444                                               None             None   \n",
              "\n",
              "                            permalink_sub category_final  \\\n",
              "0                      /organization/1lay           None   \n",
              "1               /organization/24pagebooks           None   \n",
              "2                      /organization/5min           None   \n",
              "3              /organization/abpathfinder           None   \n",
              "4                 /organization/acid-labs           None   \n",
              "...                                   ...            ...   \n",
              "49440               /organization/yieldmo           None   \n",
              "49441             /organization/youxinpai           None   \n",
              "49442        /organization/zeropercent-us           None   \n",
              "49443                 /organization/zinch           None   \n",
              "49444  /organization/zippy-com-au-pty-ltd           None   \n",
              "\n",
              "                              perma investor_country_code  \\\n",
              "0                              None                  None   \n",
              "1         /organization/24pagebooks                   FRA   \n",
              "2                /organization/5min                   USA   \n",
              "3        /organization/abpathfinder                   USA   \n",
              "4                              None                  None   \n",
              "...                             ...                   ...   \n",
              "49440         /organization/yieldmo                   USA   \n",
              "49441       /organization/youxinpai                   CHN   \n",
              "49442  /organization/zeropercent-us                   USA   \n",
              "49443           /organization/zinch                   USA   \n",
              "49444                          None                  None   \n",
              "\n",
              "                         permaround funding_round_type labelacq  \n",
              "0                              None               None        0  \n",
              "1         /organization/24pagebooks               seed        0  \n",
              "2                /organization/5min            venture        1  \n",
              "3        /organization/abpathfinder            venture        0  \n",
              "4                              None               None        0  \n",
              "...                             ...                ...      ...  \n",
              "49440         /organization/yieldmo            venture        0  \n",
              "49441       /organization/youxinpai            venture        0  \n",
              "49442  /organization/zeropercent-us               seed        0  \n",
              "49443           /organization/zinch            venture        1  \n",
              "49444                          None               None        1  \n",
              "\n",
              "[49445 rows x 24 columns]"
            ]
          },
          "execution_count": 11,
          "metadata": {},
          "output_type": "execute_result"
        }
      ],
      "source": [
        "dfmaster1 = dfmaster1.toPandas()\n",
        "dfmaster1"
      ]
    },
    {
      "cell_type": "code",
      "execution_count": null,
      "metadata": {
        "id": "ASU37NVbh1LN"
      },
      "outputs": [],
      "source": [
        "# Replace NaN with mode for categorical variables\n",
        "dfmaster1['total_raised_usd'] = dfmaster1['total_raised_usd'].fillna(dfmaster1['total_raised_usd'].mode()[0])\n",
        "dfmaster1['time_to_first_funding'] = dfmaster1['time_to_first_funding'].fillna(dfmaster1['time_to_first_funding'].mode()[0])\n",
        "dfmaster1['founded_year'] = dfmaster1['founded_year'].fillna(dfmaster1['founded_year'].mode()[0])\n",
        "dfmaster1['age'] = dfmaster1['age'].fillna(dfmaster1['age'].mode()[0])\n",
        "dfmaster1['status'] = dfmaster1['status'].fillna(dfmaster1['status'].mode()[0])\n",
        "dfmaster1['country_code'] = dfmaster1['country_code'].fillna(dfmaster1['country_code'].mode()[0])\n",
        "dfmaster1['city'] = dfmaster1['city'].fillna(dfmaster1['city'].mode()[0])\n",
        "dfmaster1['quarter_new'] = dfmaster1['quarter_new'].fillna(dfmaster1['quarter_new'].mode()[0])\n",
        "dfmaster1['investor_country_codes'] = dfmaster1['investor_country_codes'].fillna(dfmaster1['investor_country_codes'].mode()[0])\n",
        "dfmaster1['funding_round_types'] = dfmaster1['funding_round_types'].fillna(dfmaster1['funding_round_types'].mode()[0])\n",
        "dfmaster1['permaround'] = dfmaster1['permaround'].fillna(dfmaster1['permaround'].mode()[0])\n",
        "dfmaster1['investor_country_code'] = dfmaster1['investor_country_code'].fillna(dfmaster1['investor_country_code'].mode()[0])\n",
        "dfmaster1['funding_round_type'] = dfmaster1['funding_round_type'].fillna(dfmaster1['funding_round_type'].mode()[0])\n",
        "dfmaster1['category_final'] = dfmaster1['category_final'].fillna(dfmaster1['category_final'].mode()[0])\n",
        "dfmaster1['perma'] = dfmaster1['perma'].fillna(dfmaster1['perma'].mode()[0])"
      ]
    },
    {
      "cell_type": "code",
      "execution_count": null,
      "metadata": {
        "colab": {
          "base_uri": "https://localhost:8080/"
        },
        "id": "wZyY7LbojbJ7",
        "outputId": "d0f0194d-ef1e-45cd-f39a-434b3366341b"
      },
      "outputs": [
        {
          "data": {
            "text/plain": [
              "_c0                       0\n",
              "permalink                 1\n",
              "name                      1\n",
              "funding_total_usd         1\n",
              "status                    0\n",
              "country_code              0\n",
              "city                      0\n",
              "funding_rounds            1\n",
              "founded_year              0\n",
              "quarter_new               0\n",
              "age                       0\n",
              "permalink_agg             1\n",
              "count_investor            1\n",
              "time_to_first_funding     0\n",
              "investor_country_codes    0\n",
              "funding_round_types       0\n",
              "total_raised_usd          0\n",
              "permalink_sub             1\n",
              "category_final            0\n",
              "perma                     0\n",
              "investor_country_code     0\n",
              "permaround                0\n",
              "funding_round_type        0\n",
              "labelacq                  0\n",
              "dtype: int64"
            ]
          },
          "execution_count": 13,
          "metadata": {},
          "output_type": "execute_result"
        }
      ],
      "source": [
        "# check for missing values \n",
        "dfmaster1.isnull().sum()"
      ]
    },
    {
      "cell_type": "code",
      "execution_count": null,
      "metadata": {
        "id": "9zAO9vMnp1JM"
      },
      "outputs": [],
      "source": [
        "# drop rows with missing values\n",
        "dfmaster1drop = dfmaster1.dropna()"
      ]
    },
    {
      "cell_type": "code",
      "execution_count": null,
      "metadata": {
        "colab": {
          "base_uri": "https://localhost:8080/"
        },
        "id": "yyf7mW3xqOWu",
        "outputId": "b0c2e42c-c98d-4abb-a9da-fd55252b78ca"
      },
      "outputs": [
        {
          "name": "stdout",
          "output_type": "stream",
          "text": [
            "_c0                       49444\n",
            "permalink                 49444\n",
            "name                      49444\n",
            "funding_total_usd         49444\n",
            "status                    49444\n",
            "country_code              49444\n",
            "city                      49444\n",
            "funding_rounds            49444\n",
            "founded_year              49444\n",
            "quarter_new               49444\n",
            "age                       49444\n",
            "permalink_agg             49444\n",
            "count_investor            49444\n",
            "time_to_first_funding     49444\n",
            "investor_country_codes    49444\n",
            "funding_round_types       49444\n",
            "total_raised_usd          49444\n",
            "permalink_sub             49444\n",
            "category_final            49444\n",
            "perma                     49444\n",
            "investor_country_code     49444\n",
            "permaround                49444\n",
            "funding_round_type        49444\n",
            "labelacq                  49444\n",
            "dtype: int64\n"
          ]
        }
      ],
      "source": [
        "print(dfmaster1drop.count())"
      ]
    },
    {
      "cell_type": "code",
      "execution_count": null,
      "metadata": {
        "colab": {
          "base_uri": "https://localhost:8080/"
        },
        "id": "4hQFr6Ymqsya",
        "outputId": "9d0274de-74cf-4c82-a0e8-fd0347a88e2c"
      },
      "outputs": [
        {
          "name": "stderr",
          "output_type": "stream",
          "text": [
            "/usr/local/lib/python3.8/dist-packages/pyspark/sql/context.py:112: FutureWarning: Deprecated in 3.0.0. Use SparkSession.builder.getOrCreate() instead.\n",
            "  warnings.warn(\n"
          ]
        }
      ],
      "source": [
        "sql = SQLContext(spark)"
      ]
    },
    {
      "cell_type": "code",
      "execution_count": null,
      "metadata": {
        "id": "1aCy3ZSIrCsT"
      },
      "outputs": [],
      "source": [
        "dfmaster2 = sql.createDataFrame(dfmaster1drop)"
      ]
    },
    {
      "cell_type": "code",
      "execution_count": null,
      "metadata": {
        "colab": {
          "base_uri": "https://localhost:8080/",
          "height": 86
        },
        "id": "bfy-lv0nrSAk",
        "outputId": "eda5883f-c8e1-40ba-86aa-6b8012816b22"
      },
      "outputs": [
        {
          "data": {
            "text/plain": [
              "DataFrame[_c0: string, permalink: string, name: string, funding_total_usd: string, status: string, country_code: string, city: string, funding_rounds: string, founded_year: string, quarter_new: string, age: string, permalink_agg: string, count_investor: string, time_to_first_funding: string, investor_country_codes: string, funding_round_types: string, total_raised_usd: string, permalink_sub: string, category_final: string, perma: string, investor_country_code: string, permaround: string, funding_round_type: string, labelacq: string]"
            ]
          },
          "metadata": {},
          "output_type": "display_data"
        }
      ],
      "source": [
        "display(dfmaster2)"
      ]
    },
    {
      "cell_type": "markdown",
      "metadata": {
        "id": "bBzVi9rNQmhv"
      },
      "source": [
        "String indexer, one hot encoder and casting to numerics"
      ]
    },
    {
      "cell_type": "code",
      "execution_count": null,
      "metadata": {
        "id": "z3w-8St8QkEA"
      },
      "outputs": [],
      "source": [
        "# create index for categorical variables\n",
        "# use pipline to apply indexer\n",
        "list1 = [\"country_code\",\"city\",\"quarter_new\",\"investor_country_code\",\"funding_round_type\",\"category_final\"]\n",
        "indexers = [StringIndexer(inputCol=column, outputCol=column+\"_index\").fit(dfmaster2) for column in list1]\n",
        "pipelineindex = Pipeline(stages=indexers).fit(dfmaster2)\n",
        "dfmasternew = pipelineindex.transform(dfmaster2)"
      ]
    },
    {
      "cell_type": "code",
      "execution_count": null,
      "metadata": {
        "id": "ofJqkkyJQqyL"
      },
      "outputs": [],
      "source": [
        "# convert string to double for numerical variables\n",
        "dfmasternew = dfmasternew.\\\n",
        "  withColumn(\"numeric_funding_rounds\", dfmasternew[\"funding_rounds\"].cast(\"int\")).\\\n",
        "  withColumn(\"numeric_age\", dfmasternew[\"age\"].cast(\"int\")).\\\n",
        "  withColumn(\"numeric_count_investor\", dfmasternew[\"count_investor\"].cast(\"int\")).\\\n",
        "  withColumn(\"numeric_time_to_first_funding\", dfmasternew[\"time_to_first_funding\"].cast(\"int\")).\\\n",
        "  withColumn(\"numeric_total_raised_usd\", dfmasternew[\"total_raised_usd\"].cast(\"int\")).\\\n",
        "  withColumn(\"label\", dfmasternew[\"labelacq\"].cast(\"int\"))"
      ]
    },
    {
      "cell_type": "code",
      "execution_count": null,
      "metadata": {
        "id": "v_vGMKkl2vor"
      },
      "outputs": [],
      "source": [
        "dfmasternew = dfmasternew.\\\n",
        "  withColumn(\"funding_round_type\", dfmasternew[\"funding_round_type\"].cast(\"double\")).\\\n",
        "  withColumn(\"country_code_index\", dfmasternew[\"country_code_index\"].cast(\"double\")).\\\n",
        "  withColumn(\"city_index\", dfmasternew[\"city_index\"].cast(\"double\")).\\\n",
        "  withColumn(\"quarter_new_index\", dfmasternew[\"quarter_new_index\"].cast(\"double\")).\\\n",
        "  withColumn(\"labelacq\", dfmasternew[\"labelacq\"].cast(\"double\"))"
      ]
    },
    {
      "cell_type": "code",
      "execution_count": null,
      "metadata": {
        "id": "M9frd6bGQ0h7"
      },
      "outputs": [],
      "source": [
        "# save\n",
        "dfone = dfmasternew"
      ]
    },
    {
      "cell_type": "code",
      "execution_count": null,
      "metadata": {
        "colab": {
          "base_uri": "https://localhost:8080/",
          "height": 139
        },
        "id": "waO0Uf_aQ5Fr",
        "outputId": "c801ec92-bfdc-449b-e584-de2b8683167a"
      },
      "outputs": [
        {
          "data": {
            "text/plain": [
              "DataFrame[_c0: string, permalink: string, name: string, funding_total_usd: string, status: string, country_code: string, city: string, funding_rounds: string, founded_year: string, quarter_new: string, age: string, permalink_agg: string, count_investor: string, time_to_first_funding: string, investor_country_codes: string, funding_round_types: string, total_raised_usd: string, permalink_sub: string, category_final: string, perma: string, investor_country_code: string, permaround: string, funding_round_type: double, labelacq: double, country_code_index: double, city_index: double, quarter_new_index: double, investor_country_code_index: double, funding_round_type_index: double, category_final_index: double, numeric_funding_rounds: int, numeric_age: int, numeric_count_investor: int, numeric_time_to_first_funding: int, numeric_total_raised_usd: int, label: int]"
            ]
          },
          "metadata": {},
          "output_type": "display_data"
        }
      ],
      "source": [
        "display(dfone)"
      ]
    },
    {
      "cell_type": "code",
      "execution_count": null,
      "metadata": {
        "colab": {
          "base_uri": "https://localhost:8080/"
        },
        "id": "b22orTWg_Ep8",
        "outputId": "96399e12-12ed-491a-fa95-7c742419f645"
      },
      "outputs": [
        {
          "name": "stdout",
          "output_type": "stream",
          "text": [
            "49444\n"
          ]
        }
      ],
      "source": [
        "print(dfone.count())"
      ]
    },
    {
      "cell_type": "code",
      "execution_count": null,
      "metadata": {
        "colab": {
          "base_uri": "https://localhost:8080/"
        },
        "id": "z-ocjzD4Q6Yb",
        "outputId": "23ce4d7e-020b-45de-d789-1a411edc3e59"
      },
      "outputs": [
        {
          "data": {
            "text/plain": [
              "['country_code_index',\n",
              " 'city_index',\n",
              " 'quarter_new_index',\n",
              " 'investor_country_code_index',\n",
              " 'funding_round_type_index',\n",
              " 'category_final_index']"
            ]
          },
          "execution_count": 25,
          "metadata": {},
          "output_type": "execute_result"
        }
      ],
      "source": [
        "# list of index columns of categorical variables for the onehotencoder\n",
        "list2 = dfone.columns[24:30]\n",
        "list2"
      ]
    },
    {
      "cell_type": "code",
      "execution_count": null,
      "metadata": {
        "id": "fbl2eaDKRFwz"
      },
      "outputs": [],
      "source": [
        "# create sparse matrix of indexed categorical columns\n",
        "# use pipline to apply the encoder\n",
        "onehotencoder_stages = [OneHotEncoder(inputCol=c, outputCol='onehotencoded_' + c) for c in list2]\n",
        "pipelineonehot = Pipeline(stages=onehotencoder_stages)\n",
        "pipeline_mode = pipelineonehot.fit(dfone)\n",
        "df_coded = pipeline_mode.transform(dfone)"
      ]
    },
    {
      "cell_type": "code",
      "execution_count": null,
      "metadata": {
        "colab": {
          "base_uri": "https://localhost:8080/"
        },
        "id": "18vlEgxt3och",
        "outputId": "b3e2f28c-f30c-45ec-be0f-28ef5bf4ee93"
      },
      "outputs": [
        {
          "name": "stdout",
          "output_type": "stream",
          "text": [
            "+---+--------------------+--------------------+-----------------+---------+------------+-------------+--------------+------------+-----------+----+--------------------+--------------+---------------------+----------------------+--------------------+----------------+--------------------+--------------+--------------------+---------------------+--------------------+------------------+--------+------------------+----------+-----------------+---------------------------+------------------------+--------------------+----------------------+-----------+----------------------+-----------------------------+------------------------+-----+--------------------------------+------------------------+-------------------------------+-----------------------------------------+--------------------------------------+----------------------------------+\n",
            "|_c0|           permalink|                name|funding_total_usd|   status|country_code|         city|funding_rounds|founded_year|quarter_new| age|       permalink_agg|count_investor|time_to_first_funding|investor_country_codes| funding_round_types|total_raised_usd|       permalink_sub|category_final|               perma|investor_country_code|          permaround|funding_round_type|labelacq|country_code_index|city_index|quarter_new_index|investor_country_code_index|funding_round_type_index|category_final_index|numeric_funding_rounds|numeric_age|numeric_count_investor|numeric_time_to_first_funding|numeric_total_raised_usd|label|onehotencoded_country_code_index|onehotencoded_city_index|onehotencoded_quarter_new_index|onehotencoded_investor_country_code_index|onehotencoded_funding_round_type_index|onehotencoded_category_final_index|\n",
            "+---+--------------------+--------------------+-----------------+---------+------------+-------------+--------------+------------+-----------+----+--------------------+--------------+---------------------+----------------------+--------------------+----------------+--------------------+--------------+--------------------+---------------------+--------------------+------------------+--------+------------------+----------+-----------------+---------------------------+------------------------+--------------------+----------------------+-----------+----------------------+-----------------------------+------------------------+-----+--------------------------------+------------------------+-------------------------------+-----------------------------------------+--------------------------------------+----------------------------------+\n",
            "|  0|  /organization/1lay|                1Lay|        1,70,000 |operating|         USA|San Francisco|             1|        2013|         Q3| 1.5|  /organization/1lay|           0.0|                  0.0|                   USA|                seed|           118.0|  /organization/1lay|          None| /organization/prysm|                  USA| /organization/prysm|              null|     0.0|               0.0|       0.0|              2.0|                        0.0|                     0.0|                 0.0|                     1|          1|                     0|                            0|                     118|    0|                 (114,[0],[1.0])|        (4187,[0],[1.0])|                  (3,[2],[1.0])|                           (77,[0],[1.0])|                        (12,[0],[1.0])|                     (1,[0],[1.0])|\n",
            "|  1|/organization/24p...|         24PageBooks|          50,000 |   closed|         USA|    Rochester|             1|        2010|         Q1| 5.0|/organization/24p...|           1.0|                 1.25|                   FRA|                seed|           118.0|/organization/24p...|          None|/organization/24p...|                  FRA|/organization/24p...|              null|     0.0|               0.0|     156.0|              0.0|                        2.0|                     1.0|                 0.0|                     1|          5|                     1|                            1|                     118|    0|                 (114,[0],[1.0])|      (4187,[156],[1.0])|                  (3,[0],[1.0])|                           (77,[2],[1.0])|                        (12,[1],[1.0])|                     (1,[0],[1.0])|\n",
            "|  2|  /organization/5min|          5min Media|     1,28,00,000 | acquired|         USA|     New York|             3|        2007|         Q1| 8.0|  /organization/5min|           3.0|                 0.75|         USA, USA, USA|venture, venture,...|           118.0|  /organization/5min|          None|  /organization/5min|                  USA|  /organization/5min|              null|     1.0|               0.0|       1.0|              0.0|                        0.0|                     0.0|                 0.0|                     3|          8|                     3|                            0|                     118|    1|                 (114,[0],[1.0])|        (4187,[1],[1.0])|                  (3,[0],[1.0])|                           (77,[0],[1.0])|                        (12,[0],[1.0])|                     (1,[0],[1.0])|\n",
            "|  3|/organization/abp...|        ABPathfinder|        9,60,000 |operating|         USA|Overland Park|             3|        2010|         Q2|4.75|/organization/abp...|           4.0|                  2.5|         USA, USA, USA|venture, venture,...|           118.0|/organization/abp...|          None|/organization/abp...|                  USA|/organization/abp...|              null|     0.0|               0.0|     282.0|              1.0|                        0.0|                     0.0|                 0.0|                     3|          4|                     4|                            2|                     118|    0|                 (114,[0],[1.0])|      (4187,[282],[1.0])|                  (3,[1],[1.0])|                           (77,[0],[1.0])|                        (12,[0],[1.0])|                     (1,[0],[1.0])|\n",
            "|  4|/organization/aci...|           Acid Labs|             -   |operating|         USA| Santa Monica|             1|        2003|         Q1|12.0|/organization/aci...|           0.0|                  0.0|                   USA|                seed|           118.0|/organization/aci...|          None| /organization/prysm|                  USA| /organization/prysm|              null|     0.0|               0.0|      26.0|              0.0|                        0.0|                     0.0|                 0.0|                     1|         12|                     0|                            0|                     118|    0|                 (114,[0],[1.0])|       (4187,[26],[1.0])|                  (3,[0],[1.0])|                           (77,[0],[1.0])|                        (12,[0],[1.0])|                     (1,[0],[1.0])|\n",
            "|  5|/organization/acl...|Aclaris Therapeutics|     4,20,00,000 |operating|         USA|      Malvern|             2|        2012|         Q1| 3.0|/organization/acl...|           6.0|                  0.0|  USA, USA, USA, US...|venture, venture,...|           118.0|/organization/acl...|          None|/organization/acl...|                  USA|/organization/acl...|              null|     0.0|               0.0|     217.0|              0.0|                        0.0|                     0.0|                 0.0|                     2|          3|                     6|                            0|                     118|    0|                 (114,[0],[1.0])|      (4187,[217],[1.0])|                  (3,[0],[1.0])|                           (77,[0],[1.0])|                        (12,[0],[1.0])|                     (1,[0],[1.0])|\n",
            "|  6|/organization/ada...|          Adaptivity|     2,48,45,955 | acquired|         USA|    Charlotte|             6|        2007|         Q1| 8.0|/organization/ada...|           9.0|                 3.75|  USA, USA, USA, US...|venture, venture,...|           118.0|/organization/ada...|          None|/organization/ada...|                  USA|/organization/ada...|              null|     1.0|               0.0|      92.0|              0.0|                        0.0|                     0.0|                 0.0|                     6|          8|                     9|                            3|                     118|    1|                 (114,[0],[1.0])|       (4187,[92],[1.0])|                  (3,[0],[1.0])|                           (77,[0],[1.0])|                        (12,[0],[1.0])|                     (1,[0],[1.0])|\n",
            "|  7|/organization/aer...| Aerpio Therapeutics|     6,30,00,000 |operating|         USA|   Cincinnati|             4|        2011|         Q1| 4.0|/organization/aer...|          16.0|                  1.5|  USA, USA, CHE, US...|venture, venture,...|           118.0|/organization/aer...|          None|/organization/aer...|                  USA|/organization/aer...|              null|     0.0|               0.0|      72.0|              0.0|                        0.0|                     0.0|                 0.0|                     4|          4|                    16|                            1|                     118|    0|                 (114,[0],[1.0])|       (4187,[72],[1.0])|                  (3,[0],[1.0])|                           (77,[0],[1.0])|                        (12,[0],[1.0])|                     (1,[0],[1.0])|\n",
            "|  8| /organization/aider|               Aider|          44,645 |operating|         KOR|San Francisco|             1|        2012|         Q2|2.75| /organization/aider|           2.0|                 1.25|              KOR, KOR|    venture, venture|           118.0| /organization/aider|          None| /organization/aider|                  KOR| /organization/aider|              null|     0.0|              19.0|       0.0|              1.0|                       20.0|                     0.0|                 0.0|                     1|          2|                     2|                            1|                     118|    0|                (114,[19],[1.0])|        (4187,[0],[1.0])|                  (3,[1],[1.0])|                          (77,[20],[1.0])|                        (12,[0],[1.0])|                     (1,[0],[1.0])|\n",
            "|  9|/organization/alt...|            Altobeam|     2,60,00,000 |operating|         CHN|      Beijing|             4|        2007|         Q2|7.75|/organization/alt...|          14.0|                 1.75|  USA, USA, USA, CH...|venture, venture,...|           118.0|/organization/alt...|          None|/organization/alt...|                  USA|/organization/alt...|              null|     0.0|               3.0|      11.0|              1.0|                        0.0|                     0.0|                 0.0|                     4|          7|                    14|                            1|                     118|    0|                 (114,[3],[1.0])|       (4187,[11],[1.0])|                  (3,[1],[1.0])|                           (77,[0],[1.0])|                        (12,[0],[1.0])|                     (1,[0],[1.0])|\n",
            "| 10|/organization/amt...|AMTT Digital Serv...|     1,00,00,000 |operating|         CHN|      Beijing|             1|        2008|         Q1| 7.0|/organization/amt...|           1.0|                  1.0|                   HKG|             venture|           118.0|/organization/amt...|          None|/organization/amt...|                  HKG|/organization/amt...|              null|     0.0|               3.0|      11.0|              0.0|                       14.0|                     0.0|                 0.0|                     1|          7|                     1|                            1|                     118|    0|                 (114,[3],[1.0])|       (4187,[11],[1.0])|                  (3,[0],[1.0])|                          (77,[14],[1.0])|                        (12,[0],[1.0])|                     (1,[0],[1.0])|\n",
            "| 11|/organization/ana...|       Analyte Logic|        7,00,000 |operating|         USA|       Denver|             1|        2008|         Q1| 7.0|/organization/ana...|           0.0|                  0.0|                   USA|                seed|           118.0|/organization/ana...|          None| /organization/prysm|                  USA| /organization/prysm|              null|     0.0|               0.0|      35.0|              0.0|                        0.0|                     0.0|                 0.0|                     1|          7|                     0|                            0|                     118|    0|                 (114,[0],[1.0])|       (4187,[35],[1.0])|                  (3,[0],[1.0])|                           (77,[0],[1.0])|                        (12,[0],[1.0])|                     (1,[0],[1.0])|\n",
            "| 12|/organization/apo...|            Aposense|     2,23,00,000 |operating|         ISR|  Petah Tiqva|             3|        1996|         Q1|19.0|/organization/apo...|          12.0|                10.75|  USA, ISR, USA, IS...|venture, venture,...|           118.0|/organization/apo...|          None|/organization/apo...|                  ISR|/organization/apo...|              null|     0.0|               7.0|     265.0|              0.0|                        8.0|                     0.0|                 0.0|                     3|         19|                    12|                           10|                     118|    0|                 (114,[7],[1.0])|      (4187,[265],[1.0])|                  (3,[0],[1.0])|                           (77,[8],[1.0])|                        (12,[0],[1.0])|                     (1,[0],[1.0])|\n",
            "| 13|/organization/arg...|             arGEN-X|     6,19,49,000 |operating|         NLD|    Rotterdam|             3|        2012|         Q1| 3.0|/organization/arg...|          18.0|                  0.0|  FRA, USA, USA, NL...|venture, venture,...|           118.0|/organization/arg...|          None|/organization/arg...|                  NLD|/organization/arg...|              null|     0.0|              13.0|     307.0|              0.0|                       19.0|                     0.0|                 0.0|                     3|          3|                    18|                            0|                     118|    0|                (114,[13],[1.0])|      (4187,[307],[1.0])|                  (3,[0],[1.0])|                          (77,[19],[1.0])|                        (12,[0],[1.0])|                     (1,[0],[1.0])|\n",
            "| 14|/organization/art...|     Articulinx Inc.|       22,00,000 |operating|         USA|    Cupertino|             1|        2007|         Q1| 8.0|/organization/art...|           1.0|                 5.75|                   USA|             venture|           118.0|/organization/art...|          None|/organization/art...|                  USA|/organization/art...|              null|     0.0|               0.0|      88.0|              0.0|                        0.0|                     0.0|                 0.0|                     1|          8|                     1|                            5|                     118|    0|                 (114,[0],[1.0])|       (4187,[88],[1.0])|                  (3,[0],[1.0])|                           (77,[0],[1.0])|                        (12,[0],[1.0])|                     (1,[0],[1.0])|\n",
            "| 15|/organization/ast...|  Aster Data Systems|     5,30,00,000 | acquired|         USA|   San Carlos|             4|        2005|         Q3| 9.5|/organization/ast...|          18.0|                 0.25|  USA, USA, USA, US...|venture, venture,...|           118.0|/organization/ast...|          None|/organization/ast...|                  USA|/organization/ast...|              null|     1.0|               0.0|     150.0|              2.0|                        0.0|                     0.0|                 0.0|                     4|          9|                    18|                            0|                     118|    1|                 (114,[0],[1.0])|      (4187,[150],[1.0])|                  (3,[2],[1.0])|                           (77,[0],[1.0])|                        (12,[0],[1.0])|                     (1,[0],[1.0])|\n",
            "| 16|/organization/atm...|          Atmospheir|       14,00,000 |operating|         USA|     Brooklyn|             2|        2011|         Q4|3.25|/organization/atm...|           0.0|                  0.0|                   USA|                seed|           118.0|/organization/atm...|          None| /organization/prysm|                  USA| /organization/prysm|              null|     0.0|               0.0|      49.0|              3.0|                        0.0|                     0.0|                 0.0|                     2|          3|                     0|                            0|                     118|    0|                 (114,[0],[1.0])|       (4187,[49],[1.0])|                      (3,[],[])|                           (77,[0],[1.0])|                        (12,[0],[1.0])|                     (1,[0],[1.0])|\n",
            "| 17|/organization/att...|        Attune Foods|       50,00,000 |operating|         USA|San Francisco|             1|        2006|         Q1| 9.0|/organization/att...|           0.0|                  0.0|                   USA|                seed|           118.0|/organization/att...|          None| /organization/prysm|                  USA| /organization/prysm|              null|     0.0|               0.0|       0.0|              0.0|                        0.0|                     0.0|                 0.0|                     1|          9|                     0|                            0|                     118|    0|                 (114,[0],[1.0])|        (4187,[0],[1.0])|                  (3,[0],[1.0])|                           (77,[0],[1.0])|                        (12,[0],[1.0])|                     (1,[0],[1.0])|\n",
            "| 18|/organization/atvenu|              atVenu|       11,00,000 |operating|         USA|    Sausalito|             1|        2012|         Q1| 3.0|/organization/atvenu|           1.0|                  2.0|                   CAN|                seed|           118.0|/organization/atvenu|          None|/organization/atvenu|                  CAN|/organization/atvenu|              null|     0.0|               0.0|     349.0|              0.0|                        6.0|                     1.0|                 0.0|                     1|          3|                     1|                            2|                     118|    0|                 (114,[0],[1.0])|      (4187,[349],[1.0])|                  (3,[0],[1.0])|                           (77,[6],[1.0])|                        (12,[1],[1.0])|                     (1,[0],[1.0])|\n",
            "| 19| /organization/avast|      AVAST Software|    10,00,00,000 |operating|         CZE|       Prague|             2|        1988|         Q1|27.0| /organization/avast|           2.0|                 22.5|              GBR, USA|private_equity, p...|           118.0| /organization/avast|          None| /organization/avast|                  USA| /organization/avast|              null|     0.0|              37.0|     212.0|              0.0|                        0.0|                     4.0|                 0.0|                     2|         27|                     2|                           22|                     118|    0|                (114,[37],[1.0])|      (4187,[212],[1.0])|                  (3,[0],[1.0])|                           (77,[0],[1.0])|                        (12,[4],[1.0])|                     (1,[0],[1.0])|\n",
            "+---+--------------------+--------------------+-----------------+---------+------------+-------------+--------------+------------+-----------+----+--------------------+--------------+---------------------+----------------------+--------------------+----------------+--------------------+--------------+--------------------+---------------------+--------------------+------------------+--------+------------------+----------+-----------------+---------------------------+------------------------+--------------------+----------------------+-----------+----------------------+-----------------------------+------------------------+-----+--------------------------------+------------------------+-------------------------------+-----------------------------------------+--------------------------------------+----------------------------------+\n",
            "only showing top 20 rows\n",
            "\n"
          ]
        }
      ],
      "source": [
        "df_coded.show()"
      ]
    },
    {
      "cell_type": "markdown",
      "metadata": {
        "id": "FUEDzSq13rsG"
      },
      "source": [
        "\n",
        "Data split, defining vector assemblers & standard scaler and creating labellist"
      ]
    },
    {
      "cell_type": "code",
      "execution_count": null,
      "metadata": {
        "id": "ZcsTHOZr3vTD"
      },
      "outputs": [],
      "source": [
        "# split dataset into training, validaiton and testing dataset\n",
        "training_df, validation_df, testing_df = df_coded.randomSplit([0.6, 0.3, 0.1])"
      ]
    },
    {
      "cell_type": "code",
      "execution_count": null,
      "metadata": {
        "colab": {
          "base_uri": "https://localhost:8080/"
        },
        "id": "o9LmQ1xN30F9",
        "outputId": "f17ab159-1dcf-472e-d12b-7f820a189471"
      },
      "outputs": [
        {
          "data": {
            "text/plain": [
              "['numeric_funding_rounds',\n",
              " 'numeric_age',\n",
              " 'numeric_count_investor',\n",
              " 'numeric_time_to_first_funding',\n",
              " 'numeric_total_raised_usd']"
            ]
          },
          "execution_count": 29,
          "metadata": {},
          "output_type": "execute_result"
        }
      ],
      "source": [
        "training_df.columns[30:35]"
      ]
    },
    {
      "cell_type": "code",
      "execution_count": null,
      "metadata": {
        "colab": {
          "base_uri": "https://localhost:8080/"
        },
        "id": "ezy5qwM84oTe",
        "outputId": "74e2d05e-7071-46ca-bc84-6be4b161a1b6"
      },
      "outputs": [
        {
          "data": {
            "text/plain": [
              "['onehotencoded_country_code_index',\n",
              " 'onehotencoded_city_index',\n",
              " 'onehotencoded_quarter_new_index',\n",
              " 'onehotencoded_investor_country_code_index',\n",
              " 'onehotencoded_funding_round_type_index',\n",
              " 'onehotencoded_category_final_index']"
            ]
          },
          "execution_count": 30,
          "metadata": {},
          "output_type": "execute_result"
        }
      ],
      "source": [
        "training_df.columns[36:42]"
      ]
    },
    {
      "cell_type": "code",
      "execution_count": null,
      "metadata": {
        "id": "oUeZlYsO5Haw"
      },
      "outputs": [],
      "source": [
        "# define vector assembler with the features for the modelling\n",
        "vanum = VectorAssembler(). \\\n",
        "      setInputCols(training_df.columns[30:35]). \\\n",
        "      setOutputCol('features_nonstd')"
      ]
    },
    {
      "cell_type": "code",
      "execution_count": null,
      "metadata": {
        "id": "oTA1QXoP5LpN"
      },
      "outputs": [],
      "source": [
        "# define vector assembler with the features for the modelling\n",
        "vacate = VectorAssembler(). \\\n",
        "      setInputCols(training_df.columns[36:42]). \\\n",
        "      setOutputCol('featurescate')"
      ]
    },
    {
      "cell_type": "code",
      "execution_count": null,
      "metadata": {
        "id": "U38mX6ex5OIV"
      },
      "outputs": [],
      "source": [
        "va = VectorAssembler(). \\\n",
        "      setInputCols(['featuresnum','featurescate']). \\\n",
        "      setOutputCol('features')"
      ]
    },
    {
      "cell_type": "code",
      "execution_count": null,
      "metadata": {
        "id": "WXfCTaHu5QkA"
      },
      "outputs": [],
      "source": [
        "std = feature.StandardScaler(withMean=True, withStd=True).setInputCol('features_nonstd').setOutputCol('featuresnum')"
      ]
    },
    {
      "cell_type": "code",
      "execution_count": null,
      "metadata": {
        "id": "SSogkbno5UBy"
      },
      "outputs": [],
      "source": [
        "# suffix for investor country code because intersection with county_code of  the companies\n",
        "invcc = ['{}_{}'.format(a, \"investor\") for a in indexers[3].labels]"
      ]
    },
    {
      "cell_type": "code",
      "execution_count": null,
      "metadata": {
        "id": "Xh_gzS3f5XDD"
      },
      "outputs": [],
      "source": [
        "# define labellist by using the indexer stages for displaying the weights & loadings\n",
        "labellist = training_df.columns[30:35] + indexers[0].labels + indexers[1].labels + indexers[2].labels + invcc + indexers[4].labels + indexers[5].labels"
      ]
    },
    {
      "cell_type": "code",
      "execution_count": null,
      "metadata": {
        "colab": {
          "base_uri": "https://localhost:8080/"
        },
        "id": "wi6qlUeU5hq-",
        "outputId": "4d6fd010-0cbd-4cd7-ce98-82ec52efc773"
      },
      "outputs": [
        {
          "name": "stdout",
          "output_type": "stream",
          "text": [
            "null dummy for onehotencoded_country_code_index\n",
            "115\n",
            "['USA', 'GBR', 'CAN', 'CHN', 'DEU', 'FRA', 'IND', 'ISR', 'ESP', 'RUS', 'SWE', 'AUS', 'ITA', 'NLD', 'IRL', 'SGP', 'BRA', 'CHL', 'JPN', 'KOR', 'CHE', 'DNK', 'FIN', 'ARG', 'BEL', 'HKG', 'TUR', 'AUT', 'NOR', 'POL', 'MEX', 'PRT', 'BGR', 'ARE', 'NZL', 'IDN', 'ZAF', 'CZE', 'MYS', 'UKR', 'EST', 'HUN', 'TWN', 'THA', 'COL', 'PHL', 'GRC', 'LTU', 'PER', 'NGA', 'KEN', 'EGY', 'LUX', 'ROM', 'VNM', 'DZA', 'JOR', 'PAK', 'ISL', 'SVK', 'LBN', 'CYP', 'LVA', 'URY', 'CYM', 'GHA', 'SVN', 'KHM', 'SRB', 'UGA', 'HRV', 'BGD', 'SAU', 'TZA', 'CRI', 'PAN', 'BMU', 'BWA', 'GTM', 'AZE', 'BHR', 'BLR', 'DOM', 'MAR', 'MLT', 'SLV', 'TUN', 'ARM', 'BHS', 'CMR', 'ECU', 'GIB', 'KWT', 'LAO', 'MDA', 'MKD', 'MMR', 'NIC', 'NPL', 'ALB', 'BRN', 'CIV', 'JAM', 'JEY', 'LIE', 'MAF', 'MCO', 'MOZ', 'MUS', 'OMN', 'SOM', 'SYC', 'TTO', 'UZB', 'ZWE']\n",
            "null dummy for onehotencoded_city_index\n",
            "['San Francisco', 'New York', 'London', 'Palo Alto', 'Austin', 'Cambridge', 'Seattle', 'Chicago', 'Los Angeles', 'Mountain View', 'San Diego', 'Beijing', 'Boston', 'Paris', 'Toronto', 'San Jose', 'Sunnyvale', 'Berlin', 'Atlanta', 'Santa Clara', 'Singapore', 'San Mateo', 'Moscow', 'Santiago', 'Dublin', 'Redwood City', 'Santa Monica', 'Shanghai', 'Vancouver', 'Tel Aviv', 'Menlo Park', 'Bangalore', 'Tokyo', 'Seoul', 'Portland', 'Denver', 'Houston', 'Pittsburgh', 'Barcelona', 'Dallas', 'Irvine', 'Boulder', 'Washington', 'Madrid', 'Mumbai', 'Nashville', 'Philadelphia', 'Waltham', 'Montr�al', 'Brooklyn', 'Miami', 'Amsterdam', 'Las Vegas', 'Bellevue', 'Buenos Aires', 'Cleveland', 'S�o Paulo', 'Minneapolis', 'Scottsdale', 'Salt Lake City', 'Stockholm', 'Durham', 'Fremont', 'Copenhagen', 'Helsinki', 'Indianapolis', 'Munich', 'Hong Kong', 'St Louis', 'Vienna', 'Shenzhen', 'Baltimore', 'Cincinnati', 'Raleigh', 'Sydney', 'Madison', 'New Delhi', 'Ottawa', 'Ann Arbor', 'Columbus', 'Milan', 'Berkeley', 'Istanbul', 'Lexington', 'Tampa', 'Burlington', 'Carlsbad', 'Fayetteville', 'Cupertino', 'Oakland', 'San Antonio', 'Reston', 'Charlotte', 'Memphis', 'Providence', 'Santa Barbara', 'Calgary', 'Hamburg', 'Campbell', 'Rockville', 'Bethesda', 'Dubai', 'Louisville', 'Pasadena', 'Plano', 'Richmond', 'Birmingham', 'Boca Raton', 'Gurgaon', 'Melbourne', 'Phoenix', 'South San Francisco', 'Wilmington', 'Edinburgh', 'Manchester', 'Pleasanton', 'Burlingame', 'Los Gatos', 'Z�rich', 'Orlando', 'Valencia', 'Arlington', 'Chennai', 'Los Altos', 'Newark', 'Redmond', 'Woburn', 'Columbia', 'La Jolla', 'Hyderabad', 'Mclean', 'Sofia', 'Newton', 'Fort Lauderdale', 'Milpitas', 'Omaha', 'Culver City', 'Emeryville', 'Albuquerque', 'Aliso Viejo', 'Alpharetta', 'Herzliya', 'Tucson', 'Kirkland', 'Detroit', 'Morrisville', 'New Haven', 'Princeton', 'Beverly Hills', 'Provo', 'San Carlos', 'Chattanooga', 'Greenville', 'Mexico City', 'Oslo', 'Richardson', 'Rochester', 'Brentwood', 'Jakarta', 'Newport Beach', 'Bedford', 'Venice', 'West Hollywood', 'Charlottesville', 'Cologne', 'Foster City', 'Franklin', 'Honolulu', 'Jerusalem', 'Rio De Janeiro', 'Guangzhou', 'Saint Paul', 'Hangzhou', 'Little Rock', 'Lucerne Valley', 'Stamford', 'Waterloo', 'Wayne', 'Herndon', 'San Ramon', 'Buffalo', 'El Segundo', 'Oxford', 'Budapest', 'Irles', 'Sacramento', 'Warsaw', 'Liverpool', 'Marlborough', 'New Orleans', 'Ramat Gan', 'Tallinn', '�an', 'Bristol', 'Cape Town', 'Espoo', 'Greenwood Village', 'Jacksonville', 'Jersey City', 'Noida', 'Quebec', 'Saint Petersburg', 'Brisbane', 'Broomfield', 'Colorado Springs', 'Halifax', 'Kansas City', 'Andover', 'Athens', 'Boise', 'Edmonton', 'Knoxville', 'Prague', 'Rome', 'Burnaby', 'Geneva', 'Irving', 'Malvern', 'Milwaukee', 'Oklahoma City', 'Sheffield', 'St. Petersburg', 'Alexandria', 'Bangkok', 'Bogot�', 'Brussels', 'Hayward', 'Plymouth', 'Pune', 'Taipei', 'Tempe', 'Vilnius', 'Champaign', 'Englewood', 'Glasgow', 'Reading', 'Torrance', 'Burbank', 'Concord', 'Eden Prairie', 'Lausanne', 'Lima', 'Littleton', 'Malm�', 'Minnetonka', 'M�nchen', 'Netanya', 'Newcastle Upon Tyne', 'San Bruno', 'San Clemente', 'Beaverton', 'Bothell', 'Framingham', 'Mississauga', 'Roncade', 'Saint Louis', 'Troy', 'Tulsa', 'Woodland Hills', 'Gainesville', 'Gaithersburg', 'Huntsville', 'Kuala Lumpur', 'Norcross', 'Orem', 'Petah Tiqva', 'Sandy', 'Somerville', 'Centennial', 'Chandler', 'Charleston', 'Draper', 'Kiev', 'Lafayette', 'Lincoln', 'Lyon', 'Victoria', 'Auckland', 'Aurora', 'Chapel Hill', 'Dresden', 'Kitchener', 'Overland Park', 'Portsmouth', \"Ra'anana\", 'Reno', 'Sarasota', 'Addison', 'Belfast', 'Belmont', 'Cary', 'Fairfield', 'Fort Collins', 'Fort Worth', 'Longmont', 'Lund', 'Miami Beach', 'Nairobi', 'Watertown', 'Wellesley', 'West Palm Beach', 'Annapolis', 'Cork', 'Glendale', 'King Of Prussia', 'Nashua', 'Norwalk', 'Rotterdam', 'Santa Ana', 'Santa Rosa', 'Syracuse', 'Wellington', 'Westlake Village', 'Alameda', 'Billerica', 'Conshohocken', 'Deutsch', 'Encinitas', 'Evanston', 'Fairfax', 'Gothenburg', 'Roswell', 'Abingdon', 'Amman', 'Baton Rouge', 'Belo Horizonte', 'Chengdu', 'Delray Beach', 'Henderson', 'Kfar Saba', 'Lehi', 'Manhattan Beach', 'Naples', 'Perth', 'Petaluma', 'San Rafael', 'Sherman Oaks', 'Silver Spring', 'Westborough', 'Westminster', 'Acton', 'Bath', 'Bend', 'Beverly', 'Issaquah', 'Lakewood', 'Marina Del Rey', 'Needham', 'Santa Cruz', 'Sausalito', 'South Jordan', 'Westport', 'Akron', 'Blacksburg', 'D�sseldorf', 'Germantown', 'Grand Rapids', 'Kalamazoo', 'Kista', 'Lagos', 'Lisbon', 'Lowell', 'Natick', 'Porto', 'Richmond Hill', 'Southampton', 'Stuttgart', 'Virginia Beach', 'Ashburn', 'Bethlehem', 'Bloomington', 'Boulogne-billancourt', 'Brighton', 'Calabasas', 'Costa Mesa', 'Edison', 'Eindhoven', 'Guildford', 'Hamilton', 'Ithaca', 'Lake Forest', 'Lancaster', 'Lawrence', 'Livermore', 'Morristown', 'Norwich', 'Nottingham', 'Palm Beach Gardens', 'Pompano Beach', 'Suzhou', 'Worcester', 'Yoqne`am `illit', 'Asheville', 'Bel', 'Bridgewater', 'Caesarea', 'Cardiff', 'Carrollton', 'Chelmsford', 'Coventry', 'Duluth', 'Goleta', 'Hanover', 'Hillsboro', 'Leeds', 'Markham', 'Mesa', 'Mill Valley', 'Oulu', 'Redwood Shores', 'Rehovot', 'Reykjav�k', 'Santa Fe', 'Southfield', 'Sterling', 'Walnut Creek', 'Weston', 'Zug', 'Ahmedabad', 'Arlington Heights', 'Bengaluru', 'Bozeman', 'Chevy Chase', 'Des Moines', 'Dulles', 'Frederick', 'Glen Allen', 'G�teborg', 'Ho Chi Minh City', 'Karlsruhe', 'Link�ping', 'Maynard', 'Medford', 'Nanjing', 'Naperville', 'Park City', 'Roseville', 'San Juan Capistrano', 'Saratoga', 'Shelton', 'Solana Beach', 'Torino', 'Tustin', 'Clearwater', 'Del Mar', 'Delft', 'Delhi', 'Doylestown', 'Encino', 'Exton', 'Folsom', 'Frankfurt', 'Galway', 'Haifa', 'Hoboken', 'Hudson', 'Laguna Hills', 'Livingston', 'Melbourne Beach', 'Montclair', 'Montevideo', 'Montpellier', 'Nantes', 'Parsippany', 'Petaling Jaya', 'Potsdam', 'Poway', 'Radnor', 'Riga', 'Roanoke', 'Somerset', 'Spokane', 'Surry Hills', 'Wakefield', 'Warwick', 'West Lafayette', 'White Plains', 'Aberdeen', 'Allentown', 'Bucharest', 'Cairo', 'Carmel', 'Chatsworth', 'Coral Gables', 'Frisco', 'Huntington Beach', 'Jena', 'Kent', 'Kolkata', 'Krak�w', 'Kyiv', 'Lawrenceville', 'Lenexa', 'Lisle', 'Lod', 'Long Beach', 'Makati', 'Marietta', 'Middleton', 'Northbrook', 'Orange', 'Porto Alegre', 'Red Bank', 'Roma', 'Salem', 'Temecula', 'Toledo', 'Turku', 'Westwood', 'Auburn', 'Beirut', 'Belgrade', 'Bilbao', 'Bloomfield Hills', 'Bologna', 'Branford', 'Bratislava', 'Carson City', 'Cedar Rapids', 'Chantilly', 'Cranbury', 'Davis', 'East Hartford', 'Golden', 'Haidian', 'Hartford', 'Heidelberg', 'Hermosa Beach', 'Itasca', 'It�', 'Kennesaw', 'Loveland', 'Maple Grove', 'Marseille', 'Mckinney', 'Milford', 'Minato', 'Monmouth Junction', 'Plymouth Meeting', 'Quincy', 'Riverside', 'Rogers', 'San Luis Obispo', 'Springfield', 'Tampere', 'Tartu', 'Trondheim', 'Valbonne', 'Ventura', 'Walnut', 'Wroclaw', 'Accra', 'Alachua', 'American Fork', 'Amherst', 'Antwerp', 'Basel', 'Bentonville', 'Burnsville', 'Daresbury', 'Eagan', 'Fishers', 'Florence', 'Fort Lee', 'Gent', 'Grenoble', 'Guilford', 'Hod Hasharon', 'Horsham', 'Independence', 'Kampala', 'Lahore', 'Lake Oswego', 'Laval', 'Lebanon', 'Ljubljana', 'Long Island City', 'Manhattan', 'Missoula', 'Newbury', 'Newtown', 'Owings Mills', 'Rennes', 'Rolling Meadows', 'San Leandro', 'Schaumburg', 'Seminole', 'Seville', 'Skokie', 'Stony Brook', 'Sugar Land', 'Tallahassee', 'Thousand Oaks', 'Tualatin', 'Utrecht', 'Westford', 'Wexford', 'Windsor', 'Winnipeg', 'Winston Salem', 'Winter Park', 'Woodinville', 'Agoura Hills', 'Anaheim', 'Anchorage', 'Beachwood', 'Bellingham', 'Blue Bell', 'Boxborough', 'Camarillo', 'Chanhassen', 'Chaoyang', 'Chesterfield', 'Clifton', 'Corte Madera', 'Corvallis', 'Deerfield Beach', 'El Dorado Hills', 'Foothill Ranch', 'Fort Washington', 'Hardwick', 'Haryana', 'Hollywood', 'Johannesburg', 'Kelowna', 'Kenansville', 'K�ln', 'Laguna Beach', 'Leiden', 'Leipzig', 'Marlton', 'Mission Viejo', 'Morgan Hill', 'Mount Pleasant', 'Napa', 'New Albany', 'North Andover', 'North Billerica', 'Novato', 'Olathe', 'Or Yehuda', 'Oxton', 'Phnom Penh', 'Ponte Vedra Beach', \"Rosh Ha'ayin\", 'Scotts Valley', 'Sebastopol', 'South Plainfield', \"St. John's\", 'Suwanee', 'Tacoma', 'Uppsala', 'Van Nuys', 'Wa Keeney', 'Warszawa', 'Xiamen', 'Aachen', 'Aarhus', 'Basingstoke', 'Belvedere Tiburon', 'Bloomfield', 'Bordeaux', 'Cedar Park', 'Cheyenne', 'Chico', 'College Park', 'Conway', 'Corona', 'Covington', 'Curitiba', 'Decatur', 'Dhaka', 'Dover', 'Eugene', 'Farmington', 'Florian�polis', 'Flower Mound', 'Fort Myers', 'Frankfurt Am Main', 'Fredericton', 'Fresno', 'Georgetown', 'Grand Cayman', 'Greensboro', 'Haarlem', 'Hackensack', 'Hampton', 'Hanoi', 'Hawthorne', 'Helsingborg', 'Iowa City', 'Issy-les-moulineaux', 'Jackson', 'Lake Mary', 'Lakeland', 'Largo', 'Leesburg', 'Limerick', 'Lindon', 'Los Altos Hills', 'Macclesfield', 'Maplewood', 'Marblehead', 'Melville', 'Mercer Island', 'Middletown', 'Midvale', 'Milton', 'Misgav', 'Monroe', 'M�laga', 'Newtown Square', 'Norfolk', 'Odessa', 'Ogden', 'Palm Harbor', 'Rancho Santa Margarita', 'Redondo Beach', 'Regensburg', 'Southborough', 'Southlake', 'Stuart', 'Tewksbury', 'Tianjin', 'Treviso', 'Turin', 'Vista', 'West Chester', 'Westfield', 'Woodbridge', 'Aix-en-provence', 'Albany', 'Alcobendas', 'Ames', 'Aventura', 'Avon', 'Bonn', 'Bowie', 'Boynton Beach', 'Bracknell', 'Bridgeport', 'Brookline', 'Bundangdong', 'California City', 'Carpinteria', 'Carthage', 'Cheltenham', 'Chongqing', 'Coral Springs', 'Cracow', 'Danville', 'Dayton', 'Deerfield', 'East Lansing', 'East Providence', 'Elmhurst', 'Erlangen', 'Esch-sur-alzette', 'Excelsior', 'Exeter', 'Farmington Hills', 'Florham Park', 'Fort Wayne', 'Fullerton', 'Fuzhou Shi', 'Gloucester', 'Greenwich', 'Guadalajara', 'Hallandale', 'Hasselt', 'Hauppauge', 'Jupiter', 'Kanata', 'Larkspur', 'Leuven', 'Lewes', 'Lille', 'Louvain-la-neuve', 'Lubbock', 'Lugano', 'Lutherville Timonium', 'Luxemburg', 'Malibu', 'Marion', 'Mi Wuk Village', 'Millbrae', 'Neuilly-sur-seine', 'Newport', 'Newtonville', 'Nicosia', 'North Vancouver', 'Pensacola', 'Plainfield', 'Playa Vista', 'Potomac', 'Powell', \"Saint John's\", 'Sammamish', 'Sewickley', 'Simi Valley', 'Sioux Falls', 'Solna', 'State College', 'Subiaco', 'Sudbury', 'Swindon', 'Thunder Bay', 'Toulouse', 'Towson', 'Vi�a Del Mar', 'Wallingford', 'Wan Chai', 'West Des Moines', 'West Hartford', 'Williston', 'Woodstock', 'Xian', 'Yardley', 'York', 'Allen', 'Allston', 'Ashland', 'Bainbridge Island', 'Barrington', 'Batavia', 'Bedminster', 'Beltsville', 'Berwyn', 'Bonita Springs', 'Bountiful', 'Brno', 'California', 'Castle Rock', 'Chester', 'City Of Industry', 'Clarkton', 'Cochin', 'Courbevoie', 'Cumberland', 'Cypress', 'C�rdoba', 'Daejeon', 'Darien', 'Darmstadt', 'Dedham', 'Dubendorf', 'Dunwoody', 'Ecublens', 'Edmond', 'El Cajon', 'Erie', 'Falls Church', 'Firenze', 'Fountain Valley', 'Garden City', 'Gateshead', 'Ghent', 'Gilbert', 'Glen Burnie', 'Green Bay', 'Guangdong', 'Hamden', 'Harrisburg', 'Hopkinton', 'Huddersfield', 'Hunt Valley', 'Huntington', 'Jaipur', 'Kelayres', 'Kingston', 'Lab�ge', 'Langhorne', 'Lansing', 'Leawood', 'Lewisville', 'Limassol', 'Lisboa', 'Loughborough', 'Maidenhead', 'Mansfield', 'Mason', 'Merrimack', 'Middlesbrough', 'Milton Keynes', 'Misgav Dov', 'Moffett Field', 'Monrovia', 'Montgomery', 'Moorestown', 'Mougins', 'Murrieta', 'Napoli', 'Ness Ziona', 'New Brunswick', 'Newcastle', 'North Little Rock', 'Norwood', 'Oak Brook', 'Oak Park', 'Oakville', 'Oceanside', 'Orono', 'Orsay', 'Osaka', 'Palma De Mallorca', 'Pasig', 'Port St. Lucie', 'Portola Valley', 'Poznan', 'Praha', 'Rancho Cucamonga', 'Rocklin', 'Round Rock', 'Rye', 'Saint-cloud', 'San Sebasti�n De Los Reyes', 'Sandston', 'Schlieren', 'Secaucus', 'Sheung Wan', 'South Bend', 'Southport', 'Spartanburg', 'Springdale', 'Stafford', 'Stockton', 'Studio City', 'Surrey', 'Swansea', 'Taiwan', 'Tullahoma', 'Valhalla', 'Vernon Hills', 'Vero Beach', 'Verona', 'Wayland', 'Westlake', 'Wheat Ridge', 'Woking', 'Yavne', 'Youngstown', 'A Coru�a', 'Abuja', 'Altadena', 'Altrincham', 'Ambler', 'Amersfoort', 'Ankara', 'Arvada', 'Azusa', 'Bala Cynwyd', 'Ballerup', 'Beaver Creek', 'Bellaire', 'Bellshill', 'Berkeley Heights', 'Berlin-baumschulenweg', 'Bet Shemesh', 'Bidart', 'Bolingbrook', 'Bolton Upon Dearne', 'Boulogne', 'Bras�lia', 'Brea', 'Brescia', 'Bronx', 'Brownsburg', 'Brunswick', 'Bryan', 'Bryn Mawr', 'Buena Park', 'Cagliari', 'Canberra', 'Canton', 'Catania', 'Cedar Knolls', 'Changsha', 'Charlottetown', 'Clinton', \"Coeur D'alene\", 'Coppell', 'Coralville', 'Crestwood', 'Croydon', 'Danbury', 'Danvers', 'Davie', 'Denton', 'Didcot', 'Dundee', 'East Orange', 'East Palo Alto', 'Eatontown', 'Elyria', 'Escondido', 'Essen', 'Eveleth', 'Evergreen', 'Fair Lawn', 'Fargo', 'Feasterville Trevose', 'Foxboro', 'Fredericksburg', 'Frederiksberg', 'Freeport', 'Gardena', 'Gatineau', 'Gdansk', 'Glastonbury', 'Glen Ellyn', 'Grand Prairie', 'Great Neck', 'Greenwood', 'G�za', 'Harrogate', 'Herisau', 'High Point', 'Highland Park', 'Hsinchu', 'Incline Village', 'Innsbruck', 'Irvington', 'Iselin', 'Katy', 'Kazan', 'Kenmore', 'Kochi', 'Kongens Lyngby', 'Kowloon City', 'Laguna Niguel', 'Las Condes', 'Laurel', 'Leicester', 'Liberty Lake', 'Lincolnshire', 'Livonia', 'Lochristi', 'Logan', 'Longwood', 'Mainz', 'Mannheim', 'Martinsried', 'Marysville', 'Maumelle', 'Mechelen-bovelingen', 'Meridian', 'Modena', 'Moncton', 'Monroeville', 'Mont-saint-guibert', 'Monterrey', 'Montreuil', 'Morgantown', 'Murray', 'New Hope', 'Norman', 'North Brunswick', 'North Sydney', 'Northborough', 'Nossa Senhora Das Gra�as', 'Novosibirsk', 'Oak Ridge', 'Oakmont', 'Odense', 'Old Saybrook', 'Olympia', 'Omez', 'Or Akiva', 'Palermo', 'Panama City', 'Paramus', 'Park Ridge', 'Pembroke Pines', 'Pittsford', 'Pleasant Grove', 'Port Washington', 'Prairie Village', 'Preston', 'Providencia', 'Puteaux', 'Ramat Hasharon', 'Rancho Cordova', 'Recife', 'Renton', 'Ridgeland', 'Rochester Hills', 'Roseland', 'Rotherham', 'Royal Oak', 'Saint Augustine', 'San Marcos', 'Sanibel', 'Saskatoon', 'Savage', 'Savannah', 'Schenectady', 'Seal Beach', 'Seongnam', 'Shoreline', 'Snodland', 'Solon', 'Sonoma', 'South Orange', 'St. Charles', 'Stanford', 'Starnberg', 'Suresnes', 'Tarrytown', 'Taunton', 'Teaneck', 'The Hague', 'Toluca Lake', 'Trento', 'Tucker', 'Twinsburg', 'Union', 'Vantaa', 'Wake Forest', 'Wayzata', 'Wichita', 'Wiesbaden', 'Wilkes Barre', 'Willowbrook', 'Wilsonville', 'Windermere', 'Winkelman', 'Woodcliff Lake', 'Wuhan', 'Yorba Linda', 'Zafirovo', 'Zaragoza', 'Zhuhai', 'Aalborg', 'Adelaide', 'Alamo', 'Allendale', 'Altamonte Springs', 'Amarillo', 'Amstelveen', 'Anderson', 'Apple Valley', 'Appleton', 'Aptos', 'Atherton', 'Atlantic Highlands', 'Auburndale', 'Audubon', 'Ayer', 'Bandung', 'Bangor', 'Beaconsfield', 'Beaumont', 'Bhubaneswar', 'Blaine', 'Bochum', 'Bondi', 'Bonsall', 'Bossier City', 'Bowling Green', 'Braintree', 'Brandon', 'Braunschweig', 'Breukelen', 'Brevard', 'Brookfield', 'Buffalo Grove', 'Camberley', 'Canandaigua', 'Canterbury', 'Carbondale', 'Cardiff By The Sea', 'Carlisle', 'Carlstadt', 'Casablanca', 'Caxias Do Sul', 'Cedar City', 'Chagrin Falls', 'Chandigarh', 'Changzhou', 'Charlestown', 'Chaska', 'Cherry Hill', 'Chino', 'Clyde', 'Coimbr�', 'Colchester', 'Cold Spring Harbor', 'Coleraine', 'College Station', 'Collinsville', 'Columbia City', 'Cranston', 'Crown Point', 'Cuyahoga Falls', 'Dartmouth', 'De Armanville', 'Delaware City', 'Delta', 'Denville', 'Derby', 'Dongan', 'Dortmund', 'Dorval', 'Eagle', 'East Brunswick', 'East Greenbush', 'Eau Claire', 'Edwardsville', 'Ekaterinburg', 'El Paso', 'Elk Grove Village', 'Enschede', 'Etobicoke', 'Euclid', 'Everett', 'E�lingen', 'Fairport', 'Farnborough', 'Ferndale', 'Fort Mill', 'Freiburg', 'Fribourg', 'Garden Grove', 'Gdynia', 'Gig Harbor', 'Girona', 'Glen Cove', 'Gold Coast', 'Goodyear', 'Goshen', 'Gosselies', 'Grafton', 'Granada', 'Grand Forks', 'Grand Junction', 'Grapevine', 'Grayslake', 'Greenbelt', 'Groningen', 'Guatemala City', 'Hampton Falls', 'Hastings', 'Hatfield', 'Heilbronn', 'Herlev', 'Herriman', 'Highland', 'Hilliard', 'Hillsborough', 'Hingham', 'Hinsdale', 'Hoffman Estates', 'Holmdel', 'Holon', 'Homewood', 'Idaho Falls', 'Indore', 'Inglewood', 'Islamabad', 'Jericho', 'Jinan', 'Joinville', 'Joplin', 'Jyv�skyl�', 'Kadima', 'Kahului', 'Kaiserslautern', 'Karachi', 'Kefar Netter', 'Kyoto-shi', 'Ladera Ranch', 'Lanham', 'League City', 'Leamington Spa', 'Levittown', 'Libertyville', 'Lincolnwood', 'Linz', 'Lynchburg', 'Lyndhurst', 'Lyndonville', 'Lyngby', 'Lysaker', 'Macon', 'Mahwah', 'Maia', 'Manama', 'Mandaluyong', 'Marlow', 'Martinsburg', 'Mcdonough', 'Medell�n', 'Medfield', 'Mendota', 'Mendoza', 'Metuchen', 'Middlebury', 'Midland', 'Midlothian', 'Migdal Hameq', 'Minsk', 'Miramar Beach', 'Montrose', 'Montrouge', 'Montvale', 'Mooresville', 'Moorpark', 'Morris Plains', 'Mount Laurel', 'Mount Vernon', 'Murcia', 'Muskegon', 'M�rida', 'Nagpur', 'Nes Ziyona', 'New Canaan', 'New Castle', 'New Providence', 'Newport News', 'Newton Center', 'Ngahere', 'Nice', 'North Bergen', 'North Miami Beach', 'North Palm Beach', 'Northern Washington Co', 'Northridge', 'No�in', 'Nuremberg', 'Oldenburg In Holstein', 'Oldsmar', 'Ontario', 'Pacific Palisades', 'Palaiseau', 'Palatine', 'Palm Coast', 'Palm Desert', 'Palm Springs', 'Paoli', 'Paterna', 'Peabody', 'Pelham', 'Penang', 'Peoria', 'Peterborough', 'Pisa', 'Pittsburg', 'Plainview', 'Point Pleasant Beach', 'Poole', 'Portage', 'Pozuelo De Alarc�n', 'Prahran', 'Rancho Dominguez', 'Rapid City', 'Raynham', 'River Falls', 'Riyadh', 'Rockland', 'Rockledge', 'Rohnert Park', 'Rolling Hills Estates', 'Romeoville', 'Rosamond', 'Roselle', 'Rutherford', 'Saginaw', 'Saint Cloud', 'Saint George', 'San Jos�', 'San Sebastian', 'Sandnes', 'Sandwich', 'Saratoga Springs', 'Scranton', 'Secunderabad', 'Shawnee Mission', 'Shenyang', 'Sherwood', 'Shibuya', 'Short Hills', 'Shreveport', 'Slough', 'Snohomish', 'South Charleston', 'South Melbourne', 'Southern Md Facility', 'Split', 'Spring', 'Springville', 'Starkville', 'Stellenbosch', 'Sterling Heights', 'Stevensville', 'Stockbridge', 'Stockport', 'Stoke-on-trent', 'Sundsvall', 'S�vres', 'Tel Aviv-yafo', 'Tenafly', 'Timisoara', 'Tralee', 'Tyngsboro', 'T�bingen', 'Ulm', 'Ume�', 'Union City', 'Upper Heyford', 'Upper Saddle River', 'Urbandale', 'Valparaiso', 'Vaughan', 'Vejle', 'Vellore', 'Venezia', 'Victor', 'Visalia', 'Waco', 'Warminster', 'Warrenton', 'Webster', 'Welwyn Garden City', 'Wesley Chapel', 'West Bridgewater', 'West Henrietta', 'West Orange', 'Western Junction', 'Westmount', 'Weymouth', 'Williamsburg', 'Wilmslow', 'Wilton', 'Wimbledon', 'Wixom', 'Wooster', 'W�rzburg', 'Yekaterinburg', 'Yonkers', 'Zagreb', 'Zeeland', 'Zhengzhou', 'Zwijnaarde', '�vry', 'Abbotsford', 'Abercynon', 'Abilene', 'Abu Dhabi', 'Acworth', 'Aiea', 'Alderley Edge', 'Aldershot', 'Alicante', 'Allen Park', 'Aller�d', 'Alviso', 'Amersham', 'Ancona', 'Angier', 'Ankeny', 'Antwerpen', 'Arcadia', 'Arcueil', 'Asheboro', 'Ashkelon', 'Aspen', 'Astoria', 'Astrakhan', 'Atlantic Beach', 'Atwater', 'Auburn Hills', 'Auburn University', 'Avondale', 'Baar', 'Babraham', 'Bakersfield', 'Baku-baladshary', 'Bangalore City', 'Barneveld', 'Barre', 'Barrie', 'Basking Ridge', 'Battle Ground', \"Be'er Sheva\", 'Beaufort', 'Bellefonte', 'Bene Beraq', 'Benton', 'Bergamo', 'Bertrange', 'Biddeford Pool', 'Bielefeld', 'Bielsko-biala', 'Binton', 'Birkenhead', 'Bi�vres', 'Bluffton', 'Bohemia', 'Bolzano', 'Boone', 'Boston Spa', 'Bradenton', 'Bradford', \"Braine-l'alleud\", 'Brampton', 'Brantford', 'Brecksville', 'Bremen-vegesack', 'Brentford', 'Bridgeville', 'Brockton', 'Brossard', 'Bruges', 'Brunn Am Gebirge', 'Bruxelles', 'Buford', 'Caerphilly', 'Camberwell South', 'Camborne', 'Camden', 'Campinas', 'Carson', 'Casper', 'Cebu City', 'Cedar Grove', 'Cedar Valley', 'Century City', 'Cerritos', \"Champagne-au-mont-d'or\", 'Chatham', 'Chatswood', 'Cheadle', 'Chemnitz', 'Chepstow', 'Chertsey', 'Chesapeake', 'Cheshire', 'Chiang Mai', 'Chiasso', 'Chilworth', 'China', 'Chippendale', 'Chippenham', 'Christchurch', 'Chula Vista', 'Clapiers', 'Clarence', 'Clark', 'Clermont-ferrand', 'Clifton Park', 'Clive', 'Clovis', 'Cluj', 'Cocoa', 'Coimbatore', 'Coimbra', 'Collegeville', 'Collingswood', 'Collingwood', 'Columbia Falls', 'Commerce', 'Cordova', 'Corpus Christi', 'Corrales', 'Covina', 'Crestone', 'Crook Of Devon', 'Cuenca', 'Cumming', 'Daegu', 'Daly City', 'Davao City', 'Davenport', 'Davidson', 'Daytona Beach', 'De Pere', 'Dearborn Heights', 'Deer Park', 'Delafield', 'Delaware', 'Des Plaines', 'Diamond Bar', 'Diepenbeek', 'Dornbirn', 'Downers Grove', 'Downingtown', 'Duarte', 'Dubuque', 'Duncan', 'Dunfermline', 'Durango', 'D�n Laoghaire', 'Earth City', 'Easley', 'East Granby', 'East Greenwich', 'East Setauket', 'East Stroudsburg', 'East Taunton', 'Ede', 'Edgewater', 'Egg Harbor Township', 'Eight Mile Plains', 'El Cerrito', 'Elgin', 'Elk Grove', 'Elk River', 'Elkhart', 'Ellicott City', 'Ely', 'England', 'Ernakulam', 'Evansville', 'Even Yehuda', 'Fairbanks', 'Fairhope', 'Fairmont', 'Falkenberg', 'Fall River', 'Falmouth', 'Fareham', 'Farmingdale', 'Fitchburg', 'Flagstaff', 'Flemington', 'Florida', 'Fornebu', 'Fort Smith', 'France', 'Franklin Furnace', 'Freedom', 'Frensham', 'Friendswood', 'Fulton', 'Galesburg', 'Gardner', 'Garza Garc�a', 'Gentbrugge', 'Gentilly', 'Gentofte', 'Gen�ve', 'George Town', 'Gerasdorf Bei Wien', 'Ghaziabad', 'Gibraltar', \"Giv'atayim\", 'Glen Mills', 'Glencoe', 'Glendora', 'Glenview', 'Glenwood', 'Goa', 'Goffstown', 'Gold River', 'Goldsboro', 'Grand Blanc', 'Granville', 'Graton', 'Graz', 'Great Falls', 'Gresham', 'Groton', 'Guelph', 'Guimar�es', 'G�ttingen', 'Hadley', 'Hagerstown', 'Haikou', 'Halfweg', 'Halle An Der Saale', 'Harrison', 'Hattiesburg', 'Havertown', 'Hayes', 'Haymarket', 'Hazelwood', 'Hazleton', 'Healdsburg', 'Hefei', 'Hendersonville', 'Henley On Thames', 'Hennigsdorf', 'Henniker', 'Heverlee', 'Hicksville', 'Hillside', 'Hilton Head Island', 'Hilversum', 'Hobart Town', 'Hockessin', 'Holden', 'Holliston', 'Hood River', 'Houghton Le Spring', 'Hove', 'Huntersville', 'Huntington Station', 'Hutchinson', 'Hvidovre', 'Hyannis Port', 'H�rsholm', 'Iasi', 'Ikeja', 'Ilmenau', 'Ismaning', 'Ivry-sur-seine', 'Ivyland', 'Izmir', 'Jamaica Plain', 'Jamestown', 'Janesville', 'Jasper', 'Jeddah', 'Jefferson', 'Jessup', 'Johnston', 'Jouy-en-josas', 'Jo�o Pessoa', 'Jujuy', 'J�nk�ping', 'Karlstad', 'Kathmandu', 'Katowice', 'Kenilworth', 'Kennebunk', 'Kennewick', 'Kensington', 'Kilkenny', 'Kings Langley', 'Kissimmee', 'Kloten', 'Knutsford', 'Kristiansand', 'Kunshan', 'K�benhoved', 'La Canada Flintridge', 'La Ciotat', 'La Mesa', 'Lake Geneva', 'Lake Havasu City', 'Landshut', 'Langley-on-tyne', 'Lannion', 'Lansdale', 'Lappeenranta', 'Las Cruces', 'Las Rozas', 'Latham', 'Le Pecq', 'Le Plessis-robinson', 'Lekki', 'Leonberg', 'Leopardstown', 'Lethbridge', 'Leudelange', 'Lewiston', 'Le�n', 'Limoges', 'Lincoln Park', 'Linlithgow', 'Little Elm', 'Lkan', 'Logro�o', 'Loma Linda', 'Longueuil', 'Loughton', 'Louisiana', 'Loves Park', 'Lowestoft', 'Lucca', 'Lule�', 'Lutz', 'Luzern', 'Lynnwood', 'Magdeburg-rothensee', 'Maitland', 'Malakoff', 'Malma', 'Manassas', 'Manila', 'Martinez', 'Marton-in-cleveland', 'Massy', 'Matar�', 'Matosinhos', 'Mauldin', 'Maynooth', 'Mechanicsburg', 'Medina', 'Meiningen', 'Metairie', 'Mid Florida', 'Middlefield', 'Midview City', 'Milano', 'Minnesota City', 'Mobile', \"Modi'in\", 'Mohali', 'Mojave', 'Monheim', 'Monterey Park', 'Moraga', 'Morganton', 'Morges', 'Morton Grove', 'Mount Arlington', 'Mount Kisco', 'Mountainside', 'Mt Pleasant', 'Mundelein', 'Muscle Shoals', 'Myrtle Beach', 'Mysore', 'Nampa', 'Nanaimo', 'Nanchang', 'Nantong', 'Nedlands', 'Neshkoro', 'New Lenox', 'New London', 'New Windsor', 'Newark Valley', 'Newberry', 'Newbury Park', 'Newburyport', 'Newhaven', 'Newnan', 'Newton-le-willows', 'Nizhniy Novgorod', 'Norristown', 'North Canton', 'North Charleston', 'North Hollywood', 'North Kingstown', 'North Reading', 'North Salt Lake', 'Northampton', 'Northfield', 'Norwell', 'Notting Hill', 'Novi', 'N�mes', 'O Fallon', 'Orangeburg', 'Orchard Park', 'Orinda', 'Orleans', 'Osborne', 'Osterville', 'Oviedo', 'Owensboro', 'Oxnard', 'Paisley', 'Palm Bay', 'Palm Beach', 'Pan De Az�car', 'Panama City Beach', 'Paradise Valley', 'Paran�', 'Pasching', 'Paso Robles', 'Passau', 'Paterna De Rivera', 'Peachtree City', 'Pearl River', 'Pembroke', 'Petersburg', 'Pflugerville', 'Pikesville', 'Pinckney', 'Pine Bluff', 'Pine Brook', 'Piscataway', 'Pittsfield', 'Plainsboro', 'Plan-les-ouates', 'Plattsburgh', 'Pleasant Hill', 'Pleasantville', 'Ponte Vedra', 'Pontypridd', 'Porsgrunn', 'Port Chester', 'Port Orange', 'Port Saint Lucie', 'Princeton Junction', 'Puchong New Village', 'Pullman', 'Purcellville', 'Puyallup', 'P�r', 'Qingdao', 'Qingdao Shi', 'Quakertown', 'Quarry Bay', 'Quebeck', 'Queens', 'Racine', 'Ramalhal', 'Ramonville-saint-agne', 'Rancho Mirage', 'Red Deer', 'Renens', 'Ridgefield', 'Rijswijk', 'Ringwood', 'Rishon Le Zion', 'Risskov', 'Riverview', 'Robbinsville', 'Rockford', 'Rockport', 'Rockville Centre', 'Roppongi', 'Roskilde', 'Roslyn Heights', 'Rostock', 'Roubaix', 'Runcorn', 'Saint Albans', 'Saint John', 'Saint Laurent', 'Salford', 'Salina', 'Salisbury', 'Salmiya', 'San Anselmo', 'Sandpoint', 'Sanford', 'Santa Rosa Beach', 'Santa Ynez', 'Santiago De Chuco', 'Santo Domingo Zanatepec', 'Satellite Beach', 'Sayreville', 'Scottsville', 'Sebastian', 'Selma', 'Shawnee', 'Shelburne', 'Shelbyville', 'Sherwood Park', 'Siem Reap', 'Simsbury', 'Sioux City', 'Sittingbourne', 'Skopje', 'Sligo', 'Smyrna', 'Snoqualmie', 'Snyder', 'Solihull', 'Sorocaba', 'South Glastonbury', 'South Hackensack', 'Southbank', 'Southbury', 'Southern Pines', 'Squamish', 'Staines-upon-thames', 'Staten Island', 'Stevenson Ranch', 'Stillwater', 'Stockton-on-tees', 'Stone Mountain', 'Stoneham', 'Stow', 'Strasbourg', 'Strassen', 'Streamwood', 'Sullivans Island', 'Summit', 'Sun Prairie', 'Sunderland Bridge', 'Sunrise', 'Superior', 'Surbiton', 'Sutton Saint James', 'Syosset', 'Szczecin', 'Taastrup', 'Tarboro', 'Tarpon Springs', 'Tarzana', 'Taylors', 'Terre Haute', 'Tewkesbury', 'Texas', 'Thane', 'The Woodlands', 'Thiais', 'Tigard', 'Tinley Park', 'Tirat Karmel', 'Topeka', 'Torun Polnocny', 'Tours-en-vimeu', 'Trenton', 'Tring', 'Trivandrum', 'Troms�', 'Trumbull', 'Tukwila', 'Tumwater', 'Tunis', 'Twickenham', 'Ultimo', 'Uniondale', 'Universal City', 'Ury', 'Utah', 'Vadodara', 'Valladolid', 'Valletta', 'Vauxhall', 'Vientiane', 'Villach', 'Villanova', 'Villeurbanne', 'Vimercate', 'V�ster�s', 'Waconia', 'Wadsworth', 'Wageningen', 'Waitsfield', 'Wales', 'Walldorf', 'Warren', 'Warrendale', 'Warrington', 'Waterbury', 'Waterford', 'Watford', 'Waukesha', 'Waverly', 'Waxhaw', 'Wenham', 'West Bend', 'West Caldwell', 'West End', 'West Haven', 'West Hills', 'West Jordan', 'West Linn', 'West Roxbury', 'West Sacramento', 'Weybridge', 'Whippany', 'Whitby', 'White Bear Lake', 'White Horse Beach', 'White River Junction', 'Whitewater', 'Wilbraham', 'Williamstown', 'Winterthur T�ss', 'Witney', 'Wollongong', 'Wolverhampton', 'Woodbury', 'Woodridge', 'Woodside', 'Wuhu', 'Wynnewood', 'Yaba', 'Yangon', 'Yangzhou', 'Yehud', 'Yerevan', 'Ypsilanti', 'Yuba City', 'Zellik', '�cully', \"'s-hertogenbosch\", '6 October City', 'Abertillery', 'Abidjan', 'Ad Dammam', 'Admington', 'Admiralty', 'Affula', 'Ahmadabad', 'Aiken', 'Ajax', 'Alabaster', 'Albert', 'Albertville', 'Albion Park', 'Alcester', 'Alcorc�n', 'Alcoy', 'Aldergrove', 'Alderley Park', 'Aldermaston', 'Alfreton', 'Alkmaar', 'Alliance', 'Allison Park', 'Alma', 'Almere', 'Alpine', 'Altavilla Vicentina', 'Alton Barnes', 'Alva', 'Alvorada', 'American Falls', 'Amesbury', 'Amite', 'Amityville', 'Anacortes', 'Andheri', 'Angel Fire', 'Angeles City', 'Angola', 'Ankeveen', 'Anna', 'Annandale', 'Annecy', 'Ansan', 'Ansonia', 'Anth�e', 'Antigo', 'Antioch', 'Antioquia', 'Apex', 'Apollo', 'Ar Riyadh', 'Arbent', 'Arcata', 'Archamps', 'Ardmore', 'Arenzano', 'Arequipa', 'Armadale', 'Armes', 'Armonk', 'Arnhem', 'Arnold', 'Arruda Dos Vinhos', 'Artarmon', 'Arusha', 'Asbury Park', 'Aschheim', 'Ascot', 'Ashdod', 'Ashford', 'Asiago', 'Asker', 'Asti', 'Athlone', 'Atlantic City', 'Attleboro Falls', 'Aurangabad', 'Aveiro', 'Avenal', 'Avoca', 'Avon Park', 'Avon-les-roches', 'Avondale Estates', 'Awka', 'Axbridge', 'Aydie', 'Ayr', 'Baarn', 'Bacup', 'Baden', 'Baesweiler', 'Bagamoyo', 'Bagneux', 'Bailey', 'Baku', 'Balbriggan', 'Baldwin Park', 'Baldwinsville', 'Balerna', 'Ballsbridge', 'Ballstad', 'Ballymoe', 'Balmain', 'Bamberg', 'Ban Nong Kong Chak', 'Banbury', 'Bankok', 'Baoji', 'Bar Harbor', 'Bar Hill', 'Baracaldo', 'Barendrecht', 'Barhamsville', 'Barney', 'Barrowford', 'Bastrop', 'Batesville', 'Baxter', 'Bay Shore', 'Bayonne', 'Baytown', 'Bayville', 'Bear', 'Beaucouz�', 'Beauzelle', 'Beckingham', 'Beech Island', 'Beira', 'Beit-shemesh', 'Bel Air', 'Belcamp', 'Belgaum', 'Belleair Beach', 'Belleville', 'Bellflower', 'Belmont-sur-lausanne', 'Beloit', 'Benicia', 'Bensalem', 'Bensheim', 'Benson', 'Bentley', 'Benton Harbor', 'Beppu', 'Bergisch Gladbach', 'Berkeley Springs', 'Bermondsey', 'Bern', 'Bernalillo', 'Bernardsville', 'Bernried', 'Bernville', 'Berthoud', 'Besan�on', 'Bet Halevi', 'Bethany', 'Bethany Beach', 'Bethel', 'Bethel Park', 'Bettembourg', 'Bhandup', 'Bicester', 'Bideford', 'Bierges', 'Bietigheim-bissingen', 'Bigfork', 'Billancourt', 'Billings', 'Bingen', 'Bioggio', 'Birdsboro', 'Birker�d', 'Bismarck', 'Bizau', 'Black Mountain', 'Blackburn', 'Blackrock', 'Blackshear', 'Blind River', 'Bloemfontein', 'Bloomingdale', 'Bloomsburg', 'Blue Point', 'Blumenau', 'Blyth', 'Blythe', 'Boadilla Del Monte', 'Bobcaygeon', 'Bodafors', 'Boecillo', 'Boerne', 'Bolivar', 'Bolton', 'Bombay', 'Bonanza', 'Bonheiden', 'Bonneville', 'Boom', 'Booneville', 'Boonton', 'Boonville', 'Borehamwood', 'Bormujos', 'Boskoop', 'Botafogo', 'Botany', 'Boucherville', 'Boulder City', 'Boulder Creek', 'Boulevard', 'Bournemouth', 'Boyes Hot Springs', 'Bozen', 'Bragan�a', 'Brainerd', 'Brand', 'Brandywine', 'Branson', 'Brasil', 'Brasov', 'Bray', 'Breinigsville', 'Brenham', 'Brewster', 'Briarcliff Manor', 'Brick', 'Bridgehampton', 'Bridgend', 'Brillion', 'Bristow', 'Bromborough', 'Brook Park', 'Brookhaven', 'Brookings', 'Brookshire', 'Browns Mills', 'Brownsboro', 'Brownville', 'Bryanston', 'Bryant', 'Bryson', 'Buctouche', 'Buda', 'Buda�rs', 'Budd Lake', 'Buderim', 'Buea', 'Buena', 'Bundoora', 'Bunnik', 'Burleigh Heads', 'Burnet', 'Burnley', 'Burtonsville', 'Busan', 'Bushey', 'Bustan Hagalil', 'Butler', 'Bydgoszcz', 'B�gles', 'Cabarete', 'Cabo San Lucas', 'Cadillac', 'Cadiz', 'Caernarfon', 'Cagnes-sur-mer', 'Calcutta', 'Calmar', 'Calverton', 'Cambori�', 'Cambria', 'Cambridge City', 'Camillus', 'Camp Hill', 'Campbellsville', 'Campeche', 'Canal Flats', 'Canfield', 'Cannington', 'Cannock', 'Canoas', 'Canoga Park', 'Canonsburg', 'Cantanhede', 'Cantemir', 'Canton Center', 'Canyon Country', 'Canyon Lake', 'Caparica', 'Cape Coral', 'Cape Girardeau', 'Capitol Heights', 'Capurso', 'Caracas', 'Carleton Place', 'Carmarthen', 'Carmel Valley', 'Carmichael', 'Carnegie', 'Carol Stream', 'Cartaxo', 'Casselberry', 'Castelfranco Veneto', 'Castelplanio', 'Castignano', 'Castine', 'Castlebar', 'Castleblayney', 'Castleton', 'Castricum', 'Causeway Bay', 'Cave City', 'Cedar Falls', 'Center', 'Centerport', 'Centerville', 'Central Falls', 'Central Valley', 'Centralia', 'Centreville', 'Centro', 'Centurion', 'Cerda�ola', 'Ceres', 'Cergy-pontoise', 'Chadds Ford', 'Chalfont', 'Chamali�res-sur-loire', 'Champlin', 'Changshu', 'Chappaqua', 'Charlbury', 'Charles Town', 'Chaville', 'Cheadle Hulme', 'Cheboksary', 'Chelsea', 'Chelyabinsk-40', 'Cheraw', 'Cheshunt', 'Chester Heights', 'Chesterland', 'Chesterville', 'Chestnut Hill', 'Chetumal', 'Chevalet', 'Chewton Mendip', 'Chi', 'Chiba', 'Chicago Ridge', 'Chichester', 'Chicora', 'Chihuahua', 'Chipping Norton', 'Chisinau', 'Chislehurst', 'Chonburi', 'Christiansburg', 'Ch�tillon', 'Circleville', 'Cirencester', 'Cison Di Valmarino', 'Citrus Heights', 'Ciudad Real', 'Clare', 'Claremont', 'Clarence Center', 'Clarenville', 'Clarion', 'Clarksville', 'Clayton', 'Clear Lake', 'Cleburne', 'Clever', 'Clifton Heights', 'Clinton Township', 'Closter', 'Cluny', 'Coal City', 'Cockeysville', 'Cocoa Beach', 'Coffeyville', 'Cohasset', 'Col', 'Coldwater', 'Colleyville', 'Collierville', 'Coloma', 'Colombo', 'Colomiers', 'Colonial Heights', 'Colorado City', 'Columbiana', 'Commerce Township', 'Como', 'Compi�gne', 'Cona', 'Congers', 'Congleton', 'Conifer', 'Connellys Springs', 'Conroe', 'Coombs', 'Copacabana', 'Coram', 'Coraopolis', 'Corby', 'Corinth', 'Cornwell', 'Cortlandt Manor', 'Cotati', 'Cotia', 'Cottage Grove', 'Cottesloe', 'Cotuit', 'Courtenay', 'Coushatta', 'Cou�ron', 'Cowes', 'Cranfield', 'Crawley', 'Cree', 'Creedmoor', 'Cresskill', 'Creswell', 'Crofton', 'Croissy-beaubourg', 'Crook', 'Cross Hands', 'Crosswicks', 'Croton On Hudson', 'Crozet', 'Crystal Lake', 'Crystal River', 'Cuajimalpa', 'Cuarte De Huerva', 'Cuautitl�n Izcalli', 'Cumbernauld', 'Cundinamarca', 'Curepipe', 'Cwmbran', 'Cyberport', 'Cymer', 'C�ceres', 'Dacono', 'Dacula', 'Dalian Shi', 'Dalston', 'Damansara New Village', 'Damascus', 'Damastown', 'Danderyd', 'Dandong', 'Dania', 'Dar Es Salaam', 'Darbhanga', 'Darjeeling', 'Dayville', 'De Goorn', 'De Soto', 'Del Valle', 'Den Haag', 'Denham Springs', 'Denpasar', 'Derio', 'Derry', 'Derwood', 'Destin', 'Deuil-la-barre', 'Deurle', 'Deurne', 'Devens', 'Deventer', 'Devizes', 'Dewsbury', 'Dickinson', 'Dickson', 'Diegem', 'Diemen', 'Dillon', 'Dinas Powys', 'Dki Jakarta', 'Dnepropetrovsk', 'Dnipropetrovsk', 'Docklands', 'Dongguancun', 'Donostia-san Sebasti�n', 'Doral', 'Dorking', 'Dos Hermanas', 'Douglas', 'Douglasville', 'Drexel Hill', 'Drummondville', 'Duisburg And Hamborn', 'Dumfries', 'Dunkirk', 'Dunstable', 'Durban', 'Duvall', 'D�rth', 'East Amherst', 'East Bend', 'East China', 'East Elmhurst', 'East Hanover', 'East Northport', 'East Peoria', 'East Perth', 'East Rochester', 'East Rutherford', 'East Sandwich', 'East Syracuse', 'East Windsor Hill', 'Eastlake', 'Edenbridge', 'Edenton', 'Edmonds', 'Edwards', 'Effingham', 'El Eulma', 'Elche', 'Elkhorn', 'Elkins', 'Elkins Park', 'Elko', 'Elkton', 'Ellesmere Port', 'Ellsworth', 'Elmsford', 'Elstree', 'Emmetten', 'Emporia', 'Enderby', 'Endicott', 'Enfield Lock', 'Ennis', 'Enola', 'Enterprise', 'Epalinges', 'Ephrata', 'Erandio', 'Erfurt-bindersleben', 'Erkrath', 'Erlanger', 'Esbjerg', 'Eschen', 'Espina', 'Esplugas De Llobregat', 'Essex', 'Essex Junction', 'Estado De M�xico', 'Estevan', 'Etchingham', 'Eureka', 'Eurville', 'Euston', 'Euthal', 'Ewing', 'Eysins', 'Fair Oaks', 'Fairborn', 'Fairlawn', 'Fall City', 'Fallston', 'Falun', 'Faridabad', 'Farington', 'Farmers Branch', 'Farmersville', 'Farnham', 'Farnsfield', 'Farra Di Soligo', 'Farrington Gurney', 'Farum', 'Feeding Hills', 'Feldafing', 'Feldkirchen-westerham', 'Fenton', 'Fernandina Beach', 'Ferrara', 'Ferrisburg', 'Ferri�res', 'Finans', 'Finca Elisa', 'Finchley', 'Fisciano', 'Flanders', 'Fleet', 'Fleming Island', 'Flins-sur-seine', 'Flowery Branch', 'Flowood', 'Follina', 'Fontenay-sous-bois', 'Fordingbridge', 'Forest Hills', 'Forest Park', 'Forres', 'Forsyth', 'Fort Atkinson', 'Fort Dodge', 'Fort Mcmurray', 'Fort Meade', 'Fort Mitchell', 'Fort Myers Beach', 'Fort Nelson', 'Fort Ripley', 'Fort Saskatchewan', 'Fort Walton Beach', 'Foshan', 'Fox Lake', 'Frankfort', 'Franklin Park', 'Franklin Square', 'Franktown', 'Fredensborg', 'Fredericia', 'Fredrikstad', 'Freyung', 'Friday Harbor', 'Friedburg', 'Frontenac', 'Frunze', 'Fujisawa', 'Fukuoka', 'Furtwangen', 'Fuzhou', 'Fyshwick', 'F�rth', 'Galveston', 'Gambrills', 'Gan Yoshiya', 'Garbsen', 'Garching Bei M�nchen', 'Gardanne', 'Gardendale', 'Garforth', 'Garland', 'Garrettsville', 'Gastonia', 'Gates Mills', 'Gatesville', 'Gauteng', 'Gauting', 'Gembloux', 'Gem�nden', 'Genk', 'Genova', 'Georgia', 'German', 'Gerning', 'Gif-sur-yvette', 'Gilching', 'Gilly', 'Gilman', 'Gilroy', 'Gladstone', 'Glasnevin', 'Glattbrugg', 'Glenrothes', 'Glenshaw', 'Glostrup', 'Godalming', 'Goes', 'Gojan', 'Gometz-la-ville', 'Goodlettsville', 'Gordon', 'Goregaon', 'Gorinchem', 'Gradignan', 'Grady', 'Graham', 'Grand Haven', 'Grand Ledge', 'Grand-rosi�re', 'Granite Bay', 'Grasse', 'Great Barrington', 'Great Bookham', 'Great River', 'Greeley', 'Greenbrae', 'Greendale', 'Greenfield', 'Greenvale', 'Gretna', 'Griffin', 'Griffith', 'Grimes', 'Grodziec', 'Groot-bijgaarden', 'Grosse Pointe Woods', 'Gro�wallstadt', 'Gruibingen', 'Guanajuato', 'Guapor�', 'Guayabo', 'Guiyang', 'Gujrat', 'Gulberg', 'Gulf Breeze', 'Gurdon', 'Guwahati', 'Gu�rande', 'Gwinn', 'G�menos', 'G�vle', 'Hacienda Heights', 'Hackberry', 'Hackettstown', 'Haddenham', 'Haddonfield', 'Haderslev', 'Hafnarfj�r�ur', 'Hagerman', 'Haidershofen', 'Hailsham', 'Hainau', 'Hainesport', 'Halden', 'Halle-neustadt', 'Halmstad', 'Hamel', 'Hamilton Bay', 'Hammel', 'Hammenh�g', 'Hammersmith', 'Hampden', 'Hampshire', 'Hanford', 'Haninge', 'Hanover Park', 'Harare', 'Harbin', 'Harker Heights', 'Harlech', 'Harrisonburg', 'Harrow On The Hill', 'Harvey', 'Hasbrouck Heights', 'Hatboro', 'Haverhill', 'Hawley', 'Haworth', 'Hayden', 'Haydock', 'Haywards Heath', 'Hazelton', 'Heathrow', 'Heber City', 'Hector', 'Hedehusene', 'Heiloo', 'Heist-op-den-berg', 'Hellerup', 'Helsing�r', 'Hempstead', 'Hengoed', 'Hercules', 'Hermosillo', 'Heroldsberg', 'Herten', 'Herzogenaurach', 'Heslington', 'Hessett', 'Heswall', 'Hickory', 'Hidalgo', 'Higashi-shinagawa', 'Hiller�d', 'Hirschau', 'Hjallerup', 'Hobart', 'Hobe Sound', 'Hoddesdon', 'Hoevelaken', 'Holiday', 'Holliday', 'Holmes Chapel', 'Holstebro', 'Holtzheim', 'Holzgerlingen', 'Homburg', 'Homestead', 'Hond�n De Los Frailes', 'Honfleur', 'Hoofddorp', 'Hoorn', 'Hope', 'Hopkins', 'Hornsby', 'Hornsyld', 'Horseshoe Bay', 'Horten', 'Hoschton', 'Hospitalet De Llobregat', 'Hot Springs National Park', 'Houghton', 'Howell', 'Hubbard', 'Hubei', 'Huddinge', 'Huins', 'Huis Ter Heide', 'Huizhou', 'Humble', 'Humboldt', 'Hummelstown', 'Hun', 'Hundsdorf', 'Huntingdon', 'Hurst', 'Hutto', 'Hvalstad', 'Hyderabad-deccan', 'Hyogo', 'Hyssna', 'H�rn�sand', 'H�rouville-saint-clair', 'Idyllwild', 'Igualada', 'Ilford', 'Illkirch-graffenstaden', 'Imperial', 'Incheon', 'Indaiatuba', 'Indian Rocks Beach', 'Indiana', 'Indio', 'Inman', 'Inola', 'Interlaken', 'Inverness', 'Inyokern', 'Io�nnina', 'Ipswich', 'Isabella', 'Islandia', 'Isques', 'Italy', 'Itzehoe', 'It�harju', 'Ivrea', 'Izurza', 'Jabalpur', 'Jacksonville Beach', 'Jaffa-tel Aviv', 'Jaffrey', 'Jakarta Pusat', 'Jal', 'Jalna', 'Jamison', 'Japan', 'Jenkintown', 'Jenks', 'Jessheim', 'Jiangyan', 'Jiangyin', 'Jiaxing', 'Jinhua', 'Jodhpur', 'Johannesberg', 'Johnson City', 'Joinville-le-pont', 'Jonesboro', 'Joppa', 'Jorhat', 'Joshua Tree', 'Jo�ni�', 'Juiz De Fora', 'Jundia� Do Sul', 'Justin', 'Jyderup', 'J�mtland', 'Kaarina', 'Kafr Saba', 'Kahuku', 'Kajaani', 'Kalangala', 'Kalimoni', 'Kamakura', 'Kampong Tantaya', 'Kanab', 'Kanagawa', 'Kapaa', 'Kapolei', 'Karlskrona', 'Karnes City', 'Kassel', 'Katonah', 'Kaukauna', 'Kaunas', 'Kawasaki Si', 'Kaysville', 'Kearney', 'Kearneysville', 'Kearny', 'Kecskem�t', 'Keego Harbor', 'Keene', 'Kefar Sava', 'Keizer', 'Keller', 'Kemerovo', 'Kempele', 'Kemptville', 'Kendall Park', 'Kendallville', 'Kerrville', 'Keswick', 'Kfar Tavor', 'Kharkov', 'Khopoli', 'Kidderminster', 'Kihei', 'Kilauea', 'Kildare', 'Killeen', 'Kimberley', 'Kimberton', 'Kings Park', 'Kingston Upon Thames', 'Kingstree', 'Kingwood', 'Kinondoni', 'Kinsale', 'Kintore', 'Kittanning', 'Kjoge', 'Klagenfurt', 'Klaipeda', 'Kleinmachnow', 'Kobe', 'Koblenz', 'Kokomo', 'Kolbermoor', 'Kolding', 'Komotin�', 'Kormangala', 'Kors�r', 'Kosice', 'Kovilpatti', 'Krasnoyarsk', 'Kuala Lumpor', 'Kufstein', 'Kula', 'Kunming', 'Kuopio', 'Kure Beach', 'Kyle', 'K�lln-reisiek', \"L'union\", 'La', 'La France', 'La Garenne-colombes', 'La Madeleine', 'La Mirada', 'La Muela', 'La Puente', 'La Rochelle', 'La Tronche', 'Labbeck', 'Lachine', 'Ladson', 'Lages', 'Lahaina', 'Laindon', 'Lake Arthur', 'Lake Charles', 'Lake City', 'Lake Elsinore', 'Lake Linden', 'Lake Placid', 'Lake Wales', 'Lake Worth', 'Lake Zurich', 'Lambertville', 'Land O Lakes', 'Landenberg', 'Lansdowne', 'Larchmont', 'Larnaka', 'Lasalle', 'Lauderhill', 'Laufen', 'Laupheim', 'Le Chesnay', 'Le Kremlin-bic�tre', 'Le Mans', 'Le Petit Paris', 'Le Rheu', 'Ledbury', 'Lees Summit', 'Legnano', 'Lehavim', 'Lehigh Acres', 'Leiderdorp', 'Leigh-on-sea', 'Leighton Buzzard', 'Leiria', 'Leiva', 'Lejre', 'Lemitar', 'Leobersdorf', 'Leoma', 'Leominster', 'Leopoldshafen', 'Les Acacias', 'Leverkusen', 'Lewis Center', 'Liberty', 'Liberty Center', 'Libourne', 'Lieshout', 'Liestal', 'Lilburn', 'Lillestr�m', 'Limhamn', 'Limington', 'Lincroft', 'Lindale', 'Lindau', 'Linden', 'Linthicum Heights', 'Linyi', 'Liszki', 'Litchfield', 'Lithia', 'Lititz', 'Little Falls', 'Little Meadows', 'Little Neck', 'Little River', 'Li�ge', 'Llanfair-dyffryn-clwyd', 'Locust', 'Locust Grove', 'Lombard', 'Lometa', 'Lommel', 'Long Valley', 'Longmeadow', 'Lorca', 'Lorton', 'Los Alamos', 'Louisburgh', 'Lower Nicola', 'Lucerne', 'Ludhiana', 'Ludwigshafen Am Rhein-oggersheim', 'Lugo', 'Lumberton', 'Lummen', 'Lunenburg', 'Luton', 'Lutsk', 'Lviv', 'Lyle', 'Lymington', 'Lymm', 'Lynbrook', 'Lyss', 'L�beck', 'L�gst�r', 'L�neburg', 'L�vis', 'M C B H Kaneohe Bay', 'Ma', 'Maarn', 'Maastricht', 'Mabelvale', 'Macedonia', 'Macei�', 'Macungie', 'Madhapur', 'Madison Heights', 'Madisonville', 'Madurai', 'Mafra', 'Maidstone', 'Maine', 'Malvern Wells', 'Mamaroneck', 'Manalapan', 'Manassa', 'Mangalore', 'Manila Heights Subdivision', 'Manitowoc', 'Manno', 'Mansfield Center', 'Manson', 'Manton', 'Mantova', 'Mantua', 'Manukau', 'Manukau City', 'Maple Ridge', 'Maple Valley', 'Mapleton', 'Mar Del Plata', 'Marac�s', 'Marbella', 'Marche-en-famenne', 'Marcus Hook', 'Maribor', 'Maricopa', 'Marigot', 'Marina', 'Marion Station', 'Marke', 'Markyate', 'Maroubra', 'Maro�li', 'Marquette', 'Mars', 'Martillac', 'Maryland Heights', 'Mascot', 'Massagno', 'Massanas', 'Massapequa', 'Massillon', 'Matawan', 'Mather', 'Matlock', 'Matthews', 'Mattoon', 'Maumee', 'Maurepas', 'Mayan Baruch', 'Mc Cordsville', 'Mc Lean', 'Mcalester', 'Mcallen', 'Mchenry', 'Mcminnville', 'Mechanicsville', 'Meerut', 'Melksham', 'Melrose', 'Mendham', 'Mentor', 'Mere', 'Meriden', 'Mesquite', 'Metamora', 'Methuen', 'Metz-tessy', 'Mexicanos', 'Meyreuil', 'Miami Lakes', 'Miamisburg', 'Miass', 'Michigan Center', 'Middleburg', 'Middlesex', 'Midland Park', 'Midrand', 'Midsomer Norton', 'Miesbach', 'Mikkeli', 'Mill Creek', 'Mill Hall', 'Millbrook', 'Milton Bryant', 'Minas Gerais', 'Mineola', 'Mineral Wells', 'Mirandola', 'Mishawaka', 'Mission', 'Mission Hills', 'Missouri City', 'Mitaka', 'Mi�ano Menor', 'Mj�mna', 'Mogadishu', 'Moirans', 'Moline', 'Mombasa', 'Monaca', 'Moncalieri', 'Monona', 'Monroe Township', 'Mont-royal', 'Montauban-de-picardie', 'Montauroux', 'Montebelluna', 'Monterey', 'Montgomeryville', 'Monticello', 'Montmel�', 'Montpelier', 'Montreuil-sous-bois', 'Mora', 'Morgan', 'Morganville', 'Moriarty', 'Morlaix', 'Moscow Mills', 'Moskva', 'Mosman', 'Motley', 'Moultrie', 'Mount Dora', 'Mount Horeb', 'Mount Juliet', 'Mountain Pass', 'Muenchen', 'Muenster', 'Mukwonago', 'Mulgrave', 'Mullan', 'Muntinlupa City', 'Murfreesboro', 'Murphy', 'Muscat', 'Muscatine', 'Musselburgh', 'Mysen', 'M�lndal', 'M�l�y', 'M�nster-sarmsheim', 'M�rignac', 'Naarden', 'Naberezhnyye Chelny', 'Nahant', 'Nairn', 'Naivasha', 'Nanping', 'Nasr City', 'Nasrapur', 'Nassau', 'Natanya', 'Natchitoches', 'National City', 'Naucalpan De Ju�rez', 'Navacchio', 'Nazareth', 'Nazareth Illit', 'Neenah', 'Nelson', 'Neptune', 'Netherlands', 'Neuchatel', 'Neuilly-le-brignon', 'Neustadt An Der Weinstra�e', 'Neutral Bay', 'Nevada City', 'Neve Ilan', 'New Berlin', 'New Brighton', 'New Britain', 'New Buffalo', 'New Concord', 'New Farm', 'New Gloucester', 'New Holland', 'New Jersey', 'New Lagos', 'New Milford', 'New Port Richey', 'New Ross', 'New Town', 'New Waterford', 'New Westminster', 'Newcastle Under Lyme', 'Newfoundland', 'Newington', 'Newmarket', 'Newport Coast', 'Newport-on-tay', 'Newquay', 'Nicholasville', 'Nieuwegein-zuid', 'Nieuwer Amstel', 'Nivelles', 'Nivolas-vermelle', 'Niwot', 'Nizhniy Tagil', 'Noblesville', 'Noisy-le-grand', 'Noisy-le-roi', 'Nokia', 'Noordwijk', 'Nordborg', 'Normal', 'Normanton', 'Norrk�ping', 'Norrt�lje', 'North Adams', 'North Arlington', 'North Augusta', 'North Barrow', 'North Brookfield', 'North Conway', 'North Dartmouth', 'North East', 'North Hampton', 'North Haven', 'North Hills', 'North Kansas City', 'North Liberty', 'North Myrtle Beach', 'North Olmsted', 'North Ridgeville', 'North Tazewell', 'North Versailles', 'North Wales', 'Northvale', 'Nova', 'Novi Sad', 'Nuevo Le�n', 'Nungambakkam', 'Nutts Corner', 'N�rnberg', 'N�rum', 'Oakdale', 'Oakland Park', 'Oaklands', 'Oakleigh', 'Oaks', 'Oberhaching', 'Oberlin', 'Ocala', 'Ocean Springs', 'Octeville-sur-mer', 'Odiham', 'Odintsovo', 'Oeiras', 'Okemos', 'Okmulgee', 'Old Chatham', 'Old Greenwich', 'Old Lyme', 'Oldbury', 'Oldenzaal', 'Olivet', 'Olney', 'Ol�mpia', 'Omiya', 'Omsk', 'Oneonta', 'Onida', 'Oostburg', 'Oosterhout', 'Opelika', 'Oporto', 'Orefield', 'Orland Park', 'Orly', 'Oroville', 'Orpington', 'Osijek', 'Osnabr�ck', 'Osorno', 'Osterreicher', 'Ottawa Lake', 'Owasso', 'Oyster Bay', 'Paddock Wood', 'Paderborn', 'Padua', 'Paducah', 'Pagosa Springs', 'Pahoa', 'Paignton', 'Pala', 'Palm City', 'Palma Del R�o', 'Palmetto', 'Palmyra', 'Pampa', 'Pampisford', 'Pamplona', 'Paragould', 'Pardubice', 'Paris Crossing', 'Parisi', 'Parker', 'Parkersburg', 'Parlier', 'Parma', 'Partille', 'Pasco', 'Patchogue', 'Paterson', 'Patras', 'Paulsboro', 'Pavia', 'Pawtucket', 'Pearland', 'Pedro Leopoldo', 'Pefferlaw', 'Pekin', 'Pell City', 'Pendleton', 'Pennington', 'Pennsauken', 'Peoria Heights', 'Peregian Beach', 'Perg', 'Perm', 'Peru', 'Pescara', 'Pessac', 'Petah Tiqwa', 'Petit-quevilly', 'Petoskey', 'Peynier', 'Pfaffenhofen', 'Phla', 'Phuket', 'Picayune', 'Pickerington', 'Piedmont', 'Pilar De La Horadada', 'Pinedale', 'Pingdu', 'Pinner', 'Pipersville', 'Pitstone', 'Pitt Meadows', 'Pittem', 'Pittsboro', 'Plainville', 'Plaistow', 'Planegg', 'Plant City', 'Plantation', 'Playa Del Rey', 'Pleasant Prairie', 'Pleasant Ridge', 'Plouzan�', 'Plum Branch', 'Plzen', 'Pocopson', 'Pointe-claire', 'Pomeroy', 'Pomona', 'Ponca City', 'Pontault', 'Pontefract', 'Pontevedra', 'Port Allen', 'Port Angeles', 'Port Hueneme Cbc Base', 'Port Huron', 'Port Orchard', 'Port Richey', 'Port Townsend', 'Portmarnock', 'Porto Salvo', 'Post Mills', 'Potter Valley', 'Potts Point', 'Poughkeepsie', 'Poulsbo', 'Prato', 'Prescott', 'Pretoria', 'Prince George', 'Prior Lake', 'Prospect', 'Puchheim', 'Puchong', 'Puc�n', 'Puerto De Andraitx', 'Puerto Madero', 'Puerto Varas', 'Puerto Viejo', 'Punta Gorda', 'Purchase', 'Putnam', 'Puurs', 'Pyle', 'Pyrmont', 'Qiryat Bialik', 'Qiryat Ono', 'Qiryat Shmona', 'Quanzhou', 'Quedgeley', 'Queensbury', 'Quepos', 'Quer�taro', 'Quezon City', 'Quierschied', 'Quilcene', 'Quinlan', 'Quito', 'Quzhou', \"Ra'ananna\", 'Radebeul', 'Radford', 'Ramadan City', 'Ramat Yishai', 'Ramenskoye', 'Ramona', 'Ramotswa', 'Ramsey', 'Rancho Palos Verdes', 'Rancho Santa Fe', 'Randallstown', 'Randburg', 'Ravensburg', 'Rawalpindi Cantonment', 'Rayleigh', 'Red Oak', 'Redding', 'Redlands', 'Reeds Spring', 'Reepham', 'Regau', 'Reggio Nell Emilia', 'Reigate', 'Reinach', 'Rensselaer Falls', 'Retford', 'Reutlingen', 'Revel', 'Revelstoke', 'Rex', 'Rexburg', 'Rialto', 'Ribeir�o Pr�to', 'Richfield', 'Richland', 'Richmond Upon Thames', 'Rickmansworth', 'Ridge Spring', 'Ridgefield Park', 'Ridgewood', 'Ringsend', 'Rio Branco', 'Rio Grande Do Sul', 'Ripon', 'Ripton', 'Rishon Letsiyon', 'Rising Sun', 'River Edge', 'River Forest', 'Riverbank', 'Riverton', 'Roca', 'Rock Hill', 'Rock Island', 'Rock Springs', 'Rockaway', 'Rockfield', 'Rockingham', 'Rockwall', 'Rocky Mount', 'Rocky River', 'Roland', 'Rolle', 'Romainville', 'Romsey', 'Ronkonkoma', 'Rootstown', 'Rosario Del Tala', 'Rosciano', 'Rosebud', 'Rosedale', 'Roslyn', 'Rosmalen', 'Rostov-on-don', 'Rosyth', 'Rotkreuz', 'Rotorua', 'Rouen', 'Round Lake', 'Roxbury', 'Roy', 'Royal Tunbridge Wells', 'Royal Wootton Bassett', 'Royalston', 'Royston', 'Rugby', 'Ruidoso Downs', 'Ruschlikon', 'Rushville', 'Ruskin', 'Russellville', 'Russian Mission', 'Rutland', 'Ryde', 'R�ckeve', 'R�dlin', 'Saanichton', 'Sabetha', 'Sachse', 'Saco', 'Saffron Walden', 'Sagle', 'Sahuarita', 'Saint Andrews', 'Saint Bees', 'Saint Bonaventure', 'Saint Catharines', 'Saint Charles', 'Saint Clair Shores', 'Saint Gallen', 'Saint Helens', 'Saint James', 'Saint Louis Park', 'Saint Michael', 'Saint Peters', 'Saint-aubin-de-m�doc', 'Saint-denis-sur-loire', 'Saint-genis-pouilly', 'Saint-germain-en-laye', 'Saint-gilles', 'Saint-ismier', 'Saint-laurent', 'Saint-lazare-de-bellechasse', 'Saint-louis-et-parahou', 'Saint-martin-des-champs', 'Saint-priest-ligoure', 'Saint-�tienne-vall�e-fran�aise', 'Salaberry-de-valleyfield', 'Salamanca', 'Salerno', 'Salzburg', 'Samara', 'San Benito', 'San Bernardino', 'San Casciano Val Di Pesa', 'San Crist�bal De La Laguna', 'San Dimas', 'San Gabriel', 'San Isidro', 'San Lazzaro', 'San Luis Potos�', 'San Miniato', 'San Pablo', 'San Pedro', 'San Polo', 'San Salvador', 'San Vicente', 'Sandy Hook', 'Sandy Spring', 'Sandyford', 'Sanhe', 'Sankt Gallen', 'Sankt Ruprecht An Der Raab', 'Santa Catarina', 'Santa Clarita', 'Santa Fe Springs', 'Santa Maria', 'Santander', 'Santee', 'Santo Stefano Di Cadore', 'Sarnen', 'Sarpsborg', 'Sartell', 'Sartrouville', 'Sassari', 'Sautee Nacoochee', 'Sawbridgeworth', 'Saybrook', 'Scandia', 'Scarborough', 'Scarsdale', 'Schagen', 'Schalksm�hle', 'Schertz', 'Schiller Park', 'Schindellegi', 'Schuttrange', 'Schuyler Lake', 'Schwarzenbruck', 'Schwechat', 'Schwetzingen', 'Scituate', 'Scoresby', 'Scotch Plains', 'Sea Cliff', 'Seabrook', 'Seafield', 'Seaford', 'Sedgefield', 'Seefeld', 'Seguin', 'Selangor', 'Sellindge', 'Sequim', 'Sergiyev Posad', 'Seri Kembangan', 'Serris', 'Sesto San Giovanni', 'Sevenoaks', 'Seyssinet-pariset', 'Sgonico', 'Shakopee', 'Shandong', 'Shawnee On Delaware', 'Sherbrooke', 'Sheridan', 'Shimla', 'Shipley', 'Shoreditch', 'Shoreham', 'Shrewsbury', 'Shumen', 'Sibiu', 'Sichuan', 'Sidcup', 'Sidney', 'Siena', 'Sierre', 'Signal Hill', 'Siler City', 'Silt', 'Simao', 'Simbario', 'Simferopol', 'Sipoo', 'Siracusa', 'Sisli', 'Site�a', 'Sitges', 'Skanderborg', 'Skarpn�ck', 'Skien', 'Skillman', 'Skipton', 'Skovlunde', 'Sk�vde', 'Slidell', 'Slinfold', 'Smethport', 'Smithton', 'Smithtown', 'Smithville', 'Sm�rumnedre', 'Snaith', 'Sogndal', 'Sohl', 'Solothurn', 'Somers Point', 'Sonceboz', 'Sopot', 'Souderton', 'South Boston', 'South Easton', 'South Grafton', 'South Hadley', 'South Harwich', 'South Kent', 'South Lake Tahoe', 'South Molton', 'South Pasadena', 'South Perth', 'South Richmond Hill', 'South Shields', 'South Windsor', 'South Yarra', 'Southam', 'Southaven', 'Southington', 'Southwark', 'Sparta', 'Spicewood', 'Spoleto', 'Spooner', 'Spring Hill', 'Spring Lake', 'Spring Lake Park', 'Spruce Grove', 'Spur', 'St. Helena', 'St. Pete Beach', 'Stalybridge', 'Stanhope', 'Stanmore', 'Stanton', 'State University', 'Stavanger', 'Steamboat Springs', 'Steinbach', 'Steinhausen', 'Stenl�se', 'Stevenson', 'Stirling', 'Stoke', 'Storrs Mansfield', 'Stoughton', 'Stow Cum Quy', 'Strasburg', 'Stratford', 'Strathaven', 'Strathmore', 'Streator', 'Streetsboro', 'Stuhr', 'Sturgeon Bay', 'Sturtevant', 'Suffern', 'Suffolk', 'Sugar City', 'Sugar Hill', 'Sugarcreek', 'Suhl', 'Sullivan', 'Sulphur', 'Summerland', 'Summit Argo', 'Sun City', 'Sun Valley', 'Sundbyberg', 'Sunset', 'Surabaya', 'Surfers Paradise', 'Sussex', 'Sutton', 'Sutton Coldfield', 'Swanage', 'Swavesey', 'Sykesville', 'Sylmar', 'Sylvania', 'Szeged', 'Sz�kesfeh�rv�r', 'S�lvesborg', 'S�nderborg', 'S�o Leopoldo', 'S�te', 'Taiyuan', 'Takapuna', 'Takoma Park', 'Takoradi', 'Talent', 'Tallinna', 'Tallmadge', 'Tamworth', 'Taramani', 'Targu Jiu', 'Targu-mures', 'Tarragona', 'Tashkent', 'Tavares', 'Taylorsville', 'Teddington', 'Tehachapi', 'Tel Aviv-jaffa', 'Tel Mond', 'Tell Abib', 'Telluride', 'Tema', 'Temple', 'Temple Hills', 'Temuco', 'Ten Sleep', 'Tennessee', 'Terni', 'Terrassa', 'Tetbury', 'Texarkana', 'Thame', 'Thebarton', 'Thessalon�ki', 'Thiensville', 'Thiruvananthapuram', 'Thonon-les-bains', 'Thornton', 'Ticonderoga', 'Tielt', 'Tiller', 'Tilton', 'Tirana', 'Tirat Carmel', 'Tirupur', 'Titusville', 'Tiverton', 'Tofte', 'Tokai', 'Tolland', 'Tomball', 'Toms River', 'Tomsk', 'Tonawanda', 'Tonbridge', 'Tongzhou', 'Tooele', 'Toston', 'Toulon', 'Tower City', 'Townsville', 'Trabuco Canyon', 'Traverse City', 'Tremonton', 'Trieste', 'Trois-rivi�res', 'Troon', 'Trout Lake', 'Trowbridge', 'Truckee', 'Truro', 'Trussville', 'Tsukuba', 'Tuckerton', 'Tulare', 'Tullamore', 'Tumkur', 'Tunbridge Wells', 'Tupelo', 'Turner', 'Turnhout', 'Tuscaloosa', 'Tuskegee', 'Tutzing', 'Tuxtla Gutierres', 'Tyler', 'T�by', 'Ukiah', 'Union Star', 'Unionville', 'Unterhaching', 'Unterpremstatten', 'Unterschlei�heim', 'Upland', 'Upper Marlboro', 'Upplands-v�sby', 'Urbana', 'Usk', 'Uusikaupunki', 'Uzerche', 'Vacaville', 'Valby', 'Valdosta', 'Valhermoso Springs', 'Valley Cottage', 'Valley Village', 'Valrico', 'Varanasi', 'Varna', 'Vaulx-en-velin', 'Venelles', 'Ventnor', 'Verbier', 'Vermillion', 'Verwood', 'Vestal', 'Vevey', 'Vicksburg', 'Vijayawada', 'Villaviciosa De Od�n', 'Villejuif', 'Villeneuve-l�s-b�ziers', 'Vineland', 'Vipper�d', 'Vitacura', 'Vit�ria Do Mearim', 'Vleuten', 'Voiron', 'Vonore', 'Vosselaar', 'V�los', 'V�rl�se', 'V�rmd�', 'V�stra Fr�lunda', 'Waardenburg', 'Wadenswil', 'Waikoloa', 'Waldorf', 'Wallsend-on-tyne', 'Wanaque', 'Wanchai', 'Wangen Im Allg�u', 'Ware', 'Waregem', 'Warner Robins', 'Warrenville', 'Washoe Valley', 'Watford City', 'Watkins', 'Watkinsville', 'Wauconda', 'Wausau', 'Waxahachie', 'Waynesville', 'Wedel', 'Weehawken', 'Weesp', 'Weifang', 'Weihai', 'Weiji', 'Weimar', 'Weingarten', 'Welland', 'Wells', 'Wellsville', 'Wembley', 'Wenatchee', 'Wendelsheim', 'Wenzhou', 'Werl', 'West Babylon', 'West Boothbay Harbor', 'West Chicago', 'West Fargo', 'West Hurley', 'West Kingston', 'West Lake Hills', 'West Los Angeles', 'West Mansfield', 'West Newfield', 'West Newton', 'West Nyack', 'West Saint Paul', 'West Simsbury', 'West Springfield', 'West University Place', 'West Valley City', 'Westbury', 'Westland', 'Westmont', 'Wetaskiwin', 'Wetherby', 'Wethersfield', 'Wetzlar', 'We�ling', 'Wheaton', 'Wheeling', 'Whistler', 'Whitehouse', 'Whiting', 'Whitinsville', 'Wilberforce', 'Wilderswil', 'Wildomar', 'Williamsport', 'Willoughby', 'Willow Grove', 'Wilmette', 'Wilrijk', 'Wincanton', 'Windber', 'Windisch', 'Winnersh', 'Winnetka', 'Winona', 'Winooski', 'Winter Springs', 'Wisconsin Rapids', 'Wise', 'Wisner', 'Wittenberg', 'Wokingham', 'Wommelgem', 'Wood Dale', 'Woodbine', 'Woodlyn', 'Woodmere', 'Woods Hole', 'Woonsocket', 'Workington', 'Worland', 'Wrentham', 'Wrightsville Beach', 'Wuse', 'Wuxi', 'Wuxue', 'Wyckoff', 'Wylie', 'Wyoming', 'W�chtersbach', 'W�rselen', 'W�rzberg', 'Xiangyang', 'Xianyang', 'Xicheng', 'Xuhui', 'Yakima', 'Yamato-minami', 'Yarmouth', 'Yarmouth Port', 'Yarnton', 'Yavneh', 'Yichang', 'Yokohama-shi', 'Yongin', 'York Haven', 'Yorktown Heights', 'Yreka', 'Yverdon-les-bains', 'Zaandijk', 'Zaanstad', 'Zaghouan', 'Zamudio', \"Zarqa'\", 'Zebulon', 'Zelenec', 'Zelenograd', 'Zell Am See', 'Zephyr Cove', 'Zevenbergen', 'Zhongshan', 'Zilina', 'Zurich', 'Zwevegem', 'Zwingenberg', 'Zwolle', '�karp', '�rnsk�ldsvik', '�safj�r�ur', '�sterby Havn', '�vora']\n",
            "4188\n",
            "null dummy for onehotencoded_quarter_new_index\n",
            "4\n",
            "['Q1', 'Q2', 'Q3', 'Q4']\n",
            "null dummy for onehotencoded_investor_country_code_index\n",
            "78\n",
            "['USA_investor', 'GBR_investor', 'FRA_investor', 'CHN_investor', 'DEU_investor', 'ESP_investor', 'CAN_investor', 'CHL_investor', 'ISR_investor', 'JPN_investor', 'RUS_investor', 'ITA_investor', 'IND_investor', 'SWE_investor', 'HKG_investor', 'IRL_investor', 'SGP_investor', 'CHE_investor', 'DNK_investor', 'NLD_investor', 'KOR_investor', 'AUS_investor', 'FIN_investor', 'ARG_investor', 'BGR_investor', 'BEL_investor', 'BRA_investor', 'POL_investor', 'LUX_investor', 'NOR_investor', 'PRT_investor', 'JOR_investor', 'EST_investor', 'TUR_investor', 'UKR_investor', 'HUN_investor', 'AUT_investor', 'ZAF_investor', 'GRC_investor', 'CZE_investor', 'LBN_investor', 'MUS_investor', 'TWN_investor', 'MYS_investor', 'NZL_investor', 'ARE_investor', 'KEN_investor', 'KHM_investor', 'LTU_investor', 'URY_investor', 'MEX_investor', 'SVK_investor', 'PHL_investor', 'CYM_investor', 'ISL_investor', 'ROM_investor', 'THA_investor', 'IDN_investor', 'COL_investor', 'EGY_investor', 'GHA_investor', 'NGA_investor', 'SAU_investor', 'SVN_investor', 'BHR_investor', 'LVA_investor', 'PSE_investor', 'VNM_investor', 'BLR_investor', 'BMU_investor', 'CYP_investor', 'ARM_investor', 'AZE_investor', 'IRN_investor', 'KWT_investor', 'MAR_investor', 'TTO_investor', 'VEN_investor']\n",
            "null dummy for onehotencoded_funding_round_type_index\n",
            "13\n",
            "['venture', 'seed', 'undisclosed', 'angel', 'private_equity', 'debt_financing', 'grant', 'convertible_note', 'equity_crowdfunding', 'post_ipo_equity', 'post_ipo_debt', 'product_crowdfunding', 'secondary_market']\n",
            "null dummy for onehotencoded_category_final_index\n",
            "2\n",
            "['None', ' + Mobile']\n"
          ]
        }
      ],
      "source": [
        "# null dummy for onehotencoded_country_code_index\n",
        "print(\"null dummy for onehotencoded_country_code_index\")\n",
        "print(len(indexers[0].labels))\n",
        "print(indexers[0].labels)\n",
        "# null dummy for onehotencoded_city_index\n",
        "print(\"null dummy for onehotencoded_city_index\")\n",
        "print(indexers[1].labels)\n",
        "print(len(indexers[1].labels))\n",
        "# null dummy for onehotencoded_quarter_new_index\n",
        "print(\"null dummy for onehotencoded_quarter_new_index\")\n",
        "print(len(indexers[2].labels))\n",
        "print(indexers[2].labels)\n",
        "# null dummy for onehotencoded_investor_country_code_index\n",
        "print(\"null dummy for onehotencoded_investor_country_code_index\")\n",
        "print(len(invcc))\n",
        "print(invcc)\n",
        "# null dummy for onehotencoded_funding_round_type_index\n",
        "print(\"null dummy for onehotencoded_funding_round_type_index\")\n",
        "print(len(indexers[4].labels))\n",
        "print(indexers[4].labels)\n",
        "# null dummy for onehotencoded_category_final_index\n",
        "print(\"null dummy for onehotencoded_category_final_index\")\n",
        "print(len(indexers[5].labels))\n",
        "print(indexers[5].labels)"
      ]
    },
    {
      "cell_type": "markdown",
      "metadata": {
        "id": "jP7-JY6C6OVS"
      },
      "source": [
        "# Modeling"
      ]
    },
    {
      "cell_type": "markdown",
      "metadata": {
        "id": "0IZ7oVSUAHnx"
      },
      "source": [
        "## DECISION TREE"
      ]
    },
    {
      "cell_type": "code",
      "execution_count": null,
      "metadata": {
        "id": "-ltVyQEQAYtI"
      },
      "outputs": [],
      "source": [
        "# define multiclass classification evaluator\n",
        "mce = MulticlassClassificationEvaluator()"
      ]
    },
    {
      "cell_type": "code",
      "execution_count": null,
      "metadata": {
        "id": "B03zEVa1AMtn"
      },
      "outputs": [],
      "source": [
        "dt = DecisionTreeClassifier(labelCol=\"label\", featuresCol=\"features\")"
      ]
    },
    {
      "cell_type": "code",
      "execution_count": null,
      "metadata": {
        "id": "ENJ5cfi5As1Y"
      },
      "outputs": [],
      "source": [
        "dt_pipeline = Pipeline(stages=[vanum, std, vacate, va, dt]).fit(training_df)"
      ]
    },
    {
      "cell_type": "code",
      "execution_count": null,
      "metadata": {
        "id": "m9XS6ee5BH86"
      },
      "outputs": [],
      "source": [
        "dfdt = dt_pipeline.transform(validation_df)"
      ]
    },
    {
      "cell_type": "code",
      "execution_count": null,
      "metadata": {
        "colab": {
          "base_uri": "https://localhost:8080/"
        },
        "id": "MAQ7mbWeBXbF",
        "outputId": "25e0db84-738e-4881-977e-857ea151e076"
      },
      "outputs": [
        {
          "name": "stdout",
          "output_type": "stream",
          "text": [
            "Decision Tree: AUC = 0.8889313652753997\n"
          ]
        }
      ],
      "source": [
        "# print the areas under the curve for the different random forest pipelines\n",
        "print(\"Decision Tree: AUC = {}\".format(mce.evaluate(dfdt)))"
      ]
    },
    {
      "cell_type": "code",
      "execution_count": null,
      "metadata": {
        "colab": {
          "base_uri": "https://localhost:8080/"
        },
        "id": "kkNWwd7SBeuv",
        "outputId": "7cd848b7-422c-4033-dc9a-f7e40cda9c8d"
      },
      "outputs": [
        {
          "name": "stdout",
          "output_type": "stream",
          "text": [
            "+--------------------------+\n",
            "|Accuracy for Decision Tree|\n",
            "+--------------------------+\n",
            "|        0.9247161919936268|\n",
            "+--------------------------+\n",
            "\n",
            "None\n"
          ]
        }
      ],
      "source": [
        "# print the accuracies for the different random forest pipelines\n",
        "print(dfdt.select(fn.expr('float(label = prediction)').alias('correct')).select(fn.avg('correct').alias(\"Accuracy for Decision Tree\")).show())"
      ]
    },
    {
      "cell_type": "markdown",
      "metadata": {
        "id": "JPmN0wEL6QH2"
      },
      "source": [
        "## RANDOM FOREST"
      ]
    },
    {
      "cell_type": "code",
      "execution_count": null,
      "metadata": {
        "id": "5_Cg3LOw6Tt_"
      },
      "outputs": [],
      "source": [
        "# define binary classification evaluator\n",
        "bce = BinaryClassificationEvaluator()"
      ]
    },
    {
      "cell_type": "code",
      "execution_count": null,
      "metadata": {
        "id": "U65VOCUe6Wqd"
      },
      "outputs": [],
      "source": [
        "# define default, 15 trees and 25 trees random forest classifier\n",
        "rf = RandomForestClassifier(maxBins=10000, featuresCol='features', labelCol='label')\n",
        "rf15 = RandomForestClassifier(numTrees=15, maxBins=10000, featuresCol='features', labelCol='label')\n",
        "rf25 = RandomForestClassifier(numTrees=25, maxBins=10000, featuresCol='features', labelCol='label')"
      ]
    },
    {
      "cell_type": "code",
      "execution_count": null,
      "metadata": {
        "id": "v0M6PG0B6ZA1"
      },
      "outputs": [],
      "source": [
        "# define and fit pipelines with vector assembler and random forest classifier \n",
        "rf_pipeline = Pipeline(stages=[vanum, std, vacate, va, rf]).fit(training_df)\n",
        "rf_pipeline_15 = Pipeline(stages=[vanum, std, vacate, va, rf15]).fit(training_df)\n",
        "rf_pipeline_25 = Pipeline(stages=[vanum, std, vacate, va, rf25]).fit(training_df)"
      ]
    },
    {
      "cell_type": "code",
      "execution_count": null,
      "metadata": {
        "id": "Xi1u58GI9B0E"
      },
      "outputs": [],
      "source": [
        "dfrf = rf_pipeline.transform(validation_df)\n",
        "dfrf_15 = rf_pipeline_15.transform(validation_df)\n",
        "dfrf_25 = rf_pipeline_25.transform(validation_df)"
      ]
    },
    {
      "cell_type": "code",
      "execution_count": null,
      "metadata": {
        "colab": {
          "base_uri": "https://localhost:8080/"
        },
        "id": "1PHkq0Zm6mcF",
        "outputId": "06c815be-8464-445a-956b-70df4c347409"
      },
      "outputs": [
        {
          "name": "stdout",
          "output_type": "stream",
          "text": [
            "+-----+--------------------+--------------------+-----------------+---------+------------+-------------+--------------+------------+-----------+----+--------------------+--------------+---------------------+----------------------+--------------------+----------------+--------------------+--------------+--------------------+---------------------+--------------------+------------------+--------+------------------+----------+-----------------+---------------------------+------------------------+--------------------+----------------------+-----------+----------------------+-----------------------------+------------------------+-----+--------------------------------+------------------------+-------------------------------+-----------------------------------------+--------------------------------------+----------------------------------+--------------------+--------------------+--------------------+--------------------+--------------------+--------------------+----------+\n",
            "|  _c0|           permalink|                name|funding_total_usd|   status|country_code|         city|funding_rounds|founded_year|quarter_new| age|       permalink_agg|count_investor|time_to_first_funding|investor_country_codes| funding_round_types|total_raised_usd|       permalink_sub|category_final|               perma|investor_country_code|          permaround|funding_round_type|labelacq|country_code_index|city_index|quarter_new_index|investor_country_code_index|funding_round_type_index|category_final_index|numeric_funding_rounds|numeric_age|numeric_count_investor|numeric_time_to_first_funding|numeric_total_raised_usd|label|onehotencoded_country_code_index|onehotencoded_city_index|onehotencoded_quarter_new_index|onehotencoded_investor_country_code_index|onehotencoded_funding_round_type_index|onehotencoded_category_final_index|     features_nonstd|         featuresnum|        featurescate|            features|       rawPrediction|         probability|prediction|\n",
            "+-----+--------------------+--------------------+-----------------+---------+------------+-------------+--------------+------------+-----------+----+--------------------+--------------+---------------------+----------------------+--------------------+----------------+--------------------+--------------+--------------------+---------------------+--------------------+------------------+--------+------------------+----------+-----------------+---------------------------+------------------------+--------------------+----------------------+-----------+----------------------+-----------------------------+------------------------+-----+--------------------------------+------------------------+-------------------------------+-----------------------------------------+--------------------------------------+----------------------------------+--------------------+--------------------+--------------------+--------------------+--------------------+--------------------+----------+\n",
            "|    0|  /organization/1lay|                1Lay|        1,70,000 |operating|         USA|San Francisco|             1|        2013|         Q3| 1.5|  /organization/1lay|           0.0|                  0.0|                   USA|                seed|           118.0|  /organization/1lay|          None| /organization/prysm|                  USA| /organization/prysm|              null|     0.0|               0.0|       0.0|              2.0|                        0.0|                     0.0|                 0.0|                     1|          1|                     0|                            0|                     118|    0|                 (114,[0],[1.0])|        (4187,[0],[1.0])|                  (3,[2],[1.0])|                           (77,[0],[1.0])|                        (12,[0],[1.0])|                     (1,[0],[1.0])|[1.0,1.0,0.0,0.0,...|[-0.5396220160836...|(4394,[0,114,4303...|(4399,[0,1,2,3,4,...|[18.5717233220438...|[0.92858616610219...|       0.0|\n",
            "|10005|/organization/onlive|              OnLive|     5,65,00,000 |operating|         USA|    Palo Alto|             3|        2002|         Q1|13.0|/organization/onlive|           8.0|                 5.75|  USA, USA, USA, US...|venture, venture,...|           118.0|/organization/onlive|          None|/organization/onlive|                  USA|/organization/onlive|              null|     0.0|               0.0|       3.0|              0.0|                        0.0|                     0.0|                 0.0|                     3|         13|                     8|                            5|                     118|    0|                 (114,[0],[1.0])|        (4187,[3],[1.0])|                  (3,[0],[1.0])|                           (77,[0],[1.0])|                        (12,[0],[1.0])|                     (1,[0],[1.0])|[3.0,13.0,8.0,5.0...|[1.00673634212017...|(4394,[0,117,4301...|(4399,[0,1,2,3,4,...|[18.2535872660067...|[0.91267936330033...|       0.0|\n",
            "|10013|/organization/par...|            ParkWhiz|     1,20,00,000 |operating|         USA|      Chicago|             2|        2007|         Q3| 7.5|/organization/par...|          14.0|                 5.25|  USA, USA, USA, US...|venture, venture,...|           118.0|/organization/par...|          None|/organization/par...|                  USA|/organization/par...|              null|     0.0|               0.0|       7.0|              2.0|                        0.0|                     0.0|                 0.0|                     2|          7|                    14|                            5|                     118|    0|                 (114,[0],[1.0])|        (4187,[7],[1.0])|                  (3,[2],[1.0])|                           (77,[0],[1.0])|                        (12,[0],[1.0])|                     (1,[0],[1.0])|[2.0,7.0,14.0,5.0...|[0.23355716301826...|(4394,[0,121,4303...|(4399,[0,1,2,3,4,...|[18.3929487999281...|[0.91964743999640...|       0.0|\n",
            "|10021|/organization/pos...|PostSharp Technol...|             -   |operating|         CZE|       Prague|             1|        2010|         Q3| 4.5|/organization/pos...|           1.0|                 -1.0|                   USA|               angel|           118.0|/organization/pos...|          None| /organization/prysm|                  USA|/organization/pos...|              null|     0.0|              37.0|     212.0|              2.0|                        0.0|                     3.0|                 0.0|                     1|          4|                     1|                           -1|                     118|    0|                (114,[37],[1.0])|      (4187,[212],[1.0])|                  (3,[2],[1.0])|                           (77,[0],[1.0])|                        (12,[3],[1.0])|                     (1,[0],[1.0])|[1.0,4.0,1.0,-1.0...|[-0.5396220160836...|(4394,[37,326,430...|(4399,[0,1,2,3,4,...|[18.6351540290787...|[0.93175770145393...|       0.0|\n",
            "| 1003|/organization/vit...|             Vitrina|        5,00,000 |operating|         USA|San Francisco|             1|        2012|         Q1| 3.0|/organization/vit...|           1.0|                  0.0|                   USA|               angel|           118.0|/organization/vit...|          None| /organization/prysm|                  USA|/organization/vit...|              null|     0.0|               0.0|       0.0|              0.0|                        0.0|                     3.0|                 0.0|                     1|          3|                     1|                            0|                     118|    0|                 (114,[0],[1.0])|        (4187,[0],[1.0])|                  (3,[0],[1.0])|                           (77,[0],[1.0])|                        (12,[3],[1.0])|                     (1,[0],[1.0])|[1.0,3.0,1.0,0.0,...|[-0.5396220160836...|(4394,[0,114,4301...|(4399,[0,1,2,3,4,...|[18.5850911405596...|[0.92925455702798...|       0.0|\n",
            "|10034|/organization/sap...|           Sapato.ru|     2,00,00,000 | acquired|         RUS|       Moscow|             3|        2010|         Q2|4.75|/organization/sap...|           6.0|                -0.25|  SWE, USA, USA, GB...|venture, venture,...|           118.0|/organization/sap...|          None|/organization/sap...|                  USA|/organization/sap...|              null|     1.0|               9.0|      22.0|              1.0|                        0.0|                     0.0|                 0.0|                     3|          4|                     6|                            0|                     118|    1|                 (114,[9],[1.0])|       (4187,[22],[1.0])|                  (3,[1],[1.0])|                           (77,[0],[1.0])|                        (12,[0],[1.0])|                     (1,[0],[1.0])|[3.0,4.0,6.0,0.0,...|[1.00673634212017...|(4394,[9,136,4302...|(4399,[0,1,2,3,4,...|[18.5281416634055...|[0.92640708317027...|       0.0|\n",
            "|10036|/organization/sca...|         ScalingData|       44,00,000 |operating|         USA|San Francisco|             1|        2014|         Q1| 1.0|/organization/sca...|           3.0|                 0.25|              USA, USA|venture, venture,...|           118.0|/organization/sca...|          None|/organization/sca...|                  USA|/organization/sca...|              null|     0.0|               0.0|       0.0|              0.0|                        0.0|                     0.0|                 0.0|                     1|          1|                     3|                            0|                     118|    0|                 (114,[0],[1.0])|        (4187,[0],[1.0])|                  (3,[0],[1.0])|                           (77,[0],[1.0])|                        (12,[0],[1.0])|                     (1,[0],[1.0])|[1.0,1.0,3.0,0.0,...|[-0.5396220160836...|(4394,[0,114,4301...|(4399,[0,1,2,3,4,...|[18.5372622351427...|[0.92686311175713...|       0.0|\n",
            "|10044|/organization/sma...|     SmartPay Jieyin|     1,00,00,000 |operating|         CHN|     Shanghai|             2|        2001|         Q1|14.0|/organization/sma...|           4.0|                  4.5|    USA, CHN, THA, USA|venture, venture,...|           118.0|/organization/sma...|          None|/organization/sma...|                  USA|/organization/sma...|              null|     0.0|               3.0|      27.0|              0.0|                        0.0|                     0.0|                 0.0|                     2|         14|                     4|                            4|                     118|    0|                 (114,[3],[1.0])|       (4187,[27],[1.0])|                  (3,[0],[1.0])|                           (77,[0],[1.0])|                        (12,[0],[1.0])|                     (1,[0],[1.0])|[2.0,14.0,4.0,4.0...|[0.23355716301826...|(4394,[3,141,4301...|(4399,[0,1,2,3,4,...|[18.4623134586268...|[0.92311567293134...|       0.0|\n",
            "|10045|/organization/sma...|            Smartzer|        4,00,000 |operating|         GBR|       London|             1|        2012|         Q1| 3.0|/organization/sma...|          14.0|                 2.75|                   GBR|angel, angel, ang...|           118.0|/organization/sma...|          None|/organization/sma...|                  GBR|/organization/sma...|              null|     0.0|               1.0|       2.0|              0.0|                        1.0|                     3.0|                 0.0|                     1|          3|                    14|                            2|                     118|    0|                 (114,[1],[1.0])|        (4187,[2],[1.0])|                  (3,[0],[1.0])|                           (77,[1],[1.0])|                        (12,[3],[1.0])|                     (1,[0],[1.0])|[1.0,3.0,14.0,2.0...|[-0.5396220160836...|(4394,[1,116,4301...|(4399,[0,1,2,3,4,...|[18.5722556202327...|[0.92861278101163...|       0.0|\n",
            "|10046|/organization/sna...|         Snacksquare|          30,000 |   closed|         USA|       Goleta|             1|        2010|         Q1| 5.0|/organization/sna...|           0.0|                  0.0|                   USA|                seed|           118.0|/organization/sna...|          None| /organization/prysm|                  USA| /organization/prysm|              null|     0.0|               0.0|     401.0|              0.0|                        0.0|                     0.0|                 0.0|                     1|          5|                     0|                            0|                     118|    0|                 (114,[0],[1.0])|      (4187,[401],[1.0])|                  (3,[0],[1.0])|                           (77,[0],[1.0])|                        (12,[0],[1.0])|                     (1,[0],[1.0])|[1.0,5.0,0.0,0.0,...|[-0.5396220160836...|(4394,[0,515,4301...|(4399,[0,1,2,3,4,...|[18.5372622351427...|[0.92686311175713...|       0.0|\n",
            "|10048|/organization/sof...|           Softfront|       49,00,000 |operating|         JPN|San Francisco|             1|        2012|         Q1| 3.0|/organization/sof...|           1.0|                  0.0|                   USA|             venture|           118.0|/organization/sof...|          None| /organization/prysm|                  USA|/organization/sof...|              null|     0.0|              18.0|       0.0|              0.0|                        0.0|                     0.0|                 0.0|                     1|          3|                     1|                            0|                     118|    0|                (114,[18],[1.0])|        (4187,[0],[1.0])|                  (3,[0],[1.0])|                           (77,[0],[1.0])|                        (12,[0],[1.0])|                     (1,[0],[1.0])|[1.0,3.0,1.0,0.0,...|[-0.5396220160836...|(4394,[18,114,430...|(4399,[0,1,2,3,4,...|[18.5793524031506...|[0.92896762015753...|       0.0|\n",
            "| 1005|  /organization/wafu|                WAFU|       15,42,000 |operating|         CAN|     Montr�al|             2|        2012|         Q1| 3.0|  /organization/wafu|           0.0|                  0.0|                   USA|                seed|           118.0|  /organization/wafu|          None| /organization/prysm|                  USA| /organization/prysm|              null|     0.0|               2.0|      48.0|              0.0|                        0.0|                     0.0|                 0.0|                     2|          3|                     0|                            0|                     118|    0|                 (114,[2],[1.0])|       (4187,[48],[1.0])|                  (3,[0],[1.0])|                           (77,[0],[1.0])|                        (12,[0],[1.0])|                     (1,[0],[1.0])|[2.0,3.0,0.0,0.0,...|[0.23355716301826...|(4394,[2,162,4301...|(4399,[0,1,2,3,4,...|[18.5281416634055...|[0.92640708317027...|       0.0|\n",
            "|10057|/organization/sun...|Sunverge Energy, Inc|     1,50,00,000 |operating|         USA|     Stockton|             1|        2010|         Q1| 5.0|/organization/sun...|           3.0|                 4.25|                   DEU|venture, venture,...|           118.0|/organization/sun...|          None|/organization/sun...|                  DEU|/organization/sun...|              null|     0.0|               0.0|     925.0|              0.0|                        4.0|                     0.0|                 0.0|                     1|          5|                     3|                            4|                     118|    0|                 (114,[0],[1.0])|      (4187,[925],[1.0])|                  (3,[0],[1.0])|                           (77,[4],[1.0])|                        (12,[0],[1.0])|                     (1,[0],[1.0])|[1.0,5.0,3.0,4.0,...|[-0.5396220160836...|(4394,[0,1039,430...|(4399,[0,1,2,3,4,...|[18.4096984527722...|[0.92048492263861...|       0.0|\n",
            "| 1006|/organization/wea...|             Weatlas|        6,25,000 |operating|         RUS|       Moscow|             2|        2011|         Q4|3.25|/organization/wea...|           1.0|                  2.0|                   USA|          seed, seed|           118.0|/organization/wea...|          None| /organization/prysm|                  USA|/organization/wea...|              null|     0.0|               9.0|      22.0|              3.0|                        0.0|                     1.0|                 0.0|                     2|          3|                     1|                            2|                     118|    0|                 (114,[9],[1.0])|       (4187,[22],[1.0])|                      (3,[],[])|                           (77,[0],[1.0])|                        (12,[1],[1.0])|                     (1,[0],[1.0])|[2.0,3.0,1.0,2.0,...|[0.23355716301826...|(4394,[9,136,4304...|(4399,[0,1,2,3,4,...|[18.5642514482057...|[0.92821257241028...|       0.0|\n",
            "|10062|/organization/syn...|           SynapCell|       44,30,000 |operating|         FRA|     Grenoble|             1|        2005|         Q2|9.75|/organization/syn...|           4.0|                 3.75|              FRA, FRA|venture, venture,...|           118.0|/organization/syn...|          None|/organization/syn...|                  FRA|/organization/syn...|              null|     0.0|               5.0|     565.0|              1.0|                        2.0|                     0.0|                 0.0|                     1|          9|                     4|                            3|                     118|    0|                 (114,[5],[1.0])|      (4187,[565],[1.0])|                  (3,[1],[1.0])|                           (77,[2],[1.0])|                        (12,[0],[1.0])|                     (1,[0],[1.0])|[1.0,9.0,4.0,3.0,...|[-0.5396220160836...|(4394,[5,679,4302...|(4399,[0,1,2,3,4,...|[18.4517886207801...|[0.92258943103900...|       0.0|\n",
            "|10068|/organization/the...|      The NewsMarket|       43,00,000 |operating|         USA|     New York|             1|        2000|         Q1|15.0|/organization/the...|           4.0|                 9.75|    USA, USA, USA, USA|venture, venture,...|           118.0|/organization/the...|          None|/organization/the...|                  USA|/organization/the...|              null|     0.0|               0.0|       1.0|              0.0|                        0.0|                     0.0|                 0.0|                     1|         15|                     4|                            9|                     118|    0|                 (114,[0],[1.0])|        (4187,[1],[1.0])|                  (3,[0],[1.0])|                           (77,[0],[1.0])|                        (12,[0],[1.0])|                     (1,[0],[1.0])|[1.0,15.0,4.0,9.0...|[-0.5396220160836...|(4394,[0,115,4301...|(4399,[0,1,2,3,4,...|[18.3902651659609...|[0.91951325829804...|       0.0|\n",
            "|10071|/organization/the...|          TheDigitel|             -   |operating|         USA|   Charleston|             1|        2008|         Q2|6.75|/organization/the...|           1.0|                  1.5|                   USA|                seed|           118.0|/organization/the...|          None| /organization/prysm|                  USA|/organization/the...|              null|     0.0|               0.0|     270.0|              1.0|                        0.0|                     1.0|                 0.0|                     1|          6|                     1|                            1|                     118|    0|                 (114,[0],[1.0])|      (4187,[270],[1.0])|                  (3,[1],[1.0])|                           (77,[0],[1.0])|                        (12,[1],[1.0])|                     (1,[0],[1.0])|[1.0,6.0,1.0,1.0,...|[-0.5396220160836...|(4394,[0,384,4302...|(4399,[0,1,2,3,4,...|[18.5733720199429...|[0.92866860099714...|       0.0|\n",
            "|10075|/organization/tin...|           tinyclues|       19,00,000 |operating|         FRA|        Paris|             1|        2010|         Q2|4.75|/organization/tin...|           2.0|                  3.5|              FRA, FRA|          seed, seed|           118.0|/organization/tin...|          None|/organization/tin...|                  FRA|/organization/tin...|              null|     0.0|               5.0|      13.0|              1.0|                        2.0|                     1.0|                 0.0|                     1|          4|                     2|                            3|                     118|    0|                 (114,[5],[1.0])|       (4187,[13],[1.0])|                  (3,[1],[1.0])|                           (77,[2],[1.0])|                        (12,[1],[1.0])|                     (1,[0],[1.0])|[1.0,4.0,2.0,3.0,...|[-0.5396220160836...|(4394,[5,127,4302...|(4399,[0,1,2,3,4,...|[18.5428240939151...|[0.92714120469575...|       0.0|\n",
            "|10078|/organization/tre...|             Treedom|        5,65,000 |operating|         USA| Santa Monica|             2|        2010|         Q4|4.25|/organization/tre...|           3.0|                  2.0|              USA, USA| grant, grant, angel|           118.0|/organization/tre...|          None|/organization/tre...|                  USA|/organization/tre...|              null|     0.0|               0.0|      26.0|              3.0|                        0.0|                     6.0|                 0.0|                     2|          4|                     3|                            2|                     118|    0|                 (114,[0],[1.0])|       (4187,[26],[1.0])|                      (3,[],[])|                           (77,[0],[1.0])|                        (12,[6],[1.0])|                     (1,[0],[1.0])|[2.0,4.0,3.0,2.0,...|[0.23355716301826...|(4394,[0,140,4304...|(4399,[0,1,2,3,4,...|[18.4789547124796...|[0.92394773562398...|       0.0|\n",
            "|10079|/organization/tri...| Triad Semiconductor|       60,00,000 |operating|         USA|Winston Salem|             1|        2012|         Q1| 3.0|/organization/tri...|           1.0|                  0.0|                   USA|             venture|           118.0|/organization/tri...|          None| /organization/prysm|                  USA|/organization/tri...|              null|     0.0|               0.0|     599.0|              0.0|                        0.0|                     0.0|                 0.0|                     1|          3|                     1|                            0|                     118|    0|                 (114,[0],[1.0])|      (4187,[599],[1.0])|                  (3,[0],[1.0])|                           (77,[0],[1.0])|                        (12,[0],[1.0])|                     (1,[0],[1.0])|[1.0,3.0,1.0,0.0,...|[-0.5396220160836...|(4394,[0,713,4301...|(4399,[0,1,2,3,4,...|[18.5372622351427...|[0.92686311175713...|       0.0|\n",
            "+-----+--------------------+--------------------+-----------------+---------+------------+-------------+--------------+------------+-----------+----+--------------------+--------------+---------------------+----------------------+--------------------+----------------+--------------------+--------------+--------------------+---------------------+--------------------+------------------+--------+------------------+----------+-----------------+---------------------------+------------------------+--------------------+----------------------+-----------+----------------------+-----------------------------+------------------------+-----+--------------------------------+------------------------+-------------------------------+-----------------------------------------+--------------------------------------+----------------------------------+--------------------+--------------------+--------------------+--------------------+--------------------+--------------------+----------+\n",
            "only showing top 20 rows\n",
            "\n"
          ]
        }
      ],
      "source": [
        "dfrf.show()"
      ]
    },
    {
      "cell_type": "markdown",
      "metadata": {
        "id": "rIxbhiAQzy3g"
      },
      "source": [
        "## Performance"
      ]
    },
    {
      "cell_type": "code",
      "execution_count": null,
      "metadata": {
        "colab": {
          "base_uri": "https://localhost:8080/"
        },
        "id": "qrsrlqbvzp6C",
        "outputId": "16eda263-b7be-408d-a443-3ec1ada403df"
      },
      "outputs": [
        {
          "name": "stdout",
          "output_type": "stream",
          "text": [
            "Random Forest with 20 trees: AUC = 0.6704048578881618\n",
            "Random Forest 15 trees: AUC = 0.7081371405125284\n",
            "Random Forest 25 trees: AUC = 0.6837994917522479\n"
          ]
        }
      ],
      "source": [
        "# print the areas under the curve for the different random forest pipelines\n",
        "print(\"Random Forest with 20 trees: AUC = {}\".format(bce.evaluate(dfrf)))\n",
        "print(\"Random Forest 15 trees: AUC = {}\".format(bce.evaluate(dfrf_15)))\n",
        "print(\"Random Forest 25 trees: AUC = {}\".format(bce.evaluate(dfrf_25)))"
      ]
    },
    {
      "cell_type": "code",
      "execution_count": null,
      "metadata": {
        "colab": {
          "base_uri": "https://localhost:8080/"
        },
        "id": "UGY5xNLyzwmT",
        "outputId": "568d1850-9650-416c-a694-4f1bdd46f83e"
      },
      "outputs": [
        {
          "name": "stdout",
          "output_type": "stream",
          "text": [
            "+----------------------------------------+\n",
            "|Accuracy for Random Forest with 20 trees|\n",
            "+----------------------------------------+\n",
            "|                      0.9249817433446192|\n",
            "+----------------------------------------+\n",
            "\n",
            "None\n",
            "+----------------------------------------+\n",
            "|Accuracy for Random Forest with 15 trees|\n",
            "+----------------------------------------+\n",
            "|                      0.9249817433446192|\n",
            "+----------------------------------------+\n",
            "\n",
            "None\n",
            "+----------------------------------------+\n",
            "|Accuracy for Random Forest with 25 trees|\n",
            "+----------------------------------------+\n",
            "|                      0.9249817433446192|\n",
            "+----------------------------------------+\n",
            "\n",
            "None\n"
          ]
        }
      ],
      "source": [
        "# print the accuracies for the different random forest pipelines\n",
        "print(dfrf.select(fn.expr('float(label = prediction)').alias('correct')).select(fn.avg('correct').alias(\"Accuracy for Random Forest with 20 trees\")).show())\n",
        "print(dfrf_15.select(fn.expr('float(label = prediction)').alias('correct')).select(fn.avg('correct').alias(\"Accuracy for Random Forest with 15 trees\")).show())\n",
        "print(dfrf_25.select(fn.expr('float(label = prediction)').alias('correct')).select(fn.avg('correct').alias(\"Accuracy for Random Forest with 25 trees\")).show())"
      ]
    },
    {
      "cell_type": "markdown",
      "metadata": {
        "id": "WplwyYwzz-GT"
      },
      "source": [
        "## Importancies and Weights"
      ]
    },
    {
      "cell_type": "code",
      "execution_count": null,
      "metadata": {
        "colab": {
          "base_uri": "https://localhost:8080/",
          "height": 468
        },
        "id": "8sGhedilz44k",
        "outputId": "802c913f-eb4c-4b51-cc41-d9659e68663e"
      },
      "outputs": [
        {
          "data": {
            "text/plain": [
              "DataFrame[column: string, importancy: double]"
            ]
          },
          "metadata": {},
          "output_type": "display_data"
        },
        {
          "name": "stdout",
          "output_type": "stream",
          "text": [
            "+--------------------+--------------------+\n",
            "|              column|          importancy|\n",
            "+--------------------+--------------------+\n",
            "|           Blue Bell|0.015905884160977338|\n",
            "|            Adelaide|0.016227370831204124|\n",
            "| Newcastle Upon Tyne|0.017841583609301697|\n",
            "|              London|0.020912708374023172|\n",
            "|            Limerick|0.022439994687994978|\n",
            "|        MEX_investor|0.022446794445075937|\n",
            "|            Prospect| 0.02343734706764813|\n",
            "|                 CHN|0.024097968920304323|\n",
            "|          Wollongong| 0.02490325369848877|\n",
            "|     West Palm Beach|0.026049973350257414|\n",
            "|        KWT_investor| 0.02862139175931437|\n",
            "|          Des Moines| 0.03028230975604472|\n",
            "|numeric_funding_r...|0.032848588310300963|\n",
            "|    Bloomfield Hills| 0.03391971890954374|\n",
            "|                 USA| 0.03669846419205969|\n",
            "|        MAR_investor| 0.04011345835101589|\n",
            "|          Southfield| 0.04777590052850689|\n",
            "|        Natchitoches|0.055555555555555566|\n",
            "|         Los Angeles| 0.07275190515374169|\n",
            "|numeric_time_to_f...|  0.0729800321522128|\n",
            "+--------------------+--------------------+\n",
            "\n"
          ]
        }
      ],
      "source": [
        "# create spark df with the 20 highest labels and the corresponding importancies + sorting by importancy\n",
        "rfw = spark.createDataFrame(pd.DataFrame(list(zip(labellist, rf_pipeline.stages[4].featureImportances.toArray())),\n",
        "            columns = ['column', 'importancy']).sort_values('importancy').tail(20))\n",
        "display(rfw)\n",
        "rfw.show()"
      ]
    },
    {
      "cell_type": "code",
      "execution_count": null,
      "metadata": {
        "colab": {
          "base_uri": "https://localhost:8080/",
          "height": 468
        },
        "id": "a1YiDPMw0BGb",
        "outputId": "cefdbdf2-4bf2-41be-ecdb-48d50e955f8a"
      },
      "outputs": [
        {
          "data": {
            "text/plain": [
              "DataFrame[column: string, importancy: double]"
            ]
          },
          "metadata": {},
          "output_type": "display_data"
        },
        {
          "name": "stdout",
          "output_type": "stream",
          "text": [
            "+--------------------+--------------------+\n",
            "|              column|          importancy|\n",
            "+--------------------+--------------------+\n",
            "|          Bedminster|  0.0155651704194964|\n",
            "|                Jena|0.016193225801187282|\n",
            "|        USA_investor| 0.01755285687358526|\n",
            "|          Carrollton| 0.01941443016032135|\n",
            "|     Fort Washington|0.023282041475063565|\n",
            "|              Yangon| 0.02333638441691831|\n",
            "|             Sanford|  0.0257912812607462|\n",
            "|            San Jose|0.029381420565460194|\n",
            "|              Nagpur|0.031026842819954267|\n",
            "|                 CHN| 0.03138271628714425|\n",
            "|                  Q1|0.031953304152320575|\n",
            "|        Natchitoches| 0.03334327291390294|\n",
            "|              Rennes|0.033755364243386564|\n",
            "|         Los Angeles|0.035740350838769336|\n",
            "|numeric_time_to_f...|0.054176021048508695|\n",
            "|numeric_count_inv...|0.055457496924461426|\n",
            "|              London| 0.05882655811974447|\n",
            "|           Weybridge| 0.06305259075919441|\n",
            "|          Des Moines| 0.07142857142857142|\n",
            "|        MAR_investor| 0.08330579824552768|\n",
            "+--------------------+--------------------+\n",
            "\n"
          ]
        }
      ],
      "source": [
        "# create spark df with the labels and the corresponding importancies + sorting by importancy\n",
        "rf15w = spark.createDataFrame(pd.DataFrame(list(zip(labellist, rf_pipeline_15.stages[4].featureImportances.toArray())),\n",
        "            columns = ['column', 'importancy']).sort_values('importancy').tail(20))\n",
        "display(rf15w)\n",
        "rf15w.show()"
      ]
    },
    {
      "cell_type": "code",
      "execution_count": null,
      "metadata": {
        "colab": {
          "base_uri": "https://localhost:8080/",
          "height": 468
        },
        "id": "sZcHOXqj0E2N",
        "outputId": "735d2c64-91e7-432f-e9c9-2f129c51805f"
      },
      "outputs": [
        {
          "data": {
            "text/plain": [
              "DataFrame[column: string, weight: double]"
            ]
          },
          "metadata": {},
          "output_type": "display_data"
        },
        {
          "name": "stdout",
          "output_type": "stream",
          "text": [
            "+--------------------+--------------------+\n",
            "|              column|              weight|\n",
            "+--------------------+--------------------+\n",
            "|    Westlake Village|0.014402208566303674|\n",
            "|           Guangdong|0.014493730322552066|\n",
            "|          Bedminster|0.015308414120837164|\n",
            "| Newcastle Upon Tyne| 0.01570869938699635|\n",
            "|    Bloomfield Hills|0.016652467220931107|\n",
            "|           Weybridge|0.016840288781024945|\n",
            "|               Yavne|0.017263562868494498|\n",
            "|           Fullerton|0.017373442321439888|\n",
            "|numeric_time_to_f...| 0.01788824775559418|\n",
            "|       North Andover| 0.01807185084664363|\n",
            "|          Southfield|0.019693354024959094|\n",
            "|            San Jose| 0.02006838440705003|\n",
            "|         Glastonbury|0.025406410022921596|\n",
            "|          Carrollton|0.026825793648634126|\n",
            "|               Tampa|0.027795708777878132|\n",
            "|              London|0.040805882660936994|\n",
            "|          Ridgefield| 0.04129539779563641|\n",
            "|numeric_count_inv...| 0.04248324763240757|\n",
            "|               Alamo|0.057321286185158866|\n",
            "|         Los Angeles| 0.07113451764027444|\n",
            "+--------------------+--------------------+\n",
            "\n"
          ]
        }
      ],
      "source": [
        "# create spark df with the labels and the corresponding importancies + sorting by importancy\n",
        "rf25w = spark.createDataFrame(pd.DataFrame(list(zip(labellist, rf_pipeline_25.stages[4].featureImportances.toArray())),\n",
        "            columns = ['column', 'weight']).sort_values('weight').tail(20))\n",
        "display(rf25w)\n",
        "rf25w.show()"
      ]
    },
    {
      "cell_type": "markdown",
      "metadata": {
        "id": "HHKK4XQn6YLb"
      },
      "source": [
        "# TESTING PERFORMANCE"
      ]
    },
    {
      "cell_type": "markdown",
      "metadata": {
        "id": "CHlbqkc56b5i"
      },
      "source": [
        "We tested with the best performing (AUC and Accuracy) Decision Tree and Random Forest model."
      ]
    },
    {
      "cell_type": "code",
      "execution_count": null,
      "metadata": {
        "colab": {
          "base_uri": "https://localhost:8080/"
        },
        "id": "YVp1Ug4h6Vk5",
        "outputId": "715b5936-899e-4039-ffab-bd2da14731cd"
      },
      "outputs": [
        {
          "name": "stdout",
          "output_type": "stream",
          "text": [
            "Decision Tree: AUC = 0.8842540957046967\n",
            "+--------------------------+\n",
            "|Accuracy for Decision Tree|\n",
            "+--------------------------+\n",
            "|        0.9211061407076048|\n",
            "+--------------------------+\n",
            "\n",
            "None\n",
            "              precision    recall  f1-score   support\n",
            "\n",
            "           0       0.92      1.00      0.96      4535\n",
            "           1       0.00      0.00      0.00       383\n",
            "\n",
            "    accuracy                           0.92      4918\n",
            "   macro avg       0.46      0.50      0.48      4918\n",
            "weighted avg       0.85      0.92      0.88      4918\n",
            "\n"
          ]
        }
      ],
      "source": [
        "# Decision Tree\n",
        "dfdt_test = dt_pipeline.transform(testing_df)\n",
        "print(\"Decision Tree: AUC = {}\".format(mce.evaluate(dfdt_test)))\n",
        "print(dfdt_test.select(fn.expr('float(label = prediction)').alias('correct')).select(fn.avg('correct').alias(\"Accuracy for Decision Tree\")).show())\n",
        "dt_true = dfdt_test.select(['label']).collect()\n",
        "dt_pred = dfdt_test.select(['prediction']).collect()\n",
        "print(classification_report(dt_true, dt_pred))"
      ]
    },
    {
      "cell_type": "code",
      "execution_count": null,
      "metadata": {
        "colab": {
          "base_uri": "https://localhost:8080/"
        },
        "id": "Gu1VwYZKoQHM",
        "outputId": "4199f626-e799-4ad9-b4cf-366bc663e9f4"
      },
      "outputs": [
        {
          "name": "stdout",
          "output_type": "stream",
          "text": [
            "Random Forest 25 trees: AUC = 0.6806307771582212\n",
            "+----------------------------------------+\n",
            "|Accuracy for Random Forest with 25 trees|\n",
            "+----------------------------------------+\n",
            "|                      0.9221228141520943|\n",
            "+----------------------------------------+\n",
            "\n",
            "None\n",
            "              precision    recall  f1-score   support\n",
            "\n",
            "           0       0.92      1.00      0.96      4535\n",
            "           1       0.00      0.00      0.00       383\n",
            "\n",
            "    accuracy                           0.92      4918\n",
            "   macro avg       0.46      0.50      0.48      4918\n",
            "weighted avg       0.85      0.92      0.88      4918\n",
            "\n"
          ]
        },
        {
          "name": "stderr",
          "output_type": "stream",
          "text": [
            "/usr/local/lib/python3.8/dist-packages/sklearn/metrics/_classification.py:1318: UndefinedMetricWarning: Precision and F-score are ill-defined and being set to 0.0 in labels with no predicted samples. Use `zero_division` parameter to control this behavior.\n",
            "  _warn_prf(average, modifier, msg_start, len(result))\n",
            "/usr/local/lib/python3.8/dist-packages/sklearn/metrics/_classification.py:1318: UndefinedMetricWarning: Precision and F-score are ill-defined and being set to 0.0 in labels with no predicted samples. Use `zero_division` parameter to control this behavior.\n",
            "  _warn_prf(average, modifier, msg_start, len(result))\n",
            "/usr/local/lib/python3.8/dist-packages/sklearn/metrics/_classification.py:1318: UndefinedMetricWarning: Precision and F-score are ill-defined and being set to 0.0 in labels with no predicted samples. Use `zero_division` parameter to control this behavior.\n",
            "  _warn_prf(average, modifier, msg_start, len(result))\n"
          ]
        }
      ],
      "source": [
        "# Best performing random forest model\n",
        "dfrf_25_test = rf_pipeline_25.transform(testing_df)\n",
        "print(\"Random Forest 25 trees: AUC = {}\".format(bce.evaluate(dfrf_25_test)))\n",
        "print(dfrf_25_test.select(fn.expr('float(label = prediction)').alias('correct')).select(fn.avg('correct').alias(\"Accuracy for Random Forest with 25 trees\")).show())\n",
        "rf_true = dfrf_25_test.select(['label']).collect()\n",
        "rf_pred = dfrf_25_test.select(['prediction']).collect()\n",
        "print(classification_report(rf_true, rf_pred))"
      ]
    },
    {
      "cell_type": "markdown",
      "metadata": {
        "id": "SnTYguvXYxNz"
      },
      "source": [
        "#Logistic Regression"
      ]
    },
    {
      "cell_type": "code",
      "execution_count": null,
      "metadata": {
        "id": "c3bwNx29Y8l1"
      },
      "outputs": [],
      "source": [
        "# define logistic regression parameters and pipeline stages \n",
        "lambda_par1 = 0.01\n",
        "alpha_par1 = 0.05\n",
        "en_lr1 = LogisticRegression().\\\n",
        "        setLabelCol('label').\\\n",
        "        setFeaturesCol('features').\\\n",
        "        setRegParam(lambda_par1).\\\n",
        "        setElasticNetParam(alpha_par1)\n",
        "\n",
        "# change the parameters of the second classifier below\n",
        "lambda_par2 = 0.05\n",
        "alpha_par2 = 0.05\n",
        "en_lr2 = LogisticRegression().\\\n",
        "        setLabelCol('label').\\\n",
        "        setFeaturesCol('features').\\\n",
        "        setRegParam(lambda_par2).\\\n",
        "        setElasticNetParam(alpha_par2)\n",
        "\n",
        "# change the parameters of the thrid classifier below\n",
        "lambda_par3 = 0.1\n",
        "alpha_par3 = 0.05\n",
        "en_lr3 = LogisticRegression().\\\n",
        "        setLabelCol('label').\\\n",
        "        setFeaturesCol('features').\\\n",
        "        setRegParam(lambda_par3).\\\n",
        "        setElasticNetParam(alpha_par3)\n",
        "        \n",
        "en_lr_estimator1 = Pipeline(\n",
        "    stages=[vanum, std, vacate, va, en_lr1])\n",
        "en_lr_estimator2 = Pipeline(\n",
        "    stages=[vanum, std, vacate, va, en_lr2])\n",
        "en_lr_estimator3 = Pipeline(\n",
        "    stages=[vanum, std, vacate, va, en_lr3])"
      ]
    },
    {
      "cell_type": "code",
      "execution_count": null,
      "metadata": {
        "id": "Xfhtv4x2mPYl"
      },
      "outputs": [],
      "source": [
        "# fit logistic regression pipelines\n",
        "en_lr_model1 = en_lr_estimator1.fit(training_df)\n",
        "en_lr_model2 = en_lr_estimator2.fit(training_df)\n",
        "en_lr_model3 = en_lr_estimator3.fit(training_df)"
      ]
    },
    {
      "cell_type": "code",
      "execution_count": null,
      "metadata": {
        "id": "S--oNsA-mRq7"
      },
      "outputs": [],
      "source": [
        "# apply pipeline to validation dataset\n",
        "dfmodel1 = en_lr_model1.transform(validation_df)\n",
        "dfmodel2 = en_lr_model2.transform(validation_df)\n",
        "dfmodel3 = en_lr_model3.transform(validation_df)"
      ]
    },
    {
      "cell_type": "code",
      "execution_count": null,
      "metadata": {
        "id": "_ptK3HuQmT64"
      },
      "outputs": [],
      "source": [
        "# define binary classification evaluator\n",
        "bce = BinaryClassificationEvaluator()"
      ]
    },
    {
      "cell_type": "code",
      "execution_count": null,
      "metadata": {
        "colab": {
          "base_uri": "https://localhost:8080/"
        },
        "id": "Xme815SPmWmf",
        "outputId": "ac23bfb1-ebf0-4bc2-d658-e1634ec1bac5"
      },
      "outputs": [
        {
          "name": "stdout",
          "output_type": "stream",
          "text": [
            "Logistic Regression Model 1: AUC = 0.7109942398164669\n",
            "Logistic Regression Model 2: AUC = 0.7283555180957673\n",
            "Logistic Regression Model 3: AUC = 0.7323500456355924\n"
          ]
        }
      ],
      "source": [
        "# print areas under the curve of the different logistic regressions\n",
        "print(\"Logistic Regression Model 1: AUC = {}\".format(bce.evaluate(dfmodel1)))\n",
        "print(\"Logistic Regression Model 2: AUC = {}\".format(bce.evaluate(dfmodel2)))\n",
        "print(\"Logistic Regression Model 3: AUC = {}\".format(bce.evaluate(dfmodel3)))"
      ]
    },
    {
      "cell_type": "code",
      "execution_count": null,
      "metadata": {
        "colab": {
          "base_uri": "https://localhost:8080/"
        },
        "id": "jrXiBzMhmZCV",
        "outputId": "53df88d4-e044-4ace-f735-ba3a920f0762"
      },
      "outputs": [
        {
          "name": "stdout",
          "output_type": "stream",
          "text": [
            "+--------------------+\n",
            "|Accuracy for Model 1|\n",
            "+--------------------+\n",
            "|  0.9197371041625174|\n",
            "+--------------------+\n",
            "\n",
            "None\n",
            "+--------------------+\n",
            "|Accuracy for Model 2|\n",
            "+--------------------+\n",
            "|  0.9241187014538936|\n",
            "+--------------------+\n",
            "\n",
            "None\n",
            "+--------------------+\n",
            "|Accuracy for Model 3|\n",
            "+--------------------+\n",
            "|  0.9249817433446192|\n",
            "+--------------------+\n",
            "\n",
            "None\n"
          ]
        }
      ],
      "source": [
        "# print accuracies of the different logistic regressions\n",
        "print(dfmodel1.select(fn.expr('float(label = prediction)').alias('correct')).select(fn.avg('correct').alias(\"Accuracy for Model 1\")).show())\n",
        "print(dfmodel2.select(fn.expr('float(label = prediction)').alias('correct')).select(fn.avg('correct').alias(\"Accuracy for Model 2\")).show())\n",
        "print(dfmodel3.select(fn.expr('float(label = prediction)').alias('correct')).select(fn.avg('correct').alias(\"Accuracy for Model 3\")).show())"
      ]
    },
    {
      "cell_type": "code",
      "execution_count": null,
      "metadata": {
        "colab": {
          "base_uri": "https://localhost:8080/"
        },
        "id": "FHBx2v2BmbjJ",
        "outputId": "cc670549-7446-428d-cd7c-36c36b146f7c"
      },
      "outputs": [
        {
          "name": "stdout",
          "output_type": "stream",
          "text": [
            "+------------------+\n",
            "|             Ratio|\n",
            "+------------------+\n",
            "|0.7610820641054785|\n",
            "+------------------+\n",
            "\n"
          ]
        }
      ],
      "source": [
        "dfdislr = spark.createDataFrame(pd.DataFrame(list(zip(labellist, en_lr_model1.stages[4].coefficients.toArray())),\n",
        "            columns = ['label', 'weight']).sort_values('weight')).agg((fn.count(fn.when(col(\"weight\") == 0, True)) / fn.count(col(\"label\"))).alias(\"Ratio\"))\n",
        "dfdislr.show()"
      ]
    },
    {
      "cell_type": "markdown",
      "metadata": {
        "id": "3viCH2TwmjtD"
      },
      "source": [
        "#Weights"
      ]
    },
    {
      "cell_type": "code",
      "execution_count": null,
      "metadata": {
        "colab": {
          "base_uri": "https://localhost:8080/",
          "height": 363
        },
        "id": "wCdfupmGmlZk",
        "outputId": "999c8969-ab2c-460a-a5b7-25b50fbc2aed"
      },
      "outputs": [
        {
          "data": {
            "text/html": [
              "\n",
              "  <div id=\"df-251e5aeb-9708-4be4-b59c-80afb17fea6e\">\n",
              "    <div class=\"colab-df-container\">\n",
              "      <div>\n",
              "<style scoped>\n",
              "    .dataframe tbody tr th:only-of-type {\n",
              "        vertical-align: middle;\n",
              "    }\n",
              "\n",
              "    .dataframe tbody tr th {\n",
              "        vertical-align: top;\n",
              "    }\n",
              "\n",
              "    .dataframe thead th {\n",
              "        text-align: right;\n",
              "    }\n",
              "</style>\n",
              "<table border=\"1\" class=\"dataframe\">\n",
              "  <thead>\n",
              "    <tr style=\"text-align: right;\">\n",
              "      <th></th>\n",
              "      <th>label</th>\n",
              "      <th>weight</th>\n",
              "    </tr>\n",
              "  </thead>\n",
              "  <tbody>\n",
              "    <tr>\n",
              "      <th>3485</th>\n",
              "      <td>Nordborg</td>\n",
              "      <td>-3.269576</td>\n",
              "    </tr>\n",
              "    <tr>\n",
              "      <th>2242</th>\n",
              "      <td>Anth�e</td>\n",
              "      <td>-3.040357</td>\n",
              "    </tr>\n",
              "    <tr>\n",
              "      <th>3325</th>\n",
              "      <td>Matthews</td>\n",
              "      <td>-3.010850</td>\n",
              "    </tr>\n",
              "    <tr>\n",
              "      <th>1882</th>\n",
              "      <td>Logro�o</td>\n",
              "      <td>-2.855047</td>\n",
              "    </tr>\n",
              "    <tr>\n",
              "      <th>840</th>\n",
              "      <td>Southlake</td>\n",
              "      <td>-2.832794</td>\n",
              "    </tr>\n",
              "    <tr>\n",
              "      <th>3863</th>\n",
              "      <td>Schagen</td>\n",
              "      <td>-2.719455</td>\n",
              "    </tr>\n",
              "    <tr>\n",
              "      <th>1885</th>\n",
              "      <td>Loughton</td>\n",
              "      <td>-2.659051</td>\n",
              "    </tr>\n",
              "    <tr>\n",
              "      <th>3941</th>\n",
              "      <td>Sopot</td>\n",
              "      <td>-2.408851</td>\n",
              "    </tr>\n",
              "    <tr>\n",
              "      <th>2536</th>\n",
              "      <td>Cheraw</td>\n",
              "      <td>-2.354156</td>\n",
              "    </tr>\n",
              "    <tr>\n",
              "      <th>613</th>\n",
              "      <td>Lisle</td>\n",
              "      <td>-2.268032</td>\n",
              "    </tr>\n",
              "  </tbody>\n",
              "</table>\n",
              "</div>\n",
              "      <button class=\"colab-df-convert\" onclick=\"convertToInteractive('df-251e5aeb-9708-4be4-b59c-80afb17fea6e')\"\n",
              "              title=\"Convert this dataframe to an interactive table.\"\n",
              "              style=\"display:none;\">\n",
              "        \n",
              "  <svg xmlns=\"http://www.w3.org/2000/svg\" height=\"24px\"viewBox=\"0 0 24 24\"\n",
              "       width=\"24px\">\n",
              "    <path d=\"M0 0h24v24H0V0z\" fill=\"none\"/>\n",
              "    <path d=\"M18.56 5.44l.94 2.06.94-2.06 2.06-.94-2.06-.94-.94-2.06-.94 2.06-2.06.94zm-11 1L8.5 8.5l.94-2.06 2.06-.94-2.06-.94L8.5 2.5l-.94 2.06-2.06.94zm10 10l.94 2.06.94-2.06 2.06-.94-2.06-.94-.94-2.06-.94 2.06-2.06.94z\"/><path d=\"M17.41 7.96l-1.37-1.37c-.4-.4-.92-.59-1.43-.59-.52 0-1.04.2-1.43.59L10.3 9.45l-7.72 7.72c-.78.78-.78 2.05 0 2.83L4 21.41c.39.39.9.59 1.41.59.51 0 1.02-.2 1.41-.59l7.78-7.78 2.81-2.81c.8-.78.8-2.07 0-2.86zM5.41 20L4 18.59l7.72-7.72 1.47 1.35L5.41 20z\"/>\n",
              "  </svg>\n",
              "      </button>\n",
              "      \n",
              "  <style>\n",
              "    .colab-df-container {\n",
              "      display:flex;\n",
              "      flex-wrap:wrap;\n",
              "      gap: 12px;\n",
              "    }\n",
              "\n",
              "    .colab-df-convert {\n",
              "      background-color: #E8F0FE;\n",
              "      border: none;\n",
              "      border-radius: 50%;\n",
              "      cursor: pointer;\n",
              "      display: none;\n",
              "      fill: #1967D2;\n",
              "      height: 32px;\n",
              "      padding: 0 0 0 0;\n",
              "      width: 32px;\n",
              "    }\n",
              "\n",
              "    .colab-df-convert:hover {\n",
              "      background-color: #E2EBFA;\n",
              "      box-shadow: 0px 1px 2px rgba(60, 64, 67, 0.3), 0px 1px 3px 1px rgba(60, 64, 67, 0.15);\n",
              "      fill: #174EA6;\n",
              "    }\n",
              "\n",
              "    [theme=dark] .colab-df-convert {\n",
              "      background-color: #3B4455;\n",
              "      fill: #D2E3FC;\n",
              "    }\n",
              "\n",
              "    [theme=dark] .colab-df-convert:hover {\n",
              "      background-color: #434B5C;\n",
              "      box-shadow: 0px 1px 3px 1px rgba(0, 0, 0, 0.15);\n",
              "      filter: drop-shadow(0px 1px 2px rgba(0, 0, 0, 0.3));\n",
              "      fill: #FFFFFF;\n",
              "    }\n",
              "  </style>\n",
              "\n",
              "      <script>\n",
              "        const buttonEl =\n",
              "          document.querySelector('#df-251e5aeb-9708-4be4-b59c-80afb17fea6e button.colab-df-convert');\n",
              "        buttonEl.style.display =\n",
              "          google.colab.kernel.accessAllowed ? 'block' : 'none';\n",
              "\n",
              "        async function convertToInteractive(key) {\n",
              "          const element = document.querySelector('#df-251e5aeb-9708-4be4-b59c-80afb17fea6e');\n",
              "          const dataTable =\n",
              "            await google.colab.kernel.invokeFunction('convertToInteractive',\n",
              "                                                     [key], {});\n",
              "          if (!dataTable) return;\n",
              "\n",
              "          const docLinkHtml = 'Like what you see? Visit the ' +\n",
              "            '<a target=\"_blank\" href=https://colab.research.google.com/notebooks/data_table.ipynb>data table notebook</a>'\n",
              "            + ' to learn more about interactive tables.';\n",
              "          element.innerHTML = '';\n",
              "          dataTable['output_type'] = 'display_data';\n",
              "          await google.colab.output.renderOutput(dataTable, element);\n",
              "          const docLink = document.createElement('div');\n",
              "          docLink.innerHTML = docLinkHtml;\n",
              "          element.appendChild(docLink);\n",
              "        }\n",
              "      </script>\n",
              "    </div>\n",
              "  </div>\n",
              "  "
            ],
            "text/plain": [
              "          label    weight\n",
              "3485   Nordborg -3.269576\n",
              "2242     Anth�e -3.040357\n",
              "3325   Matthews -3.010850\n",
              "1882    Logro�o -2.855047\n",
              "840   Southlake -2.832794\n",
              "3863    Schagen -2.719455\n",
              "1885   Loughton -2.659051\n",
              "3941      Sopot -2.408851\n",
              "2536     Cheraw -2.354156\n",
              "613       Lisle -2.268032"
            ]
          },
          "execution_count": 63,
          "metadata": {},
          "output_type": "execute_result"
        }
      ],
      "source": [
        "# create spark df with the first 10 lowest labels and corresponding weights\n",
        "pd.DataFrame(list(zip(labellist, en_lr_model1.stages[4].coefficients.toArray())),\n",
        "            columns = ['label', 'weight']).sort_values('weight').head(10)"
      ]
    },
    {
      "cell_type": "code",
      "execution_count": null,
      "metadata": {
        "colab": {
          "base_uri": "https://localhost:8080/",
          "height": 363
        },
        "id": "Cjx3wo63mnQq",
        "outputId": "a5ec5e0c-df86-4d2b-cbac-82873a21c508"
      },
      "outputs": [
        {
          "data": {
            "text/html": [
              "\n",
              "  <div id=\"df-a45a8698-f4f7-4504-bf15-36b6c3051787\">\n",
              "    <div class=\"colab-df-container\">\n",
              "      <div>\n",
              "<style scoped>\n",
              "    .dataframe tbody tr th:only-of-type {\n",
              "        vertical-align: middle;\n",
              "    }\n",
              "\n",
              "    .dataframe tbody tr th {\n",
              "        vertical-align: top;\n",
              "    }\n",
              "\n",
              "    .dataframe thead th {\n",
              "        text-align: right;\n",
              "    }\n",
              "</style>\n",
              "<table border=\"1\" class=\"dataframe\">\n",
              "  <thead>\n",
              "    <tr style=\"text-align: right;\">\n",
              "      <th></th>\n",
              "      <th>label</th>\n",
              "      <th>weight</th>\n",
              "    </tr>\n",
              "  </thead>\n",
              "  <tbody>\n",
              "    <tr>\n",
              "      <th>4050</th>\n",
              "      <td>Temple Hills</td>\n",
              "      <td>5.463621</td>\n",
              "    </tr>\n",
              "    <tr>\n",
              "      <th>3278</th>\n",
              "      <td>Mafra</td>\n",
              "      <td>5.465486</td>\n",
              "    </tr>\n",
              "    <tr>\n",
              "      <th>3753</th>\n",
              "      <td>Roland</td>\n",
              "      <td>5.468296</td>\n",
              "    </tr>\n",
              "    <tr>\n",
              "      <th>1433</th>\n",
              "      <td>Nagpur</td>\n",
              "      <td>5.471445</td>\n",
              "    </tr>\n",
              "    <tr>\n",
              "      <th>2025</th>\n",
              "      <td>Ridgefield</td>\n",
              "      <td>5.592470</td>\n",
              "    </tr>\n",
              "    <tr>\n",
              "      <th>2179</th>\n",
              "      <td>Wollongong</td>\n",
              "      <td>5.693179</td>\n",
              "    </tr>\n",
              "    <tr>\n",
              "      <th>2748</th>\n",
              "      <td>Essex Junction</td>\n",
              "      <td>5.759650</td>\n",
              "    </tr>\n",
              "    <tr>\n",
              "      <th>633</th>\n",
              "      <td>Bloomfield Hills</td>\n",
              "      <td>5.842307</td>\n",
              "    </tr>\n",
              "    <tr>\n",
              "      <th>3962</th>\n",
              "      <td>Spicewood</td>\n",
              "      <td>5.966595</td>\n",
              "    </tr>\n",
              "    <tr>\n",
              "      <th>2610</th>\n",
              "      <td>Cottage Grove</td>\n",
              "      <td>6.529684</td>\n",
              "    </tr>\n",
              "  </tbody>\n",
              "</table>\n",
              "</div>\n",
              "      <button class=\"colab-df-convert\" onclick=\"convertToInteractive('df-a45a8698-f4f7-4504-bf15-36b6c3051787')\"\n",
              "              title=\"Convert this dataframe to an interactive table.\"\n",
              "              style=\"display:none;\">\n",
              "        \n",
              "  <svg xmlns=\"http://www.w3.org/2000/svg\" height=\"24px\"viewBox=\"0 0 24 24\"\n",
              "       width=\"24px\">\n",
              "    <path d=\"M0 0h24v24H0V0z\" fill=\"none\"/>\n",
              "    <path d=\"M18.56 5.44l.94 2.06.94-2.06 2.06-.94-2.06-.94-.94-2.06-.94 2.06-2.06.94zm-11 1L8.5 8.5l.94-2.06 2.06-.94-2.06-.94L8.5 2.5l-.94 2.06-2.06.94zm10 10l.94 2.06.94-2.06 2.06-.94-2.06-.94-.94-2.06-.94 2.06-2.06.94z\"/><path d=\"M17.41 7.96l-1.37-1.37c-.4-.4-.92-.59-1.43-.59-.52 0-1.04.2-1.43.59L10.3 9.45l-7.72 7.72c-.78.78-.78 2.05 0 2.83L4 21.41c.39.39.9.59 1.41.59.51 0 1.02-.2 1.41-.59l7.78-7.78 2.81-2.81c.8-.78.8-2.07 0-2.86zM5.41 20L4 18.59l7.72-7.72 1.47 1.35L5.41 20z\"/>\n",
              "  </svg>\n",
              "      </button>\n",
              "      \n",
              "  <style>\n",
              "    .colab-df-container {\n",
              "      display:flex;\n",
              "      flex-wrap:wrap;\n",
              "      gap: 12px;\n",
              "    }\n",
              "\n",
              "    .colab-df-convert {\n",
              "      background-color: #E8F0FE;\n",
              "      border: none;\n",
              "      border-radius: 50%;\n",
              "      cursor: pointer;\n",
              "      display: none;\n",
              "      fill: #1967D2;\n",
              "      height: 32px;\n",
              "      padding: 0 0 0 0;\n",
              "      width: 32px;\n",
              "    }\n",
              "\n",
              "    .colab-df-convert:hover {\n",
              "      background-color: #E2EBFA;\n",
              "      box-shadow: 0px 1px 2px rgba(60, 64, 67, 0.3), 0px 1px 3px 1px rgba(60, 64, 67, 0.15);\n",
              "      fill: #174EA6;\n",
              "    }\n",
              "\n",
              "    [theme=dark] .colab-df-convert {\n",
              "      background-color: #3B4455;\n",
              "      fill: #D2E3FC;\n",
              "    }\n",
              "\n",
              "    [theme=dark] .colab-df-convert:hover {\n",
              "      background-color: #434B5C;\n",
              "      box-shadow: 0px 1px 3px 1px rgba(0, 0, 0, 0.15);\n",
              "      filter: drop-shadow(0px 1px 2px rgba(0, 0, 0, 0.3));\n",
              "      fill: #FFFFFF;\n",
              "    }\n",
              "  </style>\n",
              "\n",
              "      <script>\n",
              "        const buttonEl =\n",
              "          document.querySelector('#df-a45a8698-f4f7-4504-bf15-36b6c3051787 button.colab-df-convert');\n",
              "        buttonEl.style.display =\n",
              "          google.colab.kernel.accessAllowed ? 'block' : 'none';\n",
              "\n",
              "        async function convertToInteractive(key) {\n",
              "          const element = document.querySelector('#df-a45a8698-f4f7-4504-bf15-36b6c3051787');\n",
              "          const dataTable =\n",
              "            await google.colab.kernel.invokeFunction('convertToInteractive',\n",
              "                                                     [key], {});\n",
              "          if (!dataTable) return;\n",
              "\n",
              "          const docLinkHtml = 'Like what you see? Visit the ' +\n",
              "            '<a target=\"_blank\" href=https://colab.research.google.com/notebooks/data_table.ipynb>data table notebook</a>'\n",
              "            + ' to learn more about interactive tables.';\n",
              "          element.innerHTML = '';\n",
              "          dataTable['output_type'] = 'display_data';\n",
              "          await google.colab.output.renderOutput(dataTable, element);\n",
              "          const docLink = document.createElement('div');\n",
              "          docLink.innerHTML = docLinkHtml;\n",
              "          element.appendChild(docLink);\n",
              "        }\n",
              "      </script>\n",
              "    </div>\n",
              "  </div>\n",
              "  "
            ],
            "text/plain": [
              "                 label    weight\n",
              "4050      Temple Hills  5.463621\n",
              "3278             Mafra  5.465486\n",
              "3753            Roland  5.468296\n",
              "1433            Nagpur  5.471445\n",
              "2025        Ridgefield  5.592470\n",
              "2179        Wollongong  5.693179\n",
              "2748    Essex Junction  5.759650\n",
              "633   Bloomfield Hills  5.842307\n",
              "3962         Spicewood  5.966595\n",
              "2610     Cottage Grove  6.529684"
            ]
          },
          "execution_count": 64,
          "metadata": {},
          "output_type": "execute_result"
        }
      ],
      "source": [
        "# create spark df with the first 10 highest labels and corresponding weights\n",
        "pd.DataFrame(list(zip(labellist, en_lr_model1.stages[4].coefficients.toArray())),\n",
        "            columns = ['label', 'weight']).sort_values('weight').tail(10)"
      ]
    },
    {
      "cell_type": "code",
      "execution_count": null,
      "metadata": {
        "colab": {
          "base_uri": "https://localhost:8080/",
          "height": 363
        },
        "id": "k9w0QrVymq7l",
        "outputId": "153faf54-9ace-466e-a901-9bc7fa6aa984"
      },
      "outputs": [
        {
          "data": {
            "text/html": [
              "\n",
              "  <div id=\"df-59d3e27e-63cf-4f21-8cde-3bb004dac8be\">\n",
              "    <div class=\"colab-df-container\">\n",
              "      <div>\n",
              "<style scoped>\n",
              "    .dataframe tbody tr th:only-of-type {\n",
              "        vertical-align: middle;\n",
              "    }\n",
              "\n",
              "    .dataframe tbody tr th {\n",
              "        vertical-align: top;\n",
              "    }\n",
              "\n",
              "    .dataframe thead th {\n",
              "        text-align: right;\n",
              "    }\n",
              "</style>\n",
              "<table border=\"1\" class=\"dataframe\">\n",
              "  <thead>\n",
              "    <tr style=\"text-align: right;\">\n",
              "      <th></th>\n",
              "      <th>label</th>\n",
              "      <th>weight</th>\n",
              "    </tr>\n",
              "  </thead>\n",
              "  <tbody>\n",
              "    <tr>\n",
              "      <th>4312</th>\n",
              "      <td>USA_investor</td>\n",
              "      <td>-0.265318</td>\n",
              "    </tr>\n",
              "    <tr>\n",
              "      <th>4392</th>\n",
              "      <td>undisclosed</td>\n",
              "      <td>-0.265008</td>\n",
              "    </tr>\n",
              "    <tr>\n",
              "      <th>8</th>\n",
              "      <td>CHN</td>\n",
              "      <td>-0.222427</td>\n",
              "    </tr>\n",
              "    <tr>\n",
              "      <th>4319</th>\n",
              "      <td>CHL_investor</td>\n",
              "      <td>-0.179162</td>\n",
              "    </tr>\n",
              "    <tr>\n",
              "      <th>3325</th>\n",
              "      <td>Matthews</td>\n",
              "      <td>-0.177998</td>\n",
              "    </tr>\n",
              "    <tr>\n",
              "      <th>4387</th>\n",
              "      <td>MAR_investor</td>\n",
              "      <td>-0.170020</td>\n",
              "    </tr>\n",
              "    <tr>\n",
              "      <th>4316</th>\n",
              "      <td>DEU_investor</td>\n",
              "      <td>-0.160062</td>\n",
              "    </tr>\n",
              "    <tr>\n",
              "      <th>11</th>\n",
              "      <td>IND</td>\n",
              "      <td>-0.158828</td>\n",
              "    </tr>\n",
              "    <tr>\n",
              "      <th>4321</th>\n",
              "      <td>JPN_investor</td>\n",
              "      <td>-0.138544</td>\n",
              "    </tr>\n",
              "    <tr>\n",
              "      <th>3485</th>\n",
              "      <td>Nordborg</td>\n",
              "      <td>-0.130563</td>\n",
              "    </tr>\n",
              "  </tbody>\n",
              "</table>\n",
              "</div>\n",
              "      <button class=\"colab-df-convert\" onclick=\"convertToInteractive('df-59d3e27e-63cf-4f21-8cde-3bb004dac8be')\"\n",
              "              title=\"Convert this dataframe to an interactive table.\"\n",
              "              style=\"display:none;\">\n",
              "        \n",
              "  <svg xmlns=\"http://www.w3.org/2000/svg\" height=\"24px\"viewBox=\"0 0 24 24\"\n",
              "       width=\"24px\">\n",
              "    <path d=\"M0 0h24v24H0V0z\" fill=\"none\"/>\n",
              "    <path d=\"M18.56 5.44l.94 2.06.94-2.06 2.06-.94-2.06-.94-.94-2.06-.94 2.06-2.06.94zm-11 1L8.5 8.5l.94-2.06 2.06-.94-2.06-.94L8.5 2.5l-.94 2.06-2.06.94zm10 10l.94 2.06.94-2.06 2.06-.94-2.06-.94-.94-2.06-.94 2.06-2.06.94z\"/><path d=\"M17.41 7.96l-1.37-1.37c-.4-.4-.92-.59-1.43-.59-.52 0-1.04.2-1.43.59L10.3 9.45l-7.72 7.72c-.78.78-.78 2.05 0 2.83L4 21.41c.39.39.9.59 1.41.59.51 0 1.02-.2 1.41-.59l7.78-7.78 2.81-2.81c.8-.78.8-2.07 0-2.86zM5.41 20L4 18.59l7.72-7.72 1.47 1.35L5.41 20z\"/>\n",
              "  </svg>\n",
              "      </button>\n",
              "      \n",
              "  <style>\n",
              "    .colab-df-container {\n",
              "      display:flex;\n",
              "      flex-wrap:wrap;\n",
              "      gap: 12px;\n",
              "    }\n",
              "\n",
              "    .colab-df-convert {\n",
              "      background-color: #E8F0FE;\n",
              "      border: none;\n",
              "      border-radius: 50%;\n",
              "      cursor: pointer;\n",
              "      display: none;\n",
              "      fill: #1967D2;\n",
              "      height: 32px;\n",
              "      padding: 0 0 0 0;\n",
              "      width: 32px;\n",
              "    }\n",
              "\n",
              "    .colab-df-convert:hover {\n",
              "      background-color: #E2EBFA;\n",
              "      box-shadow: 0px 1px 2px rgba(60, 64, 67, 0.3), 0px 1px 3px 1px rgba(60, 64, 67, 0.15);\n",
              "      fill: #174EA6;\n",
              "    }\n",
              "\n",
              "    [theme=dark] .colab-df-convert {\n",
              "      background-color: #3B4455;\n",
              "      fill: #D2E3FC;\n",
              "    }\n",
              "\n",
              "    [theme=dark] .colab-df-convert:hover {\n",
              "      background-color: #434B5C;\n",
              "      box-shadow: 0px 1px 3px 1px rgba(0, 0, 0, 0.15);\n",
              "      filter: drop-shadow(0px 1px 2px rgba(0, 0, 0, 0.3));\n",
              "      fill: #FFFFFF;\n",
              "    }\n",
              "  </style>\n",
              "\n",
              "      <script>\n",
              "        const buttonEl =\n",
              "          document.querySelector('#df-59d3e27e-63cf-4f21-8cde-3bb004dac8be button.colab-df-convert');\n",
              "        buttonEl.style.display =\n",
              "          google.colab.kernel.accessAllowed ? 'block' : 'none';\n",
              "\n",
              "        async function convertToInteractive(key) {\n",
              "          const element = document.querySelector('#df-59d3e27e-63cf-4f21-8cde-3bb004dac8be');\n",
              "          const dataTable =\n",
              "            await google.colab.kernel.invokeFunction('convertToInteractive',\n",
              "                                                     [key], {});\n",
              "          if (!dataTable) return;\n",
              "\n",
              "          const docLinkHtml = 'Like what you see? Visit the ' +\n",
              "            '<a target=\"_blank\" href=https://colab.research.google.com/notebooks/data_table.ipynb>data table notebook</a>'\n",
              "            + ' to learn more about interactive tables.';\n",
              "          element.innerHTML = '';\n",
              "          dataTable['output_type'] = 'display_data';\n",
              "          await google.colab.output.renderOutput(dataTable, element);\n",
              "          const docLink = document.createElement('div');\n",
              "          docLink.innerHTML = docLinkHtml;\n",
              "          element.appendChild(docLink);\n",
              "        }\n",
              "      </script>\n",
              "    </div>\n",
              "  </div>\n",
              "  "
            ],
            "text/plain": [
              "             label    weight\n",
              "4312  USA_investor -0.265318\n",
              "4392   undisclosed -0.265008\n",
              "8              CHN -0.222427\n",
              "4319  CHL_investor -0.179162\n",
              "3325      Matthews -0.177998\n",
              "4387  MAR_investor -0.170020\n",
              "4316  DEU_investor -0.160062\n",
              "11             IND -0.158828\n",
              "4321  JPN_investor -0.138544\n",
              "3485      Nordborg -0.130563"
            ]
          },
          "execution_count": 65,
          "metadata": {},
          "output_type": "execute_result"
        }
      ],
      "source": [
        "# create spark df with the first 10 lowest labels and corresponding weights\n",
        "pd.DataFrame(list(zip(labellist, en_lr_model2.stages[4].coefficients.toArray())),\n",
        "            columns = ['label', 'weight']).sort_values('weight').head(10)"
      ]
    },
    {
      "cell_type": "code",
      "execution_count": null,
      "metadata": {
        "colab": {
          "base_uri": "https://localhost:8080/",
          "height": 363
        },
        "id": "lSDUZ-uamtSO",
        "outputId": "75cc6fb1-7891-419e-f4a1-0b5dccb50e8b"
      },
      "outputs": [
        {
          "data": {
            "text/html": [
              "\n",
              "  <div id=\"df-fa21c64c-5460-448b-bb81-77fc9de77b83\">\n",
              "    <div class=\"colab-df-container\">\n",
              "      <div>\n",
              "<style scoped>\n",
              "    .dataframe tbody tr th:only-of-type {\n",
              "        vertical-align: middle;\n",
              "    }\n",
              "\n",
              "    .dataframe tbody tr th {\n",
              "        vertical-align: top;\n",
              "    }\n",
              "\n",
              "    .dataframe thead th {\n",
              "        text-align: right;\n",
              "    }\n",
              "</style>\n",
              "<table border=\"1\" class=\"dataframe\">\n",
              "  <thead>\n",
              "    <tr style=\"text-align: right;\">\n",
              "      <th></th>\n",
              "      <th>label</th>\n",
              "      <th>weight</th>\n",
              "    </tr>\n",
              "  </thead>\n",
              "  <tbody>\n",
              "    <tr>\n",
              "      <th>1433</th>\n",
              "      <td>Nagpur</td>\n",
              "      <td>2.757488</td>\n",
              "    </tr>\n",
              "    <tr>\n",
              "      <th>2168</th>\n",
              "      <td>Weybridge</td>\n",
              "      <td>2.763019</td>\n",
              "    </tr>\n",
              "    <tr>\n",
              "      <th>4020</th>\n",
              "      <td>Sylvania</td>\n",
              "      <td>2.771838</td>\n",
              "    </tr>\n",
              "    <tr>\n",
              "      <th>4050</th>\n",
              "      <td>Temple Hills</td>\n",
              "      <td>2.772583</td>\n",
              "    </tr>\n",
              "    <tr>\n",
              "      <th>3278</th>\n",
              "      <td>Mafra</td>\n",
              "      <td>2.791841</td>\n",
              "    </tr>\n",
              "    <tr>\n",
              "      <th>2179</th>\n",
              "      <td>Wollongong</td>\n",
              "      <td>2.814908</td>\n",
              "    </tr>\n",
              "    <tr>\n",
              "      <th>1626</th>\n",
              "      <td>Brecksville</td>\n",
              "      <td>2.830611</td>\n",
              "    </tr>\n",
              "    <tr>\n",
              "      <th>2748</th>\n",
              "      <td>Essex Junction</td>\n",
              "      <td>2.916315</td>\n",
              "    </tr>\n",
              "    <tr>\n",
              "      <th>2610</th>\n",
              "      <td>Cottage Grove</td>\n",
              "      <td>2.969507</td>\n",
              "    </tr>\n",
              "    <tr>\n",
              "      <th>1262</th>\n",
              "      <td>Aptos</td>\n",
              "      <td>3.032207</td>\n",
              "    </tr>\n",
              "  </tbody>\n",
              "</table>\n",
              "</div>\n",
              "      <button class=\"colab-df-convert\" onclick=\"convertToInteractive('df-fa21c64c-5460-448b-bb81-77fc9de77b83')\"\n",
              "              title=\"Convert this dataframe to an interactive table.\"\n",
              "              style=\"display:none;\">\n",
              "        \n",
              "  <svg xmlns=\"http://www.w3.org/2000/svg\" height=\"24px\"viewBox=\"0 0 24 24\"\n",
              "       width=\"24px\">\n",
              "    <path d=\"M0 0h24v24H0V0z\" fill=\"none\"/>\n",
              "    <path d=\"M18.56 5.44l.94 2.06.94-2.06 2.06-.94-2.06-.94-.94-2.06-.94 2.06-2.06.94zm-11 1L8.5 8.5l.94-2.06 2.06-.94-2.06-.94L8.5 2.5l-.94 2.06-2.06.94zm10 10l.94 2.06.94-2.06 2.06-.94-2.06-.94-.94-2.06-.94 2.06-2.06.94z\"/><path d=\"M17.41 7.96l-1.37-1.37c-.4-.4-.92-.59-1.43-.59-.52 0-1.04.2-1.43.59L10.3 9.45l-7.72 7.72c-.78.78-.78 2.05 0 2.83L4 21.41c.39.39.9.59 1.41.59.51 0 1.02-.2 1.41-.59l7.78-7.78 2.81-2.81c.8-.78.8-2.07 0-2.86zM5.41 20L4 18.59l7.72-7.72 1.47 1.35L5.41 20z\"/>\n",
              "  </svg>\n",
              "      </button>\n",
              "      \n",
              "  <style>\n",
              "    .colab-df-container {\n",
              "      display:flex;\n",
              "      flex-wrap:wrap;\n",
              "      gap: 12px;\n",
              "    }\n",
              "\n",
              "    .colab-df-convert {\n",
              "      background-color: #E8F0FE;\n",
              "      border: none;\n",
              "      border-radius: 50%;\n",
              "      cursor: pointer;\n",
              "      display: none;\n",
              "      fill: #1967D2;\n",
              "      height: 32px;\n",
              "      padding: 0 0 0 0;\n",
              "      width: 32px;\n",
              "    }\n",
              "\n",
              "    .colab-df-convert:hover {\n",
              "      background-color: #E2EBFA;\n",
              "      box-shadow: 0px 1px 2px rgba(60, 64, 67, 0.3), 0px 1px 3px 1px rgba(60, 64, 67, 0.15);\n",
              "      fill: #174EA6;\n",
              "    }\n",
              "\n",
              "    [theme=dark] .colab-df-convert {\n",
              "      background-color: #3B4455;\n",
              "      fill: #D2E3FC;\n",
              "    }\n",
              "\n",
              "    [theme=dark] .colab-df-convert:hover {\n",
              "      background-color: #434B5C;\n",
              "      box-shadow: 0px 1px 3px 1px rgba(0, 0, 0, 0.15);\n",
              "      filter: drop-shadow(0px 1px 2px rgba(0, 0, 0, 0.3));\n",
              "      fill: #FFFFFF;\n",
              "    }\n",
              "  </style>\n",
              "\n",
              "      <script>\n",
              "        const buttonEl =\n",
              "          document.querySelector('#df-fa21c64c-5460-448b-bb81-77fc9de77b83 button.colab-df-convert');\n",
              "        buttonEl.style.display =\n",
              "          google.colab.kernel.accessAllowed ? 'block' : 'none';\n",
              "\n",
              "        async function convertToInteractive(key) {\n",
              "          const element = document.querySelector('#df-fa21c64c-5460-448b-bb81-77fc9de77b83');\n",
              "          const dataTable =\n",
              "            await google.colab.kernel.invokeFunction('convertToInteractive',\n",
              "                                                     [key], {});\n",
              "          if (!dataTable) return;\n",
              "\n",
              "          const docLinkHtml = 'Like what you see? Visit the ' +\n",
              "            '<a target=\"_blank\" href=https://colab.research.google.com/notebooks/data_table.ipynb>data table notebook</a>'\n",
              "            + ' to learn more about interactive tables.';\n",
              "          element.innerHTML = '';\n",
              "          dataTable['output_type'] = 'display_data';\n",
              "          await google.colab.output.renderOutput(dataTable, element);\n",
              "          const docLink = document.createElement('div');\n",
              "          docLink.innerHTML = docLinkHtml;\n",
              "          element.appendChild(docLink);\n",
              "        }\n",
              "      </script>\n",
              "    </div>\n",
              "  </div>\n",
              "  "
            ],
            "text/plain": [
              "               label    weight\n",
              "1433          Nagpur  2.757488\n",
              "2168       Weybridge  2.763019\n",
              "4020        Sylvania  2.771838\n",
              "4050    Temple Hills  2.772583\n",
              "3278           Mafra  2.791841\n",
              "2179      Wollongong  2.814908\n",
              "1626     Brecksville  2.830611\n",
              "2748  Essex Junction  2.916315\n",
              "2610   Cottage Grove  2.969507\n",
              "1262           Aptos  3.032207"
            ]
          },
          "execution_count": 66,
          "metadata": {},
          "output_type": "execute_result"
        }
      ],
      "source": [
        "# create spark df with the first 10 highest labels and corresponding weights\n",
        "pd.DataFrame(list(zip(labellist, en_lr_model2.stages[4].coefficients.toArray())),\n",
        "            columns = ['label', 'weight']).sort_values('weight').tail(10)"
      ]
    },
    {
      "cell_type": "code",
      "execution_count": null,
      "metadata": {
        "colab": {
          "base_uri": "https://localhost:8080/",
          "height": 363
        },
        "id": "tctVfwY0mwW_",
        "outputId": "1ecbc402-2382-4a17-d269-159e272bba2b"
      },
      "outputs": [
        {
          "data": {
            "text/html": [
              "\n",
              "  <div id=\"df-372c3d7f-13f6-49cd-baef-56bdde6d8ace\">\n",
              "    <div class=\"colab-df-container\">\n",
              "      <div>\n",
              "<style scoped>\n",
              "    .dataframe tbody tr th:only-of-type {\n",
              "        vertical-align: middle;\n",
              "    }\n",
              "\n",
              "    .dataframe tbody tr th {\n",
              "        vertical-align: top;\n",
              "    }\n",
              "\n",
              "    .dataframe thead th {\n",
              "        text-align: right;\n",
              "    }\n",
              "</style>\n",
              "<table border=\"1\" class=\"dataframe\">\n",
              "  <thead>\n",
              "    <tr style=\"text-align: right;\">\n",
              "      <th></th>\n",
              "      <th>label</th>\n",
              "      <th>weight</th>\n",
              "    </tr>\n",
              "  </thead>\n",
              "  <tbody>\n",
              "    <tr>\n",
              "      <th>4387</th>\n",
              "      <td>MAR_investor</td>\n",
              "      <td>-0.112941</td>\n",
              "    </tr>\n",
              "    <tr>\n",
              "      <th>8</th>\n",
              "      <td>CHN</td>\n",
              "      <td>-0.103347</td>\n",
              "    </tr>\n",
              "    <tr>\n",
              "      <th>4312</th>\n",
              "      <td>USA_investor</td>\n",
              "      <td>-0.101313</td>\n",
              "    </tr>\n",
              "    <tr>\n",
              "      <th>11</th>\n",
              "      <td>IND</td>\n",
              "      <td>-0.030580</td>\n",
              "    </tr>\n",
              "    <tr>\n",
              "      <th>4392</th>\n",
              "      <td>undisclosed</td>\n",
              "      <td>-0.009593</td>\n",
              "    </tr>\n",
              "    <tr>\n",
              "      <th>4316</th>\n",
              "      <td>DEU_investor</td>\n",
              "      <td>-0.007125</td>\n",
              "    </tr>\n",
              "    <tr>\n",
              "      <th>2916</th>\n",
              "      <td>Hailsham</td>\n",
              "      <td>0.000000</td>\n",
              "    </tr>\n",
              "    <tr>\n",
              "      <th>2915</th>\n",
              "      <td>Haidershofen</td>\n",
              "      <td>0.000000</td>\n",
              "    </tr>\n",
              "    <tr>\n",
              "      <th>2914</th>\n",
              "      <td>Hagerman</td>\n",
              "      <td>0.000000</td>\n",
              "    </tr>\n",
              "    <tr>\n",
              "      <th>2913</th>\n",
              "      <td>Hafnarfj�r�ur</td>\n",
              "      <td>0.000000</td>\n",
              "    </tr>\n",
              "  </tbody>\n",
              "</table>\n",
              "</div>\n",
              "      <button class=\"colab-df-convert\" onclick=\"convertToInteractive('df-372c3d7f-13f6-49cd-baef-56bdde6d8ace')\"\n",
              "              title=\"Convert this dataframe to an interactive table.\"\n",
              "              style=\"display:none;\">\n",
              "        \n",
              "  <svg xmlns=\"http://www.w3.org/2000/svg\" height=\"24px\"viewBox=\"0 0 24 24\"\n",
              "       width=\"24px\">\n",
              "    <path d=\"M0 0h24v24H0V0z\" fill=\"none\"/>\n",
              "    <path d=\"M18.56 5.44l.94 2.06.94-2.06 2.06-.94-2.06-.94-.94-2.06-.94 2.06-2.06.94zm-11 1L8.5 8.5l.94-2.06 2.06-.94-2.06-.94L8.5 2.5l-.94 2.06-2.06.94zm10 10l.94 2.06.94-2.06 2.06-.94-2.06-.94-.94-2.06-.94 2.06-2.06.94z\"/><path d=\"M17.41 7.96l-1.37-1.37c-.4-.4-.92-.59-1.43-.59-.52 0-1.04.2-1.43.59L10.3 9.45l-7.72 7.72c-.78.78-.78 2.05 0 2.83L4 21.41c.39.39.9.59 1.41.59.51 0 1.02-.2 1.41-.59l7.78-7.78 2.81-2.81c.8-.78.8-2.07 0-2.86zM5.41 20L4 18.59l7.72-7.72 1.47 1.35L5.41 20z\"/>\n",
              "  </svg>\n",
              "      </button>\n",
              "      \n",
              "  <style>\n",
              "    .colab-df-container {\n",
              "      display:flex;\n",
              "      flex-wrap:wrap;\n",
              "      gap: 12px;\n",
              "    }\n",
              "\n",
              "    .colab-df-convert {\n",
              "      background-color: #E8F0FE;\n",
              "      border: none;\n",
              "      border-radius: 50%;\n",
              "      cursor: pointer;\n",
              "      display: none;\n",
              "      fill: #1967D2;\n",
              "      height: 32px;\n",
              "      padding: 0 0 0 0;\n",
              "      width: 32px;\n",
              "    }\n",
              "\n",
              "    .colab-df-convert:hover {\n",
              "      background-color: #E2EBFA;\n",
              "      box-shadow: 0px 1px 2px rgba(60, 64, 67, 0.3), 0px 1px 3px 1px rgba(60, 64, 67, 0.15);\n",
              "      fill: #174EA6;\n",
              "    }\n",
              "\n",
              "    [theme=dark] .colab-df-convert {\n",
              "      background-color: #3B4455;\n",
              "      fill: #D2E3FC;\n",
              "    }\n",
              "\n",
              "    [theme=dark] .colab-df-convert:hover {\n",
              "      background-color: #434B5C;\n",
              "      box-shadow: 0px 1px 3px 1px rgba(0, 0, 0, 0.15);\n",
              "      filter: drop-shadow(0px 1px 2px rgba(0, 0, 0, 0.3));\n",
              "      fill: #FFFFFF;\n",
              "    }\n",
              "  </style>\n",
              "\n",
              "      <script>\n",
              "        const buttonEl =\n",
              "          document.querySelector('#df-372c3d7f-13f6-49cd-baef-56bdde6d8ace button.colab-df-convert');\n",
              "        buttonEl.style.display =\n",
              "          google.colab.kernel.accessAllowed ? 'block' : 'none';\n",
              "\n",
              "        async function convertToInteractive(key) {\n",
              "          const element = document.querySelector('#df-372c3d7f-13f6-49cd-baef-56bdde6d8ace');\n",
              "          const dataTable =\n",
              "            await google.colab.kernel.invokeFunction('convertToInteractive',\n",
              "                                                     [key], {});\n",
              "          if (!dataTable) return;\n",
              "\n",
              "          const docLinkHtml = 'Like what you see? Visit the ' +\n",
              "            '<a target=\"_blank\" href=https://colab.research.google.com/notebooks/data_table.ipynb>data table notebook</a>'\n",
              "            + ' to learn more about interactive tables.';\n",
              "          element.innerHTML = '';\n",
              "          dataTable['output_type'] = 'display_data';\n",
              "          await google.colab.output.renderOutput(dataTable, element);\n",
              "          const docLink = document.createElement('div');\n",
              "          docLink.innerHTML = docLinkHtml;\n",
              "          element.appendChild(docLink);\n",
              "        }\n",
              "      </script>\n",
              "    </div>\n",
              "  </div>\n",
              "  "
            ],
            "text/plain": [
              "              label    weight\n",
              "4387   MAR_investor -0.112941\n",
              "8               CHN -0.103347\n",
              "4312   USA_investor -0.101313\n",
              "11              IND -0.030580\n",
              "4392    undisclosed -0.009593\n",
              "4316   DEU_investor -0.007125\n",
              "2916       Hailsham  0.000000\n",
              "2915   Haidershofen  0.000000\n",
              "2914       Hagerman  0.000000\n",
              "2913  Hafnarfj�r�ur  0.000000"
            ]
          },
          "execution_count": 67,
          "metadata": {},
          "output_type": "execute_result"
        }
      ],
      "source": [
        "# create spark df with the first lowest labels and corresponding weights\n",
        "pd.DataFrame(list(zip(labellist, en_lr_model3.stages[4].coefficients.toArray())),\n",
        "            columns = ['label', 'weight']).sort_values('weight').head(10)"
      ]
    },
    {
      "cell_type": "code",
      "execution_count": null,
      "metadata": {
        "colab": {
          "base_uri": "https://localhost:8080/",
          "height": 363
        },
        "id": "i74fbzI6mzAy",
        "outputId": "46e9bff1-9178-417e-8c84-8a804c8c84d3"
      },
      "outputs": [
        {
          "data": {
            "text/html": [
              "\n",
              "  <div id=\"df-d7ba8fb8-6bd4-41b2-925d-db655cb83b09\">\n",
              "    <div class=\"colab-df-container\">\n",
              "      <div>\n",
              "<style scoped>\n",
              "    .dataframe tbody tr th:only-of-type {\n",
              "        vertical-align: middle;\n",
              "    }\n",
              "\n",
              "    .dataframe tbody tr th {\n",
              "        vertical-align: top;\n",
              "    }\n",
              "\n",
              "    .dataframe thead th {\n",
              "        text-align: right;\n",
              "    }\n",
              "</style>\n",
              "<table border=\"1\" class=\"dataframe\">\n",
              "  <thead>\n",
              "    <tr style=\"text-align: right;\">\n",
              "      <th></th>\n",
              "      <th>label</th>\n",
              "      <th>weight</th>\n",
              "    </tr>\n",
              "  </thead>\n",
              "  <tbody>\n",
              "    <tr>\n",
              "      <th>3278</th>\n",
              "      <td>Mafra</td>\n",
              "      <td>0.530684</td>\n",
              "    </tr>\n",
              "    <tr>\n",
              "      <th>2179</th>\n",
              "      <td>Wollongong</td>\n",
              "      <td>0.539024</td>\n",
              "    </tr>\n",
              "    <tr>\n",
              "      <th>2748</th>\n",
              "      <td>Essex Junction</td>\n",
              "      <td>0.578040</td>\n",
              "    </tr>\n",
              "    <tr>\n",
              "      <th>1626</th>\n",
              "      <td>Brecksville</td>\n",
              "      <td>0.590771</td>\n",
              "    </tr>\n",
              "    <tr>\n",
              "      <th>714</th>\n",
              "      <td>Utrecht</td>\n",
              "      <td>0.606331</td>\n",
              "    </tr>\n",
              "    <tr>\n",
              "      <th>517</th>\n",
              "      <td>Carrollton</td>\n",
              "      <td>0.656092</td>\n",
              "    </tr>\n",
              "    <tr>\n",
              "      <th>543</th>\n",
              "      <td>Des Moines</td>\n",
              "      <td>0.700233</td>\n",
              "    </tr>\n",
              "    <tr>\n",
              "      <th>963</th>\n",
              "      <td>Darmstadt</td>\n",
              "      <td>1.161160</td>\n",
              "    </tr>\n",
              "    <tr>\n",
              "      <th>2168</th>\n",
              "      <td>Weybridge</td>\n",
              "      <td>1.397489</td>\n",
              "    </tr>\n",
              "    <tr>\n",
              "      <th>1262</th>\n",
              "      <td>Aptos</td>\n",
              "      <td>1.549943</td>\n",
              "    </tr>\n",
              "  </tbody>\n",
              "</table>\n",
              "</div>\n",
              "      <button class=\"colab-df-convert\" onclick=\"convertToInteractive('df-d7ba8fb8-6bd4-41b2-925d-db655cb83b09')\"\n",
              "              title=\"Convert this dataframe to an interactive table.\"\n",
              "              style=\"display:none;\">\n",
              "        \n",
              "  <svg xmlns=\"http://www.w3.org/2000/svg\" height=\"24px\"viewBox=\"0 0 24 24\"\n",
              "       width=\"24px\">\n",
              "    <path d=\"M0 0h24v24H0V0z\" fill=\"none\"/>\n",
              "    <path d=\"M18.56 5.44l.94 2.06.94-2.06 2.06-.94-2.06-.94-.94-2.06-.94 2.06-2.06.94zm-11 1L8.5 8.5l.94-2.06 2.06-.94-2.06-.94L8.5 2.5l-.94 2.06-2.06.94zm10 10l.94 2.06.94-2.06 2.06-.94-2.06-.94-.94-2.06-.94 2.06-2.06.94z\"/><path d=\"M17.41 7.96l-1.37-1.37c-.4-.4-.92-.59-1.43-.59-.52 0-1.04.2-1.43.59L10.3 9.45l-7.72 7.72c-.78.78-.78 2.05 0 2.83L4 21.41c.39.39.9.59 1.41.59.51 0 1.02-.2 1.41-.59l7.78-7.78 2.81-2.81c.8-.78.8-2.07 0-2.86zM5.41 20L4 18.59l7.72-7.72 1.47 1.35L5.41 20z\"/>\n",
              "  </svg>\n",
              "      </button>\n",
              "      \n",
              "  <style>\n",
              "    .colab-df-container {\n",
              "      display:flex;\n",
              "      flex-wrap:wrap;\n",
              "      gap: 12px;\n",
              "    }\n",
              "\n",
              "    .colab-df-convert {\n",
              "      background-color: #E8F0FE;\n",
              "      border: none;\n",
              "      border-radius: 50%;\n",
              "      cursor: pointer;\n",
              "      display: none;\n",
              "      fill: #1967D2;\n",
              "      height: 32px;\n",
              "      padding: 0 0 0 0;\n",
              "      width: 32px;\n",
              "    }\n",
              "\n",
              "    .colab-df-convert:hover {\n",
              "      background-color: #E2EBFA;\n",
              "      box-shadow: 0px 1px 2px rgba(60, 64, 67, 0.3), 0px 1px 3px 1px rgba(60, 64, 67, 0.15);\n",
              "      fill: #174EA6;\n",
              "    }\n",
              "\n",
              "    [theme=dark] .colab-df-convert {\n",
              "      background-color: #3B4455;\n",
              "      fill: #D2E3FC;\n",
              "    }\n",
              "\n",
              "    [theme=dark] .colab-df-convert:hover {\n",
              "      background-color: #434B5C;\n",
              "      box-shadow: 0px 1px 3px 1px rgba(0, 0, 0, 0.15);\n",
              "      filter: drop-shadow(0px 1px 2px rgba(0, 0, 0, 0.3));\n",
              "      fill: #FFFFFF;\n",
              "    }\n",
              "  </style>\n",
              "\n",
              "      <script>\n",
              "        const buttonEl =\n",
              "          document.querySelector('#df-d7ba8fb8-6bd4-41b2-925d-db655cb83b09 button.colab-df-convert');\n",
              "        buttonEl.style.display =\n",
              "          google.colab.kernel.accessAllowed ? 'block' : 'none';\n",
              "\n",
              "        async function convertToInteractive(key) {\n",
              "          const element = document.querySelector('#df-d7ba8fb8-6bd4-41b2-925d-db655cb83b09');\n",
              "          const dataTable =\n",
              "            await google.colab.kernel.invokeFunction('convertToInteractive',\n",
              "                                                     [key], {});\n",
              "          if (!dataTable) return;\n",
              "\n",
              "          const docLinkHtml = 'Like what you see? Visit the ' +\n",
              "            '<a target=\"_blank\" href=https://colab.research.google.com/notebooks/data_table.ipynb>data table notebook</a>'\n",
              "            + ' to learn more about interactive tables.';\n",
              "          element.innerHTML = '';\n",
              "          dataTable['output_type'] = 'display_data';\n",
              "          await google.colab.output.renderOutput(dataTable, element);\n",
              "          const docLink = document.createElement('div');\n",
              "          docLink.innerHTML = docLinkHtml;\n",
              "          element.appendChild(docLink);\n",
              "        }\n",
              "      </script>\n",
              "    </div>\n",
              "  </div>\n",
              "  "
            ],
            "text/plain": [
              "               label    weight\n",
              "3278           Mafra  0.530684\n",
              "2179      Wollongong  0.539024\n",
              "2748  Essex Junction  0.578040\n",
              "1626     Brecksville  0.590771\n",
              "714          Utrecht  0.606331\n",
              "517       Carrollton  0.656092\n",
              "543       Des Moines  0.700233\n",
              "963        Darmstadt  1.161160\n",
              "2168       Weybridge  1.397489\n",
              "1262           Aptos  1.549943"
            ]
          },
          "execution_count": 68,
          "metadata": {},
          "output_type": "execute_result"
        }
      ],
      "source": [
        "# create spark df with the first 10 highest labels and corresponding weights\n",
        "pd.DataFrame(list(zip(labellist, en_lr_model3.stages[4].coefficients.toArray())),\n",
        "            columns = ['label', 'weight']).sort_values('weight').tail(10)"
      ]
    },
    {
      "cell_type": "markdown",
      "metadata": {
        "id": "gnVwoh4AnWHK"
      },
      "source": [
        "Weights of the important features of the Random Forest model with 15 trees as reference"
      ]
    },
    {
      "cell_type": "code",
      "execution_count": null,
      "metadata": {
        "id": "jESnIYP9nWz9"
      },
      "outputs": [],
      "source": [
        "# create spark df with all coefficients of LR model 2 (best performance in terms of AUC and accuracy combined)\n",
        "dflrcoeff = spark.createDataFrame(pd.DataFrame(list(zip(labellist, en_lr_model2.stages[4].coefficients.toArray())),\n",
        "            columns = ['label', 'weight']).sort_values('weight'))"
      ]
    },
    {
      "cell_type": "code",
      "execution_count": null,
      "metadata": {
        "id": "ghGvSBsInZoN"
      },
      "outputs": [],
      "source": [
        "# list with the highest 8 importancies based on RF model with 15 trees (best performance in terms of AUC and accuracy combined)\n",
        "rf15imp = [\"Storage\",\"Messaging\",\"numeric_count_investor\",\"USA\",\"venture\",\"USA_investor\",\"numeric_age\",\"numeric_total_raised_usd\"]"
      ]
    },
    {
      "cell_type": "code",
      "execution_count": null,
      "metadata": {
        "colab": {
          "base_uri": "https://localhost:8080/"
        },
        "id": "ieEXXJ1inbOR",
        "outputId": "1e22a1b4-3f63-4fad-8e24-e0473ca8f6b8"
      },
      "outputs": [
        {
          "name": "stdout",
          "output_type": "stream",
          "text": [
            "+--------------------+--------------------+\n",
            "|               label|              weight|\n",
            "+--------------------+--------------------+\n",
            "|        USA_investor|-0.26531770618420764|\n",
            "|             venture|                 0.0|\n",
            "|numeric_total_rai...|                 0.0|\n",
            "|         numeric_age| 0.17796237042371646|\n",
            "|numeric_count_inv...| 0.22518685761219065|\n",
            "|                 USA|  0.2455042371907676|\n",
            "+--------------------+--------------------+\n",
            "\n"
          ]
        }
      ],
      "source": [
        "# display weights for the important factors from the RF model with 15 trees in order to see if its negative or positive\n",
        "dfdisrf = dflrcoeff.where(col(\"label\").isin(rf15imp)).orderBy(\"weight\")\n",
        "dfdisrf.show()"
      ]
    },
    {
      "cell_type": "markdown",
      "metadata": {
        "id": "sZSN3W58nfVs"
      },
      "source": [
        "#Principal Component Analysis"
      ]
    },
    {
      "cell_type": "code",
      "execution_count": null,
      "metadata": {
        "colab": {
          "base_uri": "https://localhost:8080/"
        },
        "id": "OteevemxnkED",
        "outputId": "2ec2131b-b8e9-4eac-c078-d8e778c4c19e"
      },
      "outputs": [
        {
          "name": "stdout",
          "output_type": "stream",
          "text": [
            "+-------------+-----------------------------+\n",
            "|Number of PCs|Cumulative Variance Explained|\n",
            "+-------------+-----------------------------+\n",
            "|            1|          0.22833416514833127|\n",
            "|            2|           0.4245649216190356|\n",
            "|            3|           0.5542144510065699|\n",
            "|            4|           0.6195314423589732|\n",
            "|            5|           0.6656582494370347|\n",
            "|            6|            0.703573108899761|\n",
            "|            7|           0.7381980723011159|\n",
            "|            8|           0.7690787356392836|\n",
            "|            9|           0.7875119527317764|\n",
            "|           10|           0.7993796580257001|\n",
            "|           11|           0.8106491495894524|\n",
            "|           12|           0.8203493854932905|\n",
            "|           13|           0.8291191210214209|\n",
            "|           14|           0.8345718391025445|\n",
            "|           15|           0.8392957595652807|\n",
            "|           16|           0.8436070497972814|\n",
            "|           17|           0.8477596808439594|\n",
            "|           18|           0.8516652239101569|\n",
            "|           19|           0.8549825054333559|\n",
            "|           20|           0.8580110653400276|\n",
            "+-------------+-----------------------------+\n",
            "only showing top 20 rows\n",
            "\n"
          ]
        }
      ],
      "source": [
        "# define and fit a PCA model wit k = 200 as reference\n",
        "\n",
        "pcavar = feature.PCA(k=200, inputCol='features', outputCol='pca_feat')\n",
        "pca_var = Pipeline(stages=[vanum, std, vacate, va, pcavar])\n",
        "pca_var_model = pca_var.fit(df_coded)\n",
        "varlist = pca_var_model.stages[4].explainedVariance\n",
        "npvar = np.cumsum(varlist)\n",
        "pci = [pci for pci in range(1,201,1)]\n",
        "dfvar = spark.createDataFrame(pd.DataFrame({\"Number of PCs\": pci, \"Cumulative Variance Explained\": npvar}))\n",
        "dfvar.show()"
      ]
    },
    {
      "cell_type": "code",
      "execution_count": null,
      "metadata": {
        "colab": {
          "base_uri": "https://localhost:8080/"
        },
        "id": "7M23M3OynmQM",
        "outputId": "fdedd8ec-572e-45f3-8d60-fdbc177174c4"
      },
      "outputs": [
        {
          "name": "stdout",
          "output_type": "stream",
          "text": [
            "+-------------+-----------------------------+\n",
            "|Number of PCs|Cumulative Variance Explained|\n",
            "+-------------+-----------------------------+\n",
            "|1            |0.22833416514833127          |\n",
            "|2            |0.4245649216190356           |\n",
            "|3            |0.5542144510065699           |\n",
            "|4            |0.6195314423589732           |\n",
            "|5            |0.6656582494370347           |\n",
            "|6            |0.703573108899761            |\n",
            "|7            |0.7381980723011159           |\n",
            "|8            |0.7690787356392836           |\n",
            "|9            |0.7875119527317764           |\n",
            "|10           |0.7993796580257001           |\n",
            "|11           |0.8106491495894524           |\n",
            "|12           |0.8203493854932905           |\n",
            "|13           |0.8291191210214209           |\n",
            "|14           |0.8345718391025445           |\n",
            "|15           |0.8392957595652807           |\n",
            "|16           |0.8436070497972814           |\n",
            "|17           |0.8477596808439594           |\n",
            "|18           |0.8516652239101569           |\n",
            "|19           |0.8549825054333559           |\n",
            "|20           |0.8580110653400276           |\n",
            "|21           |0.8607970337760006           |\n",
            "|22           |0.863361949589179            |\n",
            "|23           |0.8658720748371964           |\n",
            "|24           |0.8681541882595478           |\n",
            "|25           |0.8702936616168109           |\n",
            "|26           |0.8722772246364959           |\n",
            "|27           |0.874000847472845            |\n",
            "|28           |0.8756232443579945           |\n",
            "|29           |0.8771730688697487           |\n",
            "|30           |0.8787150587281977           |\n",
            "|31           |0.8802284271594462           |\n",
            "|32           |0.8817136557964124           |\n",
            "|33           |0.8831462425598727           |\n",
            "|34           |0.8845651307185007           |\n",
            "|35           |0.8859063069843044           |\n",
            "|36           |0.8872219375719348           |\n",
            "|37           |0.8885068934773414           |\n",
            "|38           |0.8897896083484144           |\n",
            "|39           |0.891049092978374            |\n",
            "|40           |0.892295524730101            |\n",
            "|41           |0.893536549334144            |\n",
            "|42           |0.894748025068431            |\n",
            "|43           |0.8959236299514743           |\n",
            "|44           |0.8970862534740984           |\n",
            "|45           |0.8982263793080415           |\n",
            "|46           |0.8993446703677779           |\n",
            "|47           |0.9004406204646562           |\n",
            "|48           |0.9014984133567907           |\n",
            "|49           |0.9025146380254377           |\n",
            "|50           |0.9034940541873185           |\n",
            "|51           |0.9044682162526424           |\n",
            "|52           |0.9054356239938345           |\n",
            "|53           |0.9064003014027351           |\n",
            "|54           |0.9073272040563728           |\n",
            "|55           |0.9082052223016699           |\n",
            "|56           |0.9090732811091475           |\n",
            "|57           |0.9099183168697291           |\n",
            "|58           |0.9107594155706541           |\n",
            "|59           |0.9115564410460488           |\n",
            "|60           |0.9123479779919754           |\n",
            "|61           |0.913117737246958            |\n",
            "|62           |0.9138795765931623           |\n",
            "|63           |0.9145988682795222           |\n",
            "|64           |0.915314217949272            |\n",
            "|65           |0.9159963670964635           |\n",
            "|66           |0.9166454690457283           |\n",
            "|67           |0.9172759631169881           |\n",
            "|68           |0.9178783052509787           |\n",
            "|69           |0.9184477155577944           |\n",
            "|70           |0.9190165079885618           |\n",
            "|71           |0.9195660868738166           |\n",
            "|72           |0.9201019205071849           |\n",
            "|73           |0.9206355563476608           |\n",
            "|74           |0.9211682917367116           |\n",
            "|75           |0.9217000668276241           |\n",
            "|76           |0.9222197003665845           |\n",
            "|77           |0.922729276754438            |\n",
            "|78           |0.9232325936658863           |\n",
            "|79           |0.9237313402859607           |\n",
            "|80           |0.9242234104335415           |\n",
            "|81           |0.9247121619762929           |\n",
            "|82           |0.9251999357910945           |\n",
            "|83           |0.9256856516589318           |\n",
            "|84           |0.9261636548328478           |\n",
            "|85           |0.9266356413014022           |\n",
            "|86           |0.9271016435875636           |\n",
            "|87           |0.9275569933280516           |\n",
            "|88           |0.9279936875345524           |\n",
            "|89           |0.9284222133445174           |\n",
            "|90           |0.9288432754617127           |\n",
            "|91           |0.9292591852805996           |\n",
            "|92           |0.929666429786314            |\n",
            "|93           |0.9300673749140883           |\n",
            "|94           |0.930460172289727            |\n",
            "|95           |0.9308511079064594           |\n",
            "|96           |0.9312338785476224           |\n",
            "|97           |0.931614664194395            |\n",
            "|98           |0.9319879807832481           |\n",
            "|99           |0.9323542827815402           |\n",
            "|100          |0.9327158475035854           |\n",
            "|101          |0.9330744017959062           |\n",
            "|102          |0.9334267135872731           |\n",
            "|103          |0.9337739430474296           |\n",
            "|104          |0.9341196429928135           |\n",
            "|105          |0.9344631956912215           |\n",
            "|106          |0.9348039270504006           |\n",
            "|107          |0.9351428706538775           |\n",
            "|108          |0.9354791308454774           |\n",
            "|109          |0.9358057237768841           |\n",
            "|110          |0.9361267746692277           |\n",
            "|111          |0.9364473080204434           |\n",
            "|112          |0.9367617749858067           |\n",
            "|113          |0.9370751203770544           |\n",
            "|114          |0.9373860338748231           |\n",
            "|115          |0.9376927484680398           |\n",
            "|116          |0.9379955042672193           |\n",
            "|117          |0.9382934584649435           |\n",
            "|118          |0.9385884927901451           |\n",
            "|119          |0.9388696895029833           |\n",
            "|120          |0.9391494481916713           |\n",
            "|121          |0.9394198256926899           |\n",
            "|122          |0.9396842145514633           |\n",
            "|123          |0.939945073945653            |\n",
            "|124          |0.9402017400841338           |\n",
            "|125          |0.9404557504049306           |\n",
            "|126          |0.9407032613326666           |\n",
            "|127          |0.940945040622235            |\n",
            "|128          |0.9411854552691042           |\n",
            "|129          |0.9414228142771904           |\n",
            "|130          |0.9416581095018931           |\n",
            "|131          |0.9418841374307396           |\n",
            "|132          |0.9421094557348998           |\n",
            "|133          |0.942333339331169            |\n",
            "|134          |0.9425568846827478           |\n",
            "|135          |0.9427758634431781           |\n",
            "|136          |0.9429900572176789           |\n",
            "|137          |0.9432024107767585           |\n",
            "|138          |0.9434120582385476           |\n",
            "|139          |0.943621041260181            |\n",
            "|140          |0.9438287001550635           |\n",
            "|141          |0.9440359869832663           |\n",
            "|142          |0.9442428867954861           |\n",
            "|143          |0.9444486546007967           |\n",
            "|144          |0.9446532355831557           |\n",
            "|145          |0.9448561845097484           |\n",
            "|146          |0.9450580297044678           |\n",
            "|147          |0.9452591549529619           |\n",
            "|148          |0.9454597773982962           |\n",
            "|149          |0.9456592941808474           |\n",
            "|150          |0.945858098937311            |\n",
            "|151          |0.9460537207313021           |\n",
            "|152          |0.9462448381625089           |\n",
            "|153          |0.9464354522891488           |\n",
            "|154          |0.9466246395499055           |\n",
            "|155          |0.9468135082219414           |\n",
            "|156          |0.9470021973844597           |\n",
            "|157          |0.9471892017510327           |\n",
            "|158          |0.947375722804904            |\n",
            "|159          |0.947559083077299            |\n",
            "|160          |0.9477405729591064           |\n",
            "|161          |0.9479201351139779           |\n",
            "|162          |0.948097604265604            |\n",
            "|163          |0.9482724831093111           |\n",
            "|164          |0.948446385481775            |\n",
            "|165          |0.9486169497732904           |\n",
            "|166          |0.9487872677597984           |\n",
            "|167          |0.948956470388833            |\n",
            "|168          |0.9491249376862565           |\n",
            "|169          |0.9492927536745065           |\n",
            "|170          |0.949459537264066            |\n",
            "|171          |0.9496246618927686           |\n",
            "|172          |0.9497895972876432           |\n",
            "|173          |0.9499538436340673           |\n",
            "|174          |0.9501164122694946           |\n",
            "|175          |0.9502786793601865           |\n",
            "|176          |0.9504399277577908           |\n",
            "|177          |0.9506007182812722           |\n",
            "|178          |0.9507604412845486           |\n",
            "|179          |0.9509188377199733           |\n",
            "|180          |0.9510761826606571           |\n",
            "|181          |0.9512334236167258           |\n",
            "|182          |0.9513900623440369           |\n",
            "|183          |0.9515459549345483           |\n",
            "|184          |0.9517013996719095           |\n",
            "|185          |0.9518559540405992           |\n",
            "|186          |0.9520091317589944           |\n",
            "|187          |0.9521617594035483           |\n",
            "|188          |0.9523133221657274           |\n",
            "|189          |0.9524632213587131           |\n",
            "|190          |0.9526122882747169           |\n",
            "|191          |0.9527608352432807           |\n",
            "|192          |0.9529084323922794           |\n",
            "|193          |0.9530547786772862           |\n",
            "|194          |0.9531989848812087           |\n",
            "|195          |0.9533431573535749           |\n",
            "|196          |0.9534872583905674           |\n",
            "|197          |0.9536308253598501           |\n",
            "|198          |0.9537725701134248           |\n",
            "|199          |0.9539127829028679           |\n",
            "|200          |0.9540520908049893           |\n",
            "+-------------+-----------------------------+\n",
            "\n"
          ]
        }
      ],
      "source": [
        "dfvar.show(dfvar.count(), False)"
      ]
    },
    {
      "cell_type": "markdown",
      "metadata": {
        "id": "6GaqAVbkn1Lc"
      },
      "source": [
        "**So we reach a explained variance of 90% with roughly 85 Principal Components**"
      ]
    },
    {
      "cell_type": "code",
      "execution_count": null,
      "metadata": {
        "id": "TOPZZXeNn10L"
      },
      "outputs": [],
      "source": [
        "# define pca feature function with k = 85\n",
        "pca = feature.PCA(k=85, inputCol='features', outputCol='pca_feat')"
      ]
    },
    {
      "cell_type": "code",
      "execution_count": null,
      "metadata": {
        "id": "YBGs3KZOn33L"
      },
      "outputs": [],
      "source": [
        "# define the parameters and pipelines for the logistic regressions with PCA features\n",
        "lambda_par1 = 0.01\n",
        "alpha_par1 = 0.05\n",
        "en_lr1_pca = LogisticRegression().\\\n",
        "        setLabelCol('label').\\\n",
        "        setFeaturesCol('pca_feat').\\\n",
        "        setRegParam(lambda_par1).\\\n",
        "        setElasticNetParam(alpha_par1)\n",
        "\n",
        "# change the parameters of the second classifier below\n",
        "lambda_par2 = 0.05\n",
        "alpha_par2 = 0.05\n",
        "en_lr2_pca = LogisticRegression().\\\n",
        "        setLabelCol('label').\\\n",
        "        setFeaturesCol('pca_feat').\\\n",
        "        setRegParam(lambda_par2).\\\n",
        "        setElasticNetParam(alpha_par2)\n",
        "\n",
        "# change the parameters of the thrid classifier below\n",
        "lambda_par3 = 0.1\n",
        "alpha_par3 = 0.05\n",
        "en_lr3_pca = LogisticRegression().\\\n",
        "        setLabelCol('label').\\\n",
        "        setFeaturesCol('pca_feat').\\\n",
        "        setRegParam(lambda_par3).\\\n",
        "        setElasticNetParam(alpha_par3)\n",
        "        \n",
        "en_lr_estimator1_pca = Pipeline(\n",
        "    stages=[vanum, std, vacate, va, pca, en_lr1_pca])\n",
        "en_lr_estimator2_pca = Pipeline(\n",
        "    stages=[vanum, std, vacate, va, pca, en_lr2_pca])\n",
        "en_lr_estimator3_pca = Pipeline(\n",
        "    stages=[vanum, std, vacate, va, pca, en_lr3_pca])"
      ]
    },
    {
      "cell_type": "code",
      "execution_count": null,
      "metadata": {
        "id": "72w3mTiOn6R2"
      },
      "outputs": [],
      "source": [
        "# fit the PCA logistic regression pipelines\n",
        "en_lr_model1_pca = en_lr_estimator1_pca.fit(training_df)\n",
        "en_lr_model2_pca = en_lr_estimator2_pca.fit(training_df)\n",
        "en_lr_model3_pca = en_lr_estimator3_pca.fit(training_df)"
      ]
    },
    {
      "cell_type": "code",
      "execution_count": null,
      "metadata": {
        "id": "Ldu3uYI6n798"
      },
      "outputs": [],
      "source": [
        "# apply the pipelines to the validation dataset\n",
        "dfmodel1_pca = en_lr_model1_pca.transform(validation_df)\n",
        "dfmodel2_pca = en_lr_model2_pca.transform(validation_df)\n",
        "dfmodel3_pca = en_lr_model3_pca.transform(validation_df)"
      ]
    },
    {
      "cell_type": "code",
      "execution_count": null,
      "metadata": {
        "colab": {
          "base_uri": "https://localhost:8080/"
        },
        "id": "w3TAiTbLn9r0",
        "outputId": "61dbd789-cc84-48ed-e69e-00e1b5434105"
      },
      "outputs": [
        {
          "name": "stdout",
          "output_type": "stream",
          "text": [
            "PC Logistic Regression Model 1: AUC = 0.7250762022295071\n",
            "PC Logistic Regression Model 2: AUC = 0.7352234048026305\n",
            "PC Logistic Regression Model 3: AUC = 0.7376471088883656\n",
            "+--------------------+\n",
            "|Accuracy for Model 1|\n",
            "+--------------------+\n",
            "|  0.9234548230764124|\n",
            "+--------------------+\n",
            "\n",
            "None\n",
            "+--------------------+\n",
            "|Accuracy for Model 2|\n",
            "+--------------------+\n",
            "|  0.9244506406426343|\n",
            "+--------------------+\n",
            "\n",
            "None\n",
            "+--------------------+\n",
            "|Accuracy for Model 3|\n",
            "+--------------------+\n",
            "|  0.9249817433446192|\n",
            "+--------------------+\n",
            "\n",
            "None\n"
          ]
        }
      ],
      "source": [
        "# print the areas under the curve and accuracies of the different PCA logistic regression models\n",
        "print(\"PC Logistic Regression Model 1: AUC = {}\".format(bce.evaluate(dfmodel1_pca)))\n",
        "print(\"PC Logistic Regression Model 2: AUC = {}\".format(bce.evaluate(dfmodel2_pca)))\n",
        "print(\"PC Logistic Regression Model 3: AUC = {}\".format(bce.evaluate(dfmodel3_pca)))\n",
        "#Accuracy\n",
        "print(dfmodel1_pca.select(fn.expr('float(label = prediction)').alias('correct')).select(fn.avg('correct').alias(\"Accuracy for Model 1\")).show())\n",
        "print(dfmodel2_pca.select(fn.expr('float(label = prediction)').alias('correct')).select(fn.avg('correct').alias(\"Accuracy for Model 2\")).show())\n",
        "print(dfmodel3_pca.select(fn.expr('float(label = prediction)').alias('correct')).select(fn.avg('correct').alias(\"Accuracy for Model 3\")).show())"
      ]
    },
    {
      "cell_type": "markdown",
      "metadata": {
        "id": "Hwz4AunloEn1"
      },
      "source": [
        "Exploring Loadings"
      ]
    },
    {
      "cell_type": "code",
      "execution_count": null,
      "metadata": {
        "id": "s6KAWMMsoIOA"
      },
      "outputs": [],
      "source": [
        "# assign loadings of the first 3 PCs \n",
        "pc1 = en_lr_model2_pca.stages[4].pc.toArray()[:, 0].tolist()\n",
        "pc2 = en_lr_model2_pca.stages[4].pc.toArray()[:, 1].tolist()\n",
        "pc3 = en_lr_model2_pca.stages[4].pc.toArray()[:, 2].tolist()"
      ]
    },
    {
      "cell_type": "code",
      "execution_count": null,
      "metadata": {
        "id": "h6CRL8jJoI9m"
      },
      "outputs": [],
      "source": [
        "# create pandas df with the loadings/PCs and the corresponding labels\n",
        "pc_loadings = pd.DataFrame([labellist, pc1, pc2, pc3]).T.rename(columns={0: 'label', \n",
        "                                                                          1: 'load_pc1',\n",
        "                                                                          2: 'load_pc2',\n",
        "                                                                          3: 'load_pc3',})"
      ]
    },
    {
      "cell_type": "code",
      "execution_count": null,
      "metadata": {
        "colab": {
          "base_uri": "https://localhost:8080/",
          "height": 295
        },
        "id": "WnySCP-GoKt6",
        "outputId": "81a131ab-9d43-4637-d6aa-cb4cd2504bc7"
      },
      "outputs": [
        {
          "data": {
            "text/plain": [
              "DataFrame[label: string, load_pc1: double, load_pc2: double, load_pc3: double]"
            ]
          },
          "metadata": {},
          "output_type": "display_data"
        },
        {
          "name": "stdout",
          "output_type": "stream",
          "text": [
            "+--------------------+--------------------+--------------------+--------------------+\n",
            "|               label|            load_pc1|            load_pc2|            load_pc3|\n",
            "+--------------------+--------------------+--------------------+--------------------+\n",
            "|         numeric_age| -0.6036457658329708|  -0.363973967219413|-0.00410482576020...|\n",
            "|numeric_time_to_f...| -0.5859227874086506| -0.3854471979163721|-0.00605110074920...|\n",
            "|numeric_funding_r...| -0.3833252853181104|  0.5940044857574776|0.005551606078036...|\n",
            "|numeric_count_inv...| -0.3691400520240835|  0.6006682593786625|0.019919209280200287|\n",
            "|        �sterby Havn|-0.05005800871880814|-0.03978762053326017|-0.00366214207883...|\n",
            "|       post_ipo_debt|                null|                null|                null|\n",
            "|product_crowdfunding|                null|                null|                null|\n",
            "|    secondary_market|                null|                null|                null|\n",
            "|                None|                null|                null|                null|\n",
            "|            + Mobile|                null|                null|                null|\n",
            "+--------------------+--------------------+--------------------+--------------------+\n",
            "\n"
          ]
        }
      ],
      "source": [
        "# create spark df with the 5 highest and lowest loadings of the first PC\n",
        "load1 = sql.createDataFrame(pd.concat((pc_loadings.sort_values('load_pc1').head(), \n",
        "           pc_loadings.sort_values('load_pc1').tail())))\n",
        "display(load1)\n",
        "load1.show()"
      ]
    },
    {
      "cell_type": "markdown",
      "metadata": {
        "id": "tKhk8PJXoYk0"
      },
      "source": [
        "Here we can see the top and bottom 5 features based on the loadings that describe the first PC."
      ]
    },
    {
      "cell_type": "code",
      "execution_count": null,
      "metadata": {
        "colab": {
          "base_uri": "https://localhost:8080/",
          "height": 295
        },
        "id": "5XrbeasgoMmg",
        "outputId": "404d41af-b1e2-4b74-8c58-805c1bd5ab48"
      },
      "outputs": [
        {
          "data": {
            "text/plain": [
              "DataFrame[label: string, load_pc1: double, load_pc2: double, load_pc3: double]"
            ]
          },
          "metadata": {},
          "output_type": "display_data"
        },
        {
          "name": "stdout",
          "output_type": "stream",
          "text": [
            "+--------------------+--------------------+--------------------+--------------------+\n",
            "|               label|            load_pc1|            load_pc2|            load_pc3|\n",
            "+--------------------+--------------------+--------------------+--------------------+\n",
            "|numeric_time_to_f...| -0.5859227874086506| -0.3854471979163721|-0.00605110074920...|\n",
            "|         numeric_age| -0.6036457658329708|  -0.363973967219413|-0.00410482576020...|\n",
            "|        �sterby Havn|-0.05005800871880814|-0.03978762053326017|-0.00366214207883...|\n",
            "|        TTO_investor|-0.00773227749263...|-0.02026095114825806|-6.63623369231980...|\n",
            "|             venture|-0.01131975506444...|-0.00785273104516...|-1.69653022860796...|\n",
            "|       post_ipo_debt|                null|                null|                null|\n",
            "|product_crowdfunding|                null|                null|                null|\n",
            "|    secondary_market|                null|                null|                null|\n",
            "|                None|                null|                null|                null|\n",
            "|            + Mobile|                null|                null|                null|\n",
            "+--------------------+--------------------+--------------------+--------------------+\n",
            "\n"
          ]
        }
      ],
      "source": [
        "# create spark df with the 5 highest and lowest loadings of the second PC\n",
        "load2 = spark.createDataFrame(pd.concat((pc_loadings.sort_values('load_pc2').head(), \n",
        "           pc_loadings.sort_values('load_pc2').tail())))\n",
        "display(load2)\n",
        "load2.show()"
      ]
    },
    {
      "cell_type": "markdown",
      "metadata": {
        "id": "JBFkhOTuoixY"
      },
      "source": [
        "Here we can see the top and bottom 5 features based on the loadings that describe the second PC.:"
      ]
    },
    {
      "cell_type": "code",
      "execution_count": null,
      "metadata": {
        "colab": {
          "base_uri": "https://localhost:8080/",
          "height": 295
        },
        "id": "vgGlHBjCok_V",
        "outputId": "2d830102-cff1-4bf1-eb69-800f29cd2a73"
      },
      "outputs": [
        {
          "data": {
            "text/plain": [
              "DataFrame[label: string, load_pc1: double, load_pc2: double, load_pc3: double]"
            ]
          },
          "metadata": {},
          "output_type": "display_data"
        },
        {
          "name": "stdout",
          "output_type": "stream",
          "text": [
            "+--------------------+--------------------+--------------------+--------------------+\n",
            "|               label|            load_pc1|            load_pc2|            load_pc3|\n",
            "+--------------------+--------------------+--------------------+--------------------+\n",
            "|numeric_total_rai...|-0.00403050828910...|0.019498915601626966| -0.9996038865720893|\n",
            "|                 GBR|8.148557208618151E-4|-0.00468550763395...|-0.00736443893001...|\n",
            "|                  Q3|-0.00454103489453...|-0.00506841095817...|-0.00624778861036...|\n",
            "|numeric_time_to_f...| -0.5859227874086506| -0.3854471979163721|-0.00605110074920...|\n",
            "|        MAR_investor|0.055245705060509194|0.028755161060297782|-0.00523800173251...|\n",
            "|       post_ipo_debt|                null|                null|                null|\n",
            "|product_crowdfunding|                null|                null|                null|\n",
            "|    secondary_market|                null|                null|                null|\n",
            "|                None|                null|                null|                null|\n",
            "|            + Mobile|                null|                null|                null|\n",
            "+--------------------+--------------------+--------------------+--------------------+\n",
            "\n"
          ]
        }
      ],
      "source": [
        "# create spark df with the 5 highest and lowest loadings of the third PC\n",
        "load3 = spark.createDataFrame(pd.concat((pc_loadings.sort_values('load_pc3').head(), \n",
        "           pc_loadings.sort_values('load_pc3').tail())))\n",
        "display(load3)\n",
        "load3.show()"
      ]
    },
    {
      "cell_type": "markdown",
      "metadata": {
        "id": "gx30B-LHpHz_"
      },
      "source": [
        "Here we can see the top and bottom 5 features based on the loadings that describe the third PC."
      ]
    },
    {
      "cell_type": "markdown",
      "metadata": {
        "id": "dylYmLk7pT4u"
      },
      "source": [
        "#Testing Performance"
      ]
    },
    {
      "cell_type": "code",
      "execution_count": null,
      "metadata": {
        "colab": {
          "base_uri": "https://localhost:8080/"
        },
        "id": "wTgrHX1bpV3H",
        "outputId": "facbe8d0-654f-4d2d-e63f-d5630d827c7c"
      },
      "outputs": [
        {
          "name": "stdout",
          "output_type": "stream",
          "text": [
            "PC Logistic Regression Model 2: AUC = 0.7547027615212122\n",
            "+--------------------------+\n",
            "|Accuracy for PC-LR Model 2|\n",
            "+--------------------------+\n",
            "|        0.9221228141520943|\n",
            "+--------------------------+\n",
            "\n",
            "None\n"
          ]
        }
      ],
      "source": [
        "# Best performing logistic regression model with PCA\n",
        "dfmodel2_pca_test = en_lr_model2_pca.transform(testing_df)\n",
        "print(\"PC Logistic Regression Model 2: AUC = {}\".format(bce.evaluate(dfmodel2_pca_test)))\n",
        "print(dfmodel2_pca_test.select(fn.expr('float(label = prediction)').alias('correct')).select(fn.avg('correct').alias(\"Accuracy for PC-LR Model 2\")).show())"
      ]
    },
    {
      "cell_type": "code",
      "execution_count": null,
      "metadata": {
        "colab": {
          "base_uri": "https://localhost:8080/"
        },
        "id": "rhFCjkOzpYrN",
        "outputId": "382480de-a7cd-46a2-b9b1-000f43645aa9"
      },
      "outputs": [
        {
          "name": "stdout",
          "output_type": "stream",
          "text": [
            "              precision    recall  f1-score   support\n",
            "\n",
            "           0       0.92      1.00      0.96      4535\n",
            "           1       0.50      0.01      0.01       383\n",
            "\n",
            "    accuracy                           0.92      4918\n",
            "   macro avg       0.71      0.50      0.48      4918\n",
            "weighted avg       0.89      0.92      0.89      4918\n",
            "\n"
          ]
        }
      ],
      "source": [
        "lr_true = dfmodel2_pca_test.select(['label']).collect()\n",
        "lr_pred = dfmodel2_pca_test.select(['prediction']).collect()\n",
        "from sklearn.metrics import classification_report, confusion_matrix\n",
        "print(classification_report(lr_true, lr_pred))"
      ]
    },
    {
      "cell_type": "markdown",
      "metadata": {
        "id": "znmETpgOvAkm"
      },
      "source": [
        "#Neural Networks"
      ]
    },
    {
      "cell_type": "markdown",
      "metadata": {
        "id": "KiQnAfb7vEGc"
      },
      "source": [
        "###Standard Model"
      ]
    },
    {
      "cell_type": "code",
      "execution_count": null,
      "metadata": {
        "id": "rohVfDgSvH9r"
      },
      "outputs": [],
      "source": [
        "# define neural networks (MultilayerPerceptron) classifier\n",
        "mlp = classification.MultilayerPerceptronClassifier(seed=0).\\\n",
        "    setStepSize(0.2).\\\n",
        "    setMaxIter(200).\\\n",
        "    setLayers([4399, 2]).\\\n",
        "    setFeaturesCol('features')"
      ]
    },
    {
      "cell_type": "code",
      "execution_count": null,
      "metadata": {
        "id": "tUC4bTMyvQ2u"
      },
      "outputs": [],
      "source": [
        "# define and fit neural network pipeline \n",
        "mlp_simple_model = Pipeline(stages=[vanum, std, vacate, va, mlp]).fit(training_df)"
      ]
    },
    {
      "cell_type": "code",
      "execution_count": null,
      "metadata": {
        "id": "QwMI0N6YvSvI"
      },
      "outputs": [],
      "source": [
        "# define evaluators for accuracy and area under the curve\n",
        "evaluator = MulticlassClassificationEvaluator().setMetricName(\"accuracy\")\n",
        "evaluatorauc = MulticlassClassificationEvaluator()"
      ]
    },
    {
      "cell_type": "code",
      "execution_count": null,
      "metadata": {
        "id": "RPJhHX24vUXC"
      },
      "outputs": [],
      "source": [
        "# apply pipeline to validation dataset\n",
        "dfnn = mlp_simple_model.transform(validation_df)"
      ]
    },
    {
      "cell_type": "code",
      "execution_count": null,
      "metadata": {
        "colab": {
          "base_uri": "https://localhost:8080/"
        },
        "id": "_8cekpTivWBC",
        "outputId": "b79aabcc-8db4-4c6a-c00e-165d2049c9c2"
      },
      "outputs": [
        {
          "name": "stdout",
          "output_type": "stream",
          "text": [
            "0.9170152028148443\n",
            "0.8863205396481113\n"
          ]
        }
      ],
      "source": [
        "# print accuracy and area under the curve for NN\n",
        "print(evaluator.evaluate(dfnn))\n",
        "print(evaluatorauc.evaluate(dfnn))"
      ]
    },
    {
      "cell_type": "markdown",
      "metadata": {
        "id": "A9uEtEeXvbY-"
      },
      "source": [
        "###Model with Hidden Layers"
      ]
    },
    {
      "cell_type": "code",
      "execution_count": null,
      "metadata": {
        "id": "Iq9MJHdxvftm"
      },
      "outputs": [],
      "source": [
        "# define neural networks (MultilayerPerceptron) classifier with hidden layers\n",
        "mlp2 = classification.MultilayerPerceptronClassifier(seed=0).\\\n",
        "    setStepSize(0.2).\\\n",
        "    setMaxIter(200).\\\n",
        "    setFeaturesCol('features').\\\n",
        "    setLayers([4399,30,30, 2])\n",
        "mlp3 = classification.MultilayerPerceptronClassifier(seed=0).\\\n",
        "    setStepSize(0.2).\\\n",
        "    setMaxIter(200).\\\n",
        "    setFeaturesCol('features').\\\n",
        "    setLayers([4399,10,10, 2])\n",
        "mlp4 = classification.MultilayerPerceptronClassifier(seed=0).\\\n",
        "    setStepSize(0.2).\\\n",
        "    setMaxIter(200).\\\n",
        "    setFeaturesCol('features').\\\n",
        "    setLayers([4399,20,20, 2])\n",
        "mlp5 = classification.MultilayerPerceptronClassifier(seed=0).\\\n",
        "    setStepSize(0.2).\\\n",
        "    setMaxIter(200).\\\n",
        "    setFeaturesCol('features').\\\n",
        "    setLayers([4399,30, 2])\n",
        "mlp6 = classification.MultilayerPerceptronClassifier(seed=0).\\\n",
        "    setStepSize(0.2).\\\n",
        "    setMaxIter(200).\\\n",
        "    setFeaturesCol('features').\\\n",
        "    setLayers([4399,30,30,30, 2])"
      ]
    },
    {
      "cell_type": "code",
      "execution_count": null,
      "metadata": {
        "colab": {
          "background_save": true
        },
        "id": "trpJkXAIvgiP"
      },
      "outputs": [],
      "source": [
        "# define and fit pipeline\n",
        "mlp2_model = Pipeline(stages=[vanum, std, vacate, va, mlp2]).fit(training_df)\n",
        "mlp3_model = Pipeline(stages=[vanum, std, vacate, va, mlp3]).fit(training_df)\n",
        "mlp4_model = Pipeline(stages=[vanum, std, vacate, va, mlp4]).fit(training_df)\n",
        "mlp5_model = Pipeline(stages=[vanum, std, vacate, va, mlp5]).fit(training_df)\n",
        "mlp6_model = Pipeline(stages=[vanum, std, vacate, va, mlp6]).fit(training_df)"
      ]
    },
    {
      "cell_type": "code",
      "execution_count": null,
      "metadata": {
        "colab": {
          "background_save": true
        },
        "id": "GBl_aKPnvjB0"
      },
      "outputs": [],
      "source": [
        "# apply and fit model to validation dataset\n",
        "dfnn2 = mlp2_model.transform(validation_df)\n",
        "dfnn3 = mlp3_model.transform(validation_df)\n",
        "dfnn4 = mlp4_model.transform(validation_df)\n",
        "dfnn5 = mlp5_model.transform(validation_df)\n",
        "dfnn6 = mlp6_model.transform(validation_df)"
      ]
    },
    {
      "cell_type": "markdown",
      "metadata": {
        "id": "RIhm7kZavm10"
      },
      "source": [
        "###Performance"
      ]
    },
    {
      "cell_type": "code",
      "execution_count": null,
      "metadata": {
        "colab": {
          "background_save": true
        },
        "id": "4R1FBXxovoai",
        "outputId": "f50b34f2-8094-4a96-cf39-444b425c89fe"
      },
      "outputs": [
        {
          "name": "stdout",
          "output_type": "stream",
          "text": [
            "NN Model with 2 hidden layers and 30 neurons each: Accuracy = 0.9180110203810662\n",
            "NN Model with 2 hidden layers and 30 neurons each: AUC = 0.8983686086655971\n",
            "____________________________________________________________________________\n",
            "NN Model with 2 hidden layers and 10 neurons each: Accuracy = 0.9167496514638518\n",
            "NN Model with 2 hidden layers and 10 neurons each: AUC = 0.8957788651615598\n",
            "____________________________________________________________________________\n",
            "NN Model with 2 hidden layers and 20 neurons each: Accuracy = 0.9187412865962955\n",
            "NN Model with 2 hidden layers and 20 neurons each: AUC = 0.896072065452911\n",
            "____________________________________________________________________________\n",
            "NN Model with 1 hidden layer and 30 neurons: Accuracy = 0.9112394609307575\n",
            "NN Model with 1 hidden layer and 30 neurons: AUC = 0.8963076501707495\n",
            "____________________________________________________________________________\n",
            "NN Model with 3 hidden layers and 30 neurons each: Accuracy = 0.9223262298346943\n",
            "NN Model with 3 hidden layers and 30 neurons each: AUC = 0.89564118955471\n"
          ]
        }
      ],
      "source": [
        "# print accuracy and area under the curve\n",
        "print(\"NN Model with 2 hidden layers and 30 neurons each: Accuracy = {}\".format(evaluator.evaluate(dfnn2)))\n",
        "print(\"NN Model with 2 hidden layers and 30 neurons each: AUC = {}\".format(evaluatorauc.evaluate(dfnn2)))\n",
        "print(\"____________________________________________________________________________\")\n",
        "print(\"NN Model with 2 hidden layers and 10 neurons each: Accuracy = {}\".format(evaluator.evaluate(dfnn3)))\n",
        "print(\"NN Model with 2 hidden layers and 10 neurons each: AUC = {}\".format(evaluatorauc.evaluate(dfnn3)))\n",
        "print(\"____________________________________________________________________________\")\n",
        "print(\"NN Model with 2 hidden layers and 20 neurons each: Accuracy = {}\".format(evaluator.evaluate(dfnn4)))\n",
        "print(\"NN Model with 2 hidden layers and 20 neurons each: AUC = {}\".format(evaluatorauc.evaluate(dfnn4)))\n",
        "print(\"____________________________________________________________________________\")\n",
        "print(\"NN Model with 1 hidden layer and 30 neurons: Accuracy = {}\".format(evaluator.evaluate(dfnn5)))\n",
        "print(\"NN Model with 1 hidden layer and 30 neurons: AUC = {}\".format(evaluatorauc.evaluate(dfnn5)))\n",
        "print(\"____________________________________________________________________________\")\n",
        "print(\"NN Model with 3 hidden layers and 30 neurons each: Accuracy = {}\".format(evaluator.evaluate(dfnn6)))\n",
        "print(\"NN Model with 3 hidden layers and 30 neurons each: AUC = {}\".format(evaluatorauc.evaluate(dfnn6)))"
      ]
    },
    {
      "cell_type": "code",
      "execution_count": null,
      "metadata": {
        "colab": {
          "background_save": true
        },
        "id": "BLS_GelGvotq",
        "outputId": "67a365de-0544-466f-8aec-1d94f4ad0990"
      },
      "outputs": [
        {
          "name": "stdout",
          "output_type": "stream",
          "text": [
            "Neural Network Model with 3 hidden layers and 30 neurons each: Accuracy = 0.9188694591297275\n",
            "Neural Network Model with 3 hidden layers and 30 neurons each: AUC = 0.8915997296748777\n"
          ]
        }
      ],
      "source": [
        "# Best performing neural network model\n",
        "dfnntest = mlp6_model.transform(testing_df)\n",
        "print(\"Neural Network Model with 3 hidden layers and 30 neurons each: Accuracy = {}\".format(evaluator.evaluate(dfnntest)))\n",
        "print(\"Neural Network Model with 3 hidden layers and 30 neurons each: AUC = {}\".format(evaluatorauc.evaluate(dfnntest)))"
      ]
    },
    {
      "cell_type": "code",
      "execution_count": null,
      "metadata": {
        "colab": {
          "background_save": true
        },
        "id": "SNfmseEXvsgk",
        "outputId": "41edc6c3-6b02-453e-ca2c-abc34323f5c9"
      },
      "outputs": [
        {
          "name": "stdout",
          "output_type": "stream",
          "text": [
            "              precision    recall  f1-score   support\n",
            "\n",
            "           0       0.93      0.99      0.96      4535\n",
            "           1       0.38      0.07      0.11       383\n",
            "\n",
            "    accuracy                           0.92      4918\n",
            "   macro avg       0.65      0.53      0.53      4918\n",
            "weighted avg       0.88      0.92      0.89      4918\n",
            "\n"
          ]
        }
      ],
      "source": [
        "nn_true = dfnntest.select(['label']).collect()\n",
        "nn_pred = dfnntest.select(['prediction']).collect()\n",
        "print(classification_report(nn_true, nn_pred))"
      ]
    },
    {
      "cell_type": "code",
      "execution_count": null,
      "metadata": {
        "id": "ihOPtiAavuaB"
      },
      "outputs": [],
      "source": []
    },
    {
      "cell_type": "code",
      "execution_count": null,
      "metadata": {
        "id": "zdRFdMzuvkvV"
      },
      "outputs": [],
      "source": []
    },
    {
      "cell_type": "code",
      "execution_count": null,
      "metadata": {
        "id": "zM1WZnMhvXlB"
      },
      "outputs": [],
      "source": []
    },
    {
      "cell_type": "code",
      "execution_count": null,
      "metadata": {
        "id": "O9XfGUCgvCyh"
      },
      "outputs": [],
      "source": []
    },
    {
      "cell_type": "code",
      "execution_count": null,
      "metadata": {
        "id": "xTjSn40Apavl"
      },
      "outputs": [],
      "source": []
    },
    {
      "cell_type": "code",
      "execution_count": null,
      "metadata": {
        "id": "oJ5nCDvLpI0y"
      },
      "outputs": [],
      "source": []
    },
    {
      "cell_type": "code",
      "execution_count": null,
      "metadata": {
        "id": "4wFMHE7EorVk"
      },
      "outputs": [],
      "source": []
    },
    {
      "cell_type": "code",
      "execution_count": null,
      "metadata": {
        "id": "rRIebfYsoO_p"
      },
      "outputs": [],
      "source": []
    },
    {
      "cell_type": "code",
      "execution_count": null,
      "metadata": {
        "id": "F5kxkDFTn_mE"
      },
      "outputs": [],
      "source": []
    },
    {
      "cell_type": "code",
      "execution_count": null,
      "metadata": {
        "id": "UxoPtC63ntOU"
      },
      "outputs": [],
      "source": []
    },
    {
      "cell_type": "code",
      "execution_count": null,
      "metadata": {
        "id": "4k-0MqyAnc6K"
      },
      "outputs": [],
      "source": []
    },
    {
      "cell_type": "code",
      "execution_count": null,
      "metadata": {
        "id": "sFbYI_jcnFsG"
      },
      "outputs": [],
      "source": []
    },
    {
      "cell_type": "code",
      "execution_count": null,
      "metadata": {
        "id": "9c19sOTxmfVk"
      },
      "outputs": [],
      "source": []
    },
    {
      "cell_type": "code",
      "execution_count": null,
      "metadata": {
        "id": "PKzT84C2Ysgv"
      },
      "outputs": [],
      "source": []
    }
  ],
  "metadata": {
    "colab": {
      "provenance": []
    },
    "kernelspec": {
      "display_name": "Python 3",
      "name": "python3"
    }
  },
  "nbformat": 4,
  "nbformat_minor": 0
}