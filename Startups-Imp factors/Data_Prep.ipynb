{
  "nbformat": 4,
  "nbformat_minor": 0,
  "metadata": {
    "colab": {
      "provenance": []
    },
    "kernelspec": {
      "name": "python3",
      "display_name": "Python 3"
    },
    "language_info": {
      "name": "python"
    }
  },
  "cells": [
    {
      "cell_type": "markdown",
      "source": [
        "# Importing Libraries"
      ],
      "metadata": {
        "id": "XuvtnhiE69aO"
      }
    },
    {
      "cell_type": "code",
      "source": [
        "!pip install pandas\n",
        "!pip install numpy\n",
        "!pip install matplotlib\n",
        "!pip install pyspark"
      ],
      "metadata": {
        "colab": {
          "base_uri": "https://localhost:8080/"
        },
        "id": "JP_tSEBu7QAp",
        "outputId": "a225dbe6-643f-4062-cd8e-38a4be670a97"
      },
      "execution_count": null,
      "outputs": [
        {
          "output_type": "stream",
          "name": "stdout",
          "text": [
            "Looking in indexes: https://pypi.org/simple, https://us-python.pkg.dev/colab-wheels/public/simple/\n",
            "Requirement already satisfied: pandas in /usr/local/lib/python3.8/dist-packages (1.3.5)\n",
            "Requirement already satisfied: pytz>=2017.3 in /usr/local/lib/python3.8/dist-packages (from pandas) (2022.7)\n",
            "Requirement already satisfied: python-dateutil>=2.7.3 in /usr/local/lib/python3.8/dist-packages (from pandas) (2.8.2)\n",
            "Requirement already satisfied: numpy>=1.17.3 in /usr/local/lib/python3.8/dist-packages (from pandas) (1.21.6)\n",
            "Requirement already satisfied: six>=1.5 in /usr/local/lib/python3.8/dist-packages (from python-dateutil>=2.7.3->pandas) (1.15.0)\n",
            "Looking in indexes: https://pypi.org/simple, https://us-python.pkg.dev/colab-wheels/public/simple/\n",
            "Requirement already satisfied: numpy in /usr/local/lib/python3.8/dist-packages (1.21.6)\n",
            "Looking in indexes: https://pypi.org/simple, https://us-python.pkg.dev/colab-wheels/public/simple/\n",
            "Requirement already satisfied: matplotlib in /usr/local/lib/python3.8/dist-packages (3.2.2)\n",
            "Requirement already satisfied: cycler>=0.10 in /usr/local/lib/python3.8/dist-packages (from matplotlib) (0.11.0)\n",
            "Requirement already satisfied: kiwisolver>=1.0.1 in /usr/local/lib/python3.8/dist-packages (from matplotlib) (1.4.4)\n",
            "Requirement already satisfied: python-dateutil>=2.1 in /usr/local/lib/python3.8/dist-packages (from matplotlib) (2.8.2)\n",
            "Requirement already satisfied: pyparsing!=2.0.4,!=2.1.2,!=2.1.6,>=2.0.1 in /usr/local/lib/python3.8/dist-packages (from matplotlib) (3.0.9)\n",
            "Requirement already satisfied: numpy>=1.11 in /usr/local/lib/python3.8/dist-packages (from matplotlib) (1.21.6)\n",
            "Requirement already satisfied: six>=1.5 in /usr/local/lib/python3.8/dist-packages (from python-dateutil>=2.1->matplotlib) (1.15.0)\n",
            "Looking in indexes: https://pypi.org/simple, https://us-python.pkg.dev/colab-wheels/public/simple/\n",
            "Collecting pyspark\n",
            "  Downloading pyspark-3.3.1.tar.gz (281.4 MB)\n",
            "\u001b[2K     \u001b[90m━━━━━━━━━━━━━━━━━━━━━━━━━━━━━━━━━━━━━━━\u001b[0m \u001b[32m281.4/281.4 MB\u001b[0m \u001b[31m4.7 MB/s\u001b[0m eta \u001b[36m0:00:00\u001b[0m\n",
            "\u001b[?25h  Preparing metadata (setup.py) ... \u001b[?25l\u001b[?25hdone\n",
            "Collecting py4j==0.10.9.5\n",
            "  Downloading py4j-0.10.9.5-py2.py3-none-any.whl (199 kB)\n",
            "\u001b[2K     \u001b[90m━━━━━━━━━━━━━━━━━━━━━━━━━━━━━━━━━━━━━━\u001b[0m \u001b[32m199.7/199.7 KB\u001b[0m \u001b[31m15.8 MB/s\u001b[0m eta \u001b[36m0:00:00\u001b[0m\n",
            "\u001b[?25hBuilding wheels for collected packages: pyspark\n",
            "  Building wheel for pyspark (setup.py) ... \u001b[?25l\u001b[?25hdone\n",
            "  Created wheel for pyspark: filename=pyspark-3.3.1-py2.py3-none-any.whl size=281845512 sha256=e9250dc0d553576158e34f99a7c4ef1568e981c4e191696dfb605aa02cfc23d3\n",
            "  Stored in directory: /root/.cache/pip/wheels/43/dc/11/ec201cd671da62fa9c5cc77078235e40722170ceba231d7598\n",
            "Successfully built pyspark\n",
            "Installing collected packages: py4j, pyspark\n",
            "Successfully installed py4j-0.10.9.5 pyspark-3.3.1\n"
          ]
        }
      ]
    },
    {
      "cell_type": "code",
      "source": [
        "import pandas as pd\n",
        "import numpy as np\n",
        "import matplotlib.pyplot as plt\n",
        "\n",
        "# Load functionality to manipulate dataframes\n",
        "from pyspark.sql import functions as fn\n",
        "from pyspark.sql.functions import col, monotonically_increasing_id, split, when\n",
        "\n",
        "# Functionality for computing features\n",
        "from pyspark.ml import feature, regression, classification, Pipeline, clustering\n",
        "from pyspark.ml.classification import LogisticRegression, RandomForestClassifier\n",
        "from pyspark.ml.feature import RFormula, Tokenizer, VectorAssembler, HashingTF, Word2Vec\n",
        "from pyspark.sql import SQLContext\n",
        "from pyspark.sql import SparkSession\n",
        "\n",
        "from itertools import chain\n",
        "from pyspark.ml.linalg import Vectors, VectorUDT\n",
        "\n",
        "#Evaluation\n",
        "from pyspark.ml.evaluation import BinaryClassificationEvaluator"
      ],
      "metadata": {
        "id": "F3-TcRW97FYN"
      },
      "execution_count": null,
      "outputs": []
    },
    {
      "cell_type": "markdown",
      "source": [
        "## Creating Spark Session"
      ],
      "metadata": {
        "id": "hUoSO1s876Bg"
      }
    },
    {
      "cell_type": "code",
      "source": [
        "spark = SparkSession \\\n",
        "    .builder \\\n",
        "    .appName(\"how to read csv file\") \\\n",
        "    .getOrCreate()"
      ],
      "metadata": {
        "id": "fZQEjuIL8BKk"
      },
      "execution_count": null,
      "outputs": []
    },
    {
      "cell_type": "markdown",
      "source": [
        "# Reading in the datasets"
      ],
      "metadata": {
        "id": "Vhxi746K8F3c"
      }
    },
    {
      "cell_type": "code",
      "source": [
        "dfacq = spark.read.format(\"csv\").load(\"/content/drive/MyDrive/Data/acquisitions.csv\", delimiter = \",\", header = True)\n",
        "dfadd = spark.read.format(\"csv\").load(\"/content/drive/MyDrive/Data/additions.csv\", delimiter = \",\", header = True)\n",
        "dfcom = spark.read.format(\"csv\").load(\"/content/drive/MyDrive/Data/companies.csv\", delimiter = \",\", header = True)\n",
        "dfinv = spark.read.format(\"csv\").load(\"/content/drive/MyDrive/Data/investments.csv\", delimiter = \",\", header = True)\n",
        "dfrou = spark.read.format(\"csv\").load(\"/content/drive/MyDrive/Data/rounds.csv\", delimiter = \",\", header = True)"
      ],
      "metadata": {
        "id": "Ff1ucCwA8W0f"
      },
      "execution_count": null,
      "outputs": []
    },
    {
      "cell_type": "markdown",
      "source": [
        "# Taking the necessary columns alone"
      ],
      "metadata": {
        "id": "BBqnSixL-gsr"
      }
    },
    {
      "cell_type": "code",
      "source": [
        "dfcom = dfcom.select(col(\"permalink\"), col(\"name\"), col(\"homepage_url\"), col(\"category_list\"), col(\" market \").alias(\"market\"), col(\" funding_total_usd \").alias(\"funding_total_usd\"), col(\"status\"), col(\"country_code\"), col(\"state_code\"), col(\"region\"), col(\"city\"), col(\"funding_rounds\"), col(\"founded_at\"), col(\"founded_month\"), col(\"founded_quarter\"), col(\"founded_year\"), col(\"first_funding_at\"), col(\"last_funding_at\"))\n",
        "dfacq = dfacq.select(col(\"company_permalink\"), col(\"company_name\"), col(\"company_category_list\"), col(\"company_market\"), col(\"company_country_code\"), col(\"company_state_code\"), col(\"company_region\"), col(\"company_city\"), col(\"acquirer_permalink\"), col(\"acquirer_name\"), col(\"acquirer_category_list\"), col(\"acquirer_market\"), col(\"acquirer_country_code\"), col(\"acquirer_state_code\"), col(\"acquirer_region\"), col(\"acquirer_city\"), col(\"acquired_at\"), col(\"acquired_month\"), col(\"acquired_quarter\"), col(\"acquired_year\"), col(\" price_amount \").alias(\"price_amount\"), col(\"price_currency_code\"))\n",
        "dfrou = dfrou.select(col(\"company_permalink\"), col(\"company_name\"), col(\"company_category_list\"), col(\"company_market\"), col(\"company_country_code\"), col(\"company_state_code\"), col(\"company_region\"), col(\"company_city\"), col(\"funding_round_permalink\"), col(\"funding_round_type\"), col(\"funding_round_code\"), col(\"funded_at\"), col(\"funded_month\"), col(\" funded_quarter \").alias(\"funded_quarter\"), col(\"funded_year\"), col(\" raised_amount_usd \").alias(\"raised_amount_usd\"))"
      ],
      "metadata": {
        "id": "okobCe3G-lfR"
      },
      "execution_count": null,
      "outputs": []
    },
    {
      "cell_type": "markdown",
      "source": [
        "# Examination of the Company dataset"
      ],
      "metadata": {
        "id": "qyYbVaFP-1Tu"
      }
    },
    {
      "cell_type": "code",
      "source": [
        "dfcom.count()"
      ],
      "metadata": {
        "colab": {
          "base_uri": "https://localhost:8080/"
        },
        "id": "aF1Cuj8C_Awq",
        "outputId": "afb87be7-9b33-40f6-f770-1f2578edbf29"
      },
      "execution_count": null,
      "outputs": [
        {
          "output_type": "execute_result",
          "data": {
            "text/plain": [
              "54294"
            ]
          },
          "metadata": {},
          "execution_count": 6
        }
      ]
    },
    {
      "cell_type": "code",
      "source": [
        "#checking for null values\n",
        "dfcom.toPandas().isnull().sum()"
      ],
      "metadata": {
        "colab": {
          "base_uri": "https://localhost:8080/"
        },
        "id": "WLJjcFFU_l_c",
        "outputId": "7004103d-c0a4-4ea3-d255-3e74a65188fd"
      },
      "execution_count": null,
      "outputs": [
        {
          "output_type": "execute_result",
          "data": {
            "text/plain": [
              "permalink             4856\n",
              "name                  4856\n",
              "homepage_url          8305\n",
              "category_list         8817\n",
              "market                8824\n",
              "funding_total_usd     4856\n",
              "status                6170\n",
              "country_code         10129\n",
              "state_code           24133\n",
              "region               10129\n",
              "city                 10972\n",
              "funding_rounds        4856\n",
              "founded_at           15740\n",
              "founded_month        15812\n",
              "founded_quarter      15812\n",
              "founded_year         15812\n",
              "first_funding_at      4856\n",
              "last_funding_at       4856\n",
              "dtype: int64"
            ]
          },
          "metadata": {},
          "execution_count": 7
        }
      ]
    },
    {
      "cell_type": "code",
      "source": [
        "#Null values in closed category\n",
        "dfcom.filter(col(\"status\") == \"closed\").toPandas().isnull().sum()"
      ],
      "metadata": {
        "colab": {
          "base_uri": "https://localhost:8080/"
        },
        "id": "_5sW802b_57-",
        "outputId": "fe58a764-504c-436a-a1aa-b14a163e4163"
      },
      "execution_count": null,
      "outputs": [
        {
          "output_type": "execute_result",
          "data": {
            "text/plain": [
              "permalink               0\n",
              "name                    0\n",
              "homepage_url           31\n",
              "category_list          78\n",
              "market                 78\n",
              "funding_total_usd       0\n",
              "status                  0\n",
              "country_code          408\n",
              "state_code           1074\n",
              "region                408\n",
              "city                  441\n",
              "funding_rounds          0\n",
              "founded_at            607\n",
              "founded_month         607\n",
              "founded_quarter       607\n",
              "founded_year          607\n",
              "first_funding_at        0\n",
              "last_funding_at         0\n",
              "dtype: int64"
            ]
          },
          "metadata": {},
          "execution_count": 8
        }
      ]
    },
    {
      "cell_type": "code",
      "source": [
        "#Null values in operating category\n",
        "dfcom.filter(col(\"status\") == \"operating\").toPandas().isnull().sum()"
      ],
      "metadata": {
        "colab": {
          "base_uri": "https://localhost:8080/"
        },
        "id": "CgxMlBJ_AEqm",
        "outputId": "c060915b-355d-4565-81cd-77353f7a68c0"
      },
      "execution_count": null,
      "outputs": [
        {
          "output_type": "execute_result",
          "data": {
            "text/plain": [
              "permalink                0\n",
              "name                     0\n",
              "homepage_url          3092\n",
              "category_list         3353\n",
              "market                3358\n",
              "funding_total_usd        0\n",
              "status                   0\n",
              "country_code          4439\n",
              "state_code           16696\n",
              "region                4439\n",
              "city                  5166\n",
              "funding_rounds           0\n",
              "founded_at            9165\n",
              "founded_month         9232\n",
              "founded_quarter       9232\n",
              "founded_year          9232\n",
              "first_funding_at         0\n",
              "last_funding_at          0\n",
              "dtype: int64"
            ]
          },
          "metadata": {},
          "execution_count": 9
        }
      ]
    },
    {
      "cell_type": "code",
      "source": [
        "#Null values in acquired category\n",
        "dfcom.filter(col(\"status\") == \"acquired\").toPandas().isnull().sum()"
      ],
      "metadata": {
        "colab": {
          "base_uri": "https://localhost:8080/"
        },
        "id": "nwfx9HyOAMES",
        "outputId": "82dd3de8-dfcc-43e9-b321-5b5162cc6f1f"
      },
      "execution_count": null,
      "outputs": [
        {
          "output_type": "execute_result",
          "data": {
            "text/plain": [
              "permalink              0\n",
              "name                   0\n",
              "homepage_url         254\n",
              "category_list        151\n",
              "market               153\n",
              "funding_total_usd      0\n",
              "status                 0\n",
              "country_code         220\n",
              "state_code           804\n",
              "region               220\n",
              "city                 250\n",
              "funding_rounds         0\n",
              "founded_at           716\n",
              "founded_month        721\n",
              "founded_quarter      721\n",
              "founded_year         721\n",
              "first_funding_at       0\n",
              "last_funding_at        0\n",
              "dtype: int64"
            ]
          },
          "metadata": {},
          "execution_count": 10
        }
      ]
    },
    {
      "cell_type": "markdown",
      "source": [
        "### Different markets and their occurence"
      ],
      "metadata": {
        "id": "8Tb40oygBVqe"
      }
    },
    {
      "cell_type": "code",
      "source": [
        "markets = dfcom.select(\"market\").\\\n",
        "  groupby(col(\"market\")).\\\n",
        "  agg(fn.count(\"market\")).\\\n",
        "  sort(\"count(market)\", ascending=False)"
      ],
      "metadata": {
        "id": "n5vIRN-9BciU"
      },
      "execution_count": null,
      "outputs": []
    },
    {
      "cell_type": "code",
      "source": [
        "display(markets.take(10))"
      ],
      "metadata": {
        "colab": {
          "base_uri": "https://localhost:8080/",
          "height": 191
        },
        "id": "1gmJaERZASAI",
        "outputId": "fa7ced7e-d09a-4717-8a44-8f0dccc50572"
      },
      "execution_count": null,
      "outputs": [
        {
          "output_type": "display_data",
          "data": {
            "text/plain": [
              "[Row(market=' Software ', count(market)=4620),\n",
              " Row(market=' Biotechnology ', count(market)=3688),\n",
              " Row(market=' Mobile ', count(market)=1983),\n",
              " Row(market=' E-Commerce ', count(market)=1805),\n",
              " Row(market=' Curated Web ', count(market)=1655),\n",
              " Row(market=' Enterprise Software ', count(market)=1280),\n",
              " Row(market=' Health Care ', count(market)=1207),\n",
              " Row(market=' Clean Technology ', count(market)=1200),\n",
              " Row(market=' Games ', count(market)=1182),\n",
              " Row(market=' Hardware + Software ', count(market)=1081)]"
            ]
          },
          "metadata": {}
        }
      ]
    },
    {
      "cell_type": "code",
      "source": [
        "#Number of unique markets\n",
        "markets.count()"
      ],
      "metadata": {
        "colab": {
          "base_uri": "https://localhost:8080/"
        },
        "id": "YmeadRpLBgMU",
        "outputId": "d597cb15-76a2-45e6-d62a-90faefdb33ac"
      },
      "execution_count": null,
      "outputs": [
        {
          "output_type": "execute_result",
          "data": {
            "text/plain": [
              "754"
            ]
          },
          "metadata": {},
          "execution_count": 13
        }
      ]
    },
    {
      "cell_type": "markdown",
      "source": [
        "### Cities where most startups are located"
      ],
      "metadata": {
        "id": "YMctLA7TB7pP"
      }
    },
    {
      "cell_type": "code",
      "source": [
        "cities = dfcom.select(\"permalink\", \"name\", \"city\").\\\n",
        "  groupBy(\"city\").\\\n",
        "  agg(fn.count(\"city\")).\\\n",
        "  sort(\"count(city)\", ascending=False)"
      ],
      "metadata": {
        "id": "o9m9CAeyB_1E"
      },
      "execution_count": null,
      "outputs": []
    },
    {
      "cell_type": "code",
      "source": [
        "#Displaying top 10 cities \n",
        "display(cities.take(10))"
      ],
      "metadata": {
        "colab": {
          "base_uri": "https://localhost:8080/",
          "height": 191
        },
        "id": "V-2t0Rk1CAVq",
        "outputId": "79f8aa67-11a3-41a9-c36a-156a3a634d22"
      },
      "execution_count": null,
      "outputs": [
        {
          "output_type": "display_data",
          "data": {
            "text/plain": [
              "[Row(city='San Francisco', count(city)=2615),\n",
              " Row(city='New York', count(city)=2334),\n",
              " Row(city='London', count(city)=1257),\n",
              " Row(city='Palo Alto', count(city)=597),\n",
              " Row(city='Austin', count(city)=583),\n",
              " Row(city='Cambridge', count(city)=554),\n",
              " Row(city='Seattle', count(city)=554),\n",
              " Row(city='Chicago', count(city)=514),\n",
              " Row(city='Los Angeles', count(city)=508),\n",
              " Row(city='Mountain View', count(city)=497)]"
            ]
          },
          "metadata": {}
        }
      ]
    },
    {
      "cell_type": "markdown",
      "source": [
        "### Countries where most startups are located"
      ],
      "metadata": {
        "id": "wMGTulKMCI0f"
      }
    },
    {
      "cell_type": "code",
      "source": [
        "countries = dfcom.select(\"permalink\", \"name\", \"country_code\").\\\n",
        "  groupBy(\"country_code\").\\\n",
        "  agg(fn.count(\"country_code\")).\\\n",
        "  sort(\"count(country_code)\", ascending=False)"
      ],
      "metadata": {
        "id": "DsaUkcM3CO5i"
      },
      "execution_count": null,
      "outputs": []
    },
    {
      "cell_type": "code",
      "source": [
        "display(countries.take(10))"
      ],
      "metadata": {
        "colab": {
          "base_uri": "https://localhost:8080/",
          "height": 191
        },
        "id": "3pmkb5Q5CR8l",
        "outputId": "752febb2-1fe3-4fe7-be81-0313d8e2bd8d"
      },
      "execution_count": null,
      "outputs": [
        {
          "output_type": "display_data",
          "data": {
            "text/plain": [
              "[Row(country_code='USA', count(country_code)=28793),\n",
              " Row(country_code='GBR', count(country_code)=2642),\n",
              " Row(country_code='CAN', count(country_code)=1405),\n",
              " Row(country_code='CHN', count(country_code)=1239),\n",
              " Row(country_code='DEU', count(country_code)=968),\n",
              " Row(country_code='FRA', count(country_code)=866),\n",
              " Row(country_code='IND', count(country_code)=849),\n",
              " Row(country_code='ISR', count(country_code)=682),\n",
              " Row(country_code='ESP', count(country_code)=549),\n",
              " Row(country_code='RUS', count(country_code)=368)]"
            ]
          },
          "metadata": {}
        }
      ]
    },
    {
      "cell_type": "markdown",
      "source": [
        "# Examination of the acquisition dataset"
      ],
      "metadata": {
        "id": "skaut3YMCX30"
      }
    },
    {
      "cell_type": "code",
      "source": [
        "display(dfacq)"
      ],
      "metadata": {
        "colab": {
          "base_uri": "https://localhost:8080/",
          "height": 121
        },
        "id": "kO8fV-vKCdH_",
        "outputId": "53fbe348-f157-45bc-9c56-66efad43f2c5"
      },
      "execution_count": null,
      "outputs": [
        {
          "output_type": "display_data",
          "data": {
            "text/plain": [
              "DataFrame[company_permalink: string, company_name: string, company_category_list: string, company_market: string, company_country_code: string, company_state_code: string, company_region: string, company_city: string, acquirer_permalink: string, acquirer_name: string, acquirer_category_list: string, acquirer_market: string, acquirer_country_code: string, acquirer_state_code: string, acquirer_region: string, acquirer_city: string, acquired_at: string, acquired_month: string, acquired_quarter: string, acquired_year: string, price_amount: string, price_currency_code: string]"
            ]
          },
          "metadata": {}
        }
      ]
    },
    {
      "cell_type": "code",
      "source": [
        "dfacq.count()"
      ],
      "metadata": {
        "colab": {
          "base_uri": "https://localhost:8080/"
        },
        "id": "FRDiyiUxCfP5",
        "outputId": "bd9f634b-d703-444b-b733-f1fee08a40f3"
      },
      "execution_count": null,
      "outputs": [
        {
          "output_type": "execute_result",
          "data": {
            "text/plain": [
              "55240"
            ]
          },
          "metadata": {},
          "execution_count": 19
        }
      ]
    },
    {
      "cell_type": "markdown",
      "source": [
        "### Companies that acquire the most"
      ],
      "metadata": {
        "id": "mBpQ2HwrCktg"
      }
    },
    {
      "cell_type": "code",
      "source": [
        "acquirers = dfacq.\\\n",
        "  select(\"acquirer_name\").\\\n",
        "  groupby(col(\"acquirer_name\")).\\\n",
        "  agg(fn.count(\"acquirer_name\")).\\\n",
        "  sort(\"count(acquirer_name)\", ascending=False)"
      ],
      "metadata": {
        "id": "qx-6TK_NCoex"
      },
      "execution_count": null,
      "outputs": []
    },
    {
      "cell_type": "code",
      "source": [
        "#displaying top 10 comapanies\n",
        "display(acquirers.take(10))"
      ],
      "metadata": {
        "colab": {
          "base_uri": "https://localhost:8080/",
          "height": 191
        },
        "id": "lDD3C2MICrAA",
        "outputId": "8532cde9-d1d0-46a9-aa27-8be4fc4b6f63"
      },
      "execution_count": null,
      "outputs": [
        {
          "output_type": "display_data",
          "data": {
            "text/plain": [
              "[Row(acquirer_name='Cisco', count(acquirer_name)=168),\n",
              " Row(acquirer_name='Google', count(acquirer_name)=165),\n",
              " Row(acquirer_name='Microsoft', count(acquirer_name)=156),\n",
              " Row(acquirer_name='IBM', count(acquirer_name)=122),\n",
              " Row(acquirer_name='Yahoo!', count(acquirer_name)=116),\n",
              " Row(acquirer_name='Oracle Corporation', count(acquirer_name)=90),\n",
              " Row(acquirer_name='Hewlett-Packard', count(acquirer_name)=88),\n",
              " Row(acquirer_name='AOL', count(acquirer_name)=64),\n",
              " Row(acquirer_name='EMC', count(acquirer_name)=63),\n",
              " Row(acquirer_name='Intel', count(acquirer_name)=59)]"
            ]
          },
          "metadata": {}
        }
      ]
    },
    {
      "cell_type": "markdown",
      "source": [
        "# Examination of the investments data"
      ],
      "metadata": {
        "id": "AsAnPsaTC1EE"
      }
    },
    {
      "cell_type": "code",
      "source": [
        "display(dfinv)"
      ],
      "metadata": {
        "colab": {
          "base_uri": "https://localhost:8080/",
          "height": 121
        },
        "id": "SE7ypiIcC5FZ",
        "outputId": "5cc8a37c-9454-4ea8-e48d-2abbce9015ad"
      },
      "execution_count": null,
      "outputs": [
        {
          "output_type": "display_data",
          "data": {
            "text/plain": [
              "DataFrame[company_permalink: string, company_name: string, company_category_list: string, company_market: string, company_country_code: string, company_state_code: string, company_region: string, company_city: string, investor_permalink: string, investor_name: string, investor_category_list: string, investor_market: string, investor_country_code: string, investor_state_code: string, investor_region: string, investor_city: string, funding_round_permalink: string, funding_round_type: string, funding_round_code: string, funded_at: string, funded_month: string, funded_quarter: string, funded_year: string, raised_amount_usd: string]"
            ]
          },
          "metadata": {}
        }
      ]
    },
    {
      "cell_type": "code",
      "source": [
        "dfinv.count()"
      ],
      "metadata": {
        "colab": {
          "base_uri": "https://localhost:8080/"
        },
        "id": "PAi6bkTgC89W",
        "outputId": "9ea2b6cb-4117-4960-b969-acb0cc6788b8"
      },
      "execution_count": null,
      "outputs": [
        {
          "output_type": "execute_result",
          "data": {
            "text/plain": [
              "114506"
            ]
          },
          "metadata": {},
          "execution_count": 23
        }
      ]
    },
    {
      "cell_type": "markdown",
      "source": [
        "### Location of the most investors - city wise"
      ],
      "metadata": {
        "id": "tu3SDCloDFag"
      }
    },
    {
      "cell_type": "code",
      "source": [
        "investorcities = dfinv.\\\n",
        "  select(\"investor_city\",).\\\n",
        "  groupby(col(\"investor_city\")).\\\n",
        "  agg(fn.count(\"investor_city\")).\\\n",
        "  sort(\"count(investor_city)\", ascending=False)"
      ],
      "metadata": {
        "id": "R4IfM1LYDLbz"
      },
      "execution_count": null,
      "outputs": []
    },
    {
      "cell_type": "code",
      "source": [
        "#Displaying top 10 cities\n",
        "display(investorcities.take(10))"
      ],
      "metadata": {
        "colab": {
          "base_uri": "https://localhost:8080/",
          "height": 191
        },
        "id": "iZphZ0nyDOWL",
        "outputId": "581e305a-12c5-430c-86b1-12cfac021fbe"
      },
      "execution_count": null,
      "outputs": [
        {
          "output_type": "display_data",
          "data": {
            "text/plain": [
              "[Row(investor_city='Menlo Park', count(investor_city)=9962),\n",
              " Row(investor_city='New York', count(investor_city)=7030),\n",
              " Row(investor_city='San Francisco', count(investor_city)=5934),\n",
              " Row(investor_city='Palo Alto', count(investor_city)=5224),\n",
              " Row(investor_city='London', count(investor_city)=3146),\n",
              " Row(investor_city='Boston', count(investor_city)=2637),\n",
              " Row(investor_city='Mountain View', count(investor_city)=1786),\n",
              " Row(investor_city='Cambridge', count(investor_city)=1761),\n",
              " Row(investor_city='Paris', count(investor_city)=1708),\n",
              " Row(investor_city='Chicago', count(investor_city)=1261)]"
            ]
          },
          "metadata": {}
        }
      ]
    },
    {
      "cell_type": "markdown",
      "source": [
        "### Number of distinct investors"
      ],
      "metadata": {
        "id": "8TLYoyoZDf93"
      }
    },
    {
      "cell_type": "code",
      "source": [
        "dist_inv = dfinv.\\\n",
        "   select(\"investor_permalink\").\\\n",
        "   distinct()"
      ],
      "metadata": {
        "id": "NFdbeq6lDl7D"
      },
      "execution_count": null,
      "outputs": []
    },
    {
      "cell_type": "code",
      "source": [
        "dist_inv.count()"
      ],
      "metadata": {
        "colab": {
          "base_uri": "https://localhost:8080/"
        },
        "id": "qOW-uTozDm47",
        "outputId": "2060c1df-3454-4b8f-e1ff-3e95ba5191ad"
      },
      "execution_count": null,
      "outputs": [
        {
          "output_type": "execute_result",
          "data": {
            "text/plain": [
              "22277"
            ]
          },
          "metadata": {},
          "execution_count": 27
        }
      ]
    },
    {
      "cell_type": "markdown",
      "source": [
        "### Most invested - By year"
      ],
      "metadata": {
        "id": "UTt6PREFDuts"
      }
    },
    {
      "cell_type": "code",
      "source": [
        "mon_year = dfinv.\\\n",
        "   select(\"funded_year\", \"raised_amount_usd\").\\\n",
        "   groupby(\"funded_year\").\\\n",
        "   agg(fn.sum(\"raised_amount_usd\")).\\\n",
        "   sort(\"funded_year\")"
      ],
      "metadata": {
        "id": "YKI_uBpFDyiq"
      },
      "execution_count": null,
      "outputs": []
    },
    {
      "cell_type": "code",
      "source": [
        "display(mon_year.take(10))"
      ],
      "metadata": {
        "colab": {
          "base_uri": "https://localhost:8080/",
          "height": 191
        },
        "id": "unmYWhT3DzVs",
        "outputId": "2dbd562d-a54b-4707-c83e-bc16e0fb7855"
      },
      "execution_count": null,
      "outputs": [
        {
          "output_type": "display_data",
          "data": {
            "text/plain": [
              "[Row(funded_year='1921', sum(raised_amount_usd)=None),\n",
              " Row(funded_year='1974', sum(raised_amount_usd)=None),\n",
              " Row(funded_year='1979', sum(raised_amount_usd)=None),\n",
              " Row(funded_year='1982', sum(raised_amount_usd)=None),\n",
              " Row(funded_year='1983', sum(raised_amount_usd)=None),\n",
              " Row(funded_year='1984', sum(raised_amount_usd)=None),\n",
              " Row(funded_year='1985', sum(raised_amount_usd)=None),\n",
              " Row(funded_year='1986', sum(raised_amount_usd)=None),\n",
              " Row(funded_year='1987', sum(raised_amount_usd)=None),\n",
              " Row(funded_year='1988', sum(raised_amount_usd)=None)]"
            ]
          },
          "metadata": {}
        }
      ]
    },
    {
      "cell_type": "markdown",
      "source": [
        "# Examinations of rounds data"
      ],
      "metadata": {
        "id": "76SPv9VzD7Qd"
      }
    },
    {
      "cell_type": "code",
      "source": [
        "display(dfrou)"
      ],
      "metadata": {
        "colab": {
          "base_uri": "https://localhost:8080/",
          "height": 86
        },
        "id": "_U7Pxf-1D_A0",
        "outputId": "309e20dc-7f70-4445-ef78-8936b28c8e45"
      },
      "execution_count": null,
      "outputs": [
        {
          "output_type": "display_data",
          "data": {
            "text/plain": [
              "DataFrame[company_permalink: string, company_name: string, company_category_list: string, company_market: string, company_country_code: string, company_state_code: string, company_region: string, company_city: string, funding_round_permalink: string, funding_round_type: string, funding_round_code: string, funded_at: string, funded_month: string, funded_quarter: string, funded_year: string, raised_amount_usd: string]"
            ]
          },
          "metadata": {}
        }
      ]
    },
    {
      "cell_type": "code",
      "source": [
        "dfrou.count()"
      ],
      "metadata": {
        "colab": {
          "base_uri": "https://localhost:8080/"
        },
        "id": "_Xn5EkKzEBZz",
        "outputId": "a56e429c-e268-48b8-b341-dbdca6213bf5"
      },
      "execution_count": null,
      "outputs": [
        {
          "output_type": "execute_result",
          "data": {
            "text/plain": [
              "83870"
            ]
          },
          "metadata": {},
          "execution_count": 31
        }
      ]
    },
    {
      "cell_type": "markdown",
      "source": [
        "### Top funding Round Types"
      ],
      "metadata": {
        "id": "SLPwyd7CEF9m"
      }
    },
    {
      "cell_type": "code",
      "source": [
        "top_round_typ = dfrou.\\\n",
        "   select(\"funding_round_type\").\\\n",
        "   groupby(\"funding_round_type\").\\\n",
        "   agg(fn.count(\"funding_round_type\")).\\\n",
        "   sort(\"count(funding_round_type)\",ascending = False)"
      ],
      "metadata": {
        "id": "p133V7F5EJuI"
      },
      "execution_count": null,
      "outputs": []
    },
    {
      "cell_type": "code",
      "source": [
        "display(top_round_typ.take(10))"
      ],
      "metadata": {
        "colab": {
          "base_uri": "https://localhost:8080/",
          "height": 191
        },
        "id": "GnGldNpEEKh2",
        "outputId": "ac9bc786-8d7c-4fa5-e39f-6c83cde1b515"
      },
      "execution_count": null,
      "outputs": [
        {
          "output_type": "display_data",
          "data": {
            "text/plain": [
              "[Row(funding_round_type='venture', count(funding_round_type)=41742),\n",
              " Row(funding_round_type='seed', count(funding_round_type)=21036),\n",
              " Row(funding_round_type='debt_financing', count(funding_round_type)=5692),\n",
              " Row(funding_round_type='angel', count(funding_round_type)=4443),\n",
              " Row(funding_round_type='undisclosed', count(funding_round_type)=3871),\n",
              " Row(funding_round_type='equity_crowdfunding', count(funding_round_type)=2256),\n",
              " Row(funding_round_type='private_equity', count(funding_round_type)=1828),\n",
              " Row(funding_round_type='grant', count(funding_round_type)=1476),\n",
              " Row(funding_round_type='convertible_note', count(funding_round_type)=759),\n",
              " Row(funding_round_type='post_ipo_equity', count(funding_round_type)=395)]"
            ]
          },
          "metadata": {}
        }
      ]
    },
    {
      "cell_type": "markdown",
      "source": [
        "# Creating the Master dataset"
      ],
      "metadata": {
        "id": "QZvZsuB2EQsa"
      }
    },
    {
      "cell_type": "code",
      "source": [
        "# Replace + with | , see Hardware+Software\n",
        "df_categories_pd = dfcom.select(\"category_list\").toPandas()\n",
        "k = []\n",
        "for i in df_categories_pd.category_list:\n",
        "    i = str(i)\n",
        "    j = i.replace(' + ','|')\n",
        "    k.append(j)"
      ],
      "metadata": {
        "id": "bwWzWO3qEV71"
      },
      "execution_count": null,
      "outputs": []
    },
    {
      "cell_type": "code",
      "source": [
        "from pyspark.sql import SQLContext\n",
        "sql = SQLContext(spark)"
      ],
      "metadata": {
        "colab": {
          "base_uri": "https://localhost:8080/"
        },
        "id": "-thU6C2yEevm",
        "outputId": "5713be90-0829-40c9-d1b1-31f72943c80f"
      },
      "execution_count": null,
      "outputs": [
        {
          "output_type": "stream",
          "name": "stderr",
          "text": [
            "/usr/local/lib/python3.8/dist-packages/pyspark/sql/context.py:112: FutureWarning: Deprecated in 3.0.0. Use SparkSession.builder.getOrCreate() instead.\n",
            "  warnings.warn(\n"
          ]
        }
      ]
    },
    {
      "cell_type": "code",
      "source": [
        "# Create Spark DF with new Category list\n",
        "mylist_pd_k = pd.DataFrame({\"category_list\": k})\n",
        "df_cat_k = sql.createDataFrame(mylist_pd_k)"
      ],
      "metadata": {
        "id": "8FmCt4rPEOqn"
      },
      "execution_count": null,
      "outputs": []
    },
    {
      "cell_type": "code",
      "source": [
        "permalink_pd = dfcom.select(\"permalink\").toPandas()"
      ],
      "metadata": {
        "id": "5VqD1Q_mEmwh"
      },
      "execution_count": null,
      "outputs": []
    },
    {
      "cell_type": "code",
      "source": [
        "df_categories_pd = mylist_pd_k\n",
        "\n",
        "mylist = []\n",
        "for i in range(len(df_categories_pd)):  \n",
        "  mystring = str(df_categories_pd.category_list[i])\n",
        "  myremover = mystring.split(\"|\")\n",
        "  #str_list = filter(None, myremover)\n",
        "  mylist.append(myremover)\n",
        "\n",
        "mylist_pd = pd.DataFrame({\"category\": mylist, \"permalink\": permalink_pd.permalink})\n",
        "df_cat = sql.createDataFrame(mylist_pd)"
      ],
      "metadata": {
        "id": "u1kRCTiWEpJS"
      },
      "execution_count": null,
      "outputs": []
    },
    {
      "cell_type": "markdown",
      "source": [
        "# counter vector + kmeans clustering + fitting and transforming"
      ],
      "metadata": {
        "id": "McvQYnXME_tG"
      }
    },
    {
      "cell_type": "code",
      "source": [
        "cv = feature.CountVectorizer(inputCol='category', outputCol='tf')\n",
        "kmeans = clustering.KMeans(k=400, featuresCol='tf', predictionCol='kmeans_feat')\n",
        "pipeline_model = Pipeline(stages=[cv, kmeans]).fit(df_cat)\n",
        "df_catid_kmeans = pipeline_model.transform(df_cat)"
      ],
      "metadata": {
        "id": "WYd2YlEIErUB"
      },
      "execution_count": null,
      "outputs": []
    },
    {
      "cell_type": "markdown",
      "source": [
        "# concatenate the categories which are within one kmeans cluster"
      ],
      "metadata": {
        "id": "MBMGnuTlHJc9"
      }
    },
    {
      "cell_type": "code",
      "source": [
        "df_catid_kmeans_concat = df_catid_kmeans.\\\n",
        "groupby(\"kmeans_feat\").\\\n",
        "agg(fn.collect_list(col(\"category\")).alias(\"category\")).\\\n",
        "sort(\"kmeans_feat\")"
      ],
      "metadata": {
        "id": "I_GzSfqcEC0G"
      },
      "execution_count": null,
      "outputs": []
    },
    {
      "cell_type": "markdown",
      "source": [
        "# Custom Functions"
      ],
      "metadata": {
        "id": "AuCyi1AnLcKH"
      }
    },
    {
      "cell_type": "code",
      "source": [
        "#flatten list spark df to spark df\n",
        "def flatten_list(df):\n",
        "  test_pd = df.toPandas()\n",
        "  mylist1 = []\n",
        "  klist = []\n",
        "  for i in range(len(test_pd.kmeans_feat)):\n",
        "    newlist = list(chain.from_iterable(test_pd.category[i]))\n",
        "    mylist1.append(newlist)\n",
        "    klist.append(i)\n",
        "  transferdf_pd = pd.DataFrame({\"kmeans_feat\": klist, \"category\": mylist1})\n",
        "  newcatewoo = spark.createDataFrame(transferdf_pd)\n",
        "  return newcatewoo"
      ],
      "metadata": {
        "id": "s6cne4JhLd9g"
      },
      "execution_count": null,
      "outputs": []
    },
    {
      "cell_type": "code",
      "source": [
        "def three_highest_catpluscount(df):  \n",
        "  #to pandas\n",
        "  test1 = df.select(\"tf\").toPandas()\n",
        "  maxi = []\n",
        "  maxv = [0,0,0]\n",
        "  indexlist = []\n",
        "  valuelist = []\n",
        "  kmeanlist = []\n",
        "  for a in range(len(test1.tf)):\n",
        "    for i in range(len(test1.tf[a])):\n",
        "      if (min(maxv) < test1.tf[a][i]):\n",
        "        maxv[0] = test1.tf[a][i]\n",
        "        maxv = sorted(maxv)\n",
        "    testarr = test1.tf[a].toArray()\n",
        "    for n in range(2, -1, -1):\n",
        "      index = np.where(testarr == maxv[n])\n",
        "      maxi.append(index[0][0])\n",
        "      valuelist.append(maxv[n])\n",
        "      kmeanlist.append(a)\n",
        "    maxv = [0,0,0]\n",
        "  kmeancate_pd = pd.DataFrame({\"categoryindex\": maxi, \"kmean_feat\": kmeanlist, \"count\": valuelist})\n",
        "  kmeancate = spark.createDataFrame(kmeancate_pd)\n",
        "  return kmeancate"
      ],
      "metadata": {
        "id": "SGURWAnqLez7"
      },
      "execution_count": null,
      "outputs": []
    },
    {
      "cell_type": "code",
      "source": [
        "# add categories to index\n",
        "def add_category_words(df):\n",
        "  kmeancate_pd = df.toPandas()\n",
        "  mylisti = []\n",
        "  for t in range(len(kmeancate_pd)):\n",
        "    ind = kmeancate_pd.categoryindex[t]\n",
        "    mylisti.append(wordvector_catwoo[ind])\n",
        "  kmeancate_pd[\"category\"] = mylisti\n",
        "  kmeancate_words = spark.createDataFrame(kmeancate_pd)\n",
        "  return kmeancate_words"
      ],
      "metadata": {
        "id": "FaRkxaPtLhKe"
      },
      "execution_count": null,
      "outputs": []
    },
    {
      "cell_type": "code",
      "source": [
        "def create_final_category(df):\n",
        "  kmeancate_pd = df.toPandas()\n",
        "  multiplecate = []\n",
        "  categorylist = []\n",
        "  kmeanlist = []\n",
        "  for o in range(0,len(kmeancate_pd),3):\n",
        "    multiplecate.append(kmeancate_pd[\"category\"][o])\n",
        "    if((kmeancate_pd[\"count\"][o]*0.7 <= kmeancate_pd[\"count\"][o+1]) and (kmeancate_pd[\"category\"][o] != kmeancate_pd[\"category\"][o+1])):\n",
        "      multiplecate.append(kmeancate_pd[\"category\"][o+1])\n",
        "      if((kmeancate_pd[\"count\"][o+1]*0.7 <= kmeancate_pd[\"count\"][o+2]) and (kmeancate_pd[\"category\"][o+1] != kmeancate_pd[\"category\"][o+2])):\n",
        "        multiplecate.append(kmeancate_pd[\"category\"][o+2])\n",
        "    categorystring = \" + \".join(multiplecate)\n",
        "    categorylist.append(categorystring)\n",
        "    kmeanlist.append(o/3)\n",
        "    multiplecate = []\n",
        "  final_pd = pd.DataFrame({\"category_final\": categorylist, \"kmean_feat\": kmeanlist})\n",
        "  final = spark.createDataFrame(final_pd)\n",
        "  return final"
      ],
      "metadata": {
        "id": "y1tOc1UcLjUM"
      },
      "execution_count": null,
      "outputs": []
    },
    {
      "cell_type": "code",
      "source": [
        "def blank_as_null(x):\n",
        "    return when(col(x) != \"\", col(x)).otherwise(None)"
      ],
      "metadata": {
        "id": "J80gFwbtLlhm"
      },
      "execution_count": null,
      "outputs": []
    },
    {
      "cell_type": "code",
      "source": [
        "def two_highest_catpluscount(df):  \n",
        "  #to pandas\n",
        "  test1 = df.toPandas()\n",
        "  maxi = []\n",
        "  maxv = [0]\n",
        "  indexlist = []\n",
        "  valuelist = []\n",
        "  kmeanlist = []\n",
        "  for a in range(len(test1.tf)):\n",
        "    for i in range(len(test1.tf[a])):\n",
        "      if (min(maxv) < test1.tf[a][i]):\n",
        "        maxv[0] = test1.tf[a][i]\n",
        "        maxv = sorted(maxv)\n",
        "    testarr = test1.tf[a].toArray()\n",
        "    for n in range(1):\n",
        "      index = np.where(testarr == maxv[n])\n",
        "      maxi.append(index[0][0])\n",
        "      valuelist.append(maxv[n])\n",
        "      kmeanlist.append(test1.permalink[a])\n",
        "    maxv = [0]\n",
        "  kmeancate_pd = pd.DataFrame({\"categoryindex\": maxi, \"perma\": kmeanlist, \"count\": valuelist})\n",
        "  kmeancate = spark.createDataFrame(kmeancate_pd)\n",
        "  return kmeancate"
      ],
      "metadata": {
        "id": "AiEw_zguLoEJ"
      },
      "execution_count": null,
      "outputs": []
    },
    {
      "cell_type": "code",
      "source": [
        "# add categories to index\n",
        "def add_inv_words(df):\n",
        "  kmeancate_pd = df.toPandas()\n",
        "  mylisti = []\n",
        "  for t in range(len(kmeancate_pd)):\n",
        "    ind = kmeancate_pd.categoryindex[t]\n",
        "    mylisti.append(inv_words[ind])\n",
        "  kmeancate_pd[\"category\"] = mylisti\n",
        "  kmeancate_words = spark.createDataFrame(kmeancate_pd)\n",
        "  return kmeancate_words"
      ],
      "metadata": {
        "id": "vgNIncSzLp06"
      },
      "execution_count": null,
      "outputs": []
    },
    {
      "cell_type": "code",
      "source": [
        "# add categories to index\n",
        "def add_round_words(df):\n",
        "  kmeancate_pd = df.toPandas()\n",
        "  mylisti = []\n",
        "  for t in range(len(kmeancate_pd)):\n",
        "    ind = kmeancate_pd.categoryindex[t]\n",
        "    mylisti.append(round_words[ind])\n",
        "  kmeancate_pd[\"category\"] = mylisti\n",
        "  kmeancate_words = spark.createDataFrame(kmeancate_pd)\n",
        "  return kmeancate_words"
      ],
      "metadata": {
        "id": "VZeH57V2LrrE"
      },
      "execution_count": null,
      "outputs": []
    },
    {
      "cell_type": "code",
      "source": [
        "#flatten list spark df to spark df\n",
        "newcatewoo = flatten_list(df_catid_kmeans_concat)"
      ],
      "metadata": {
        "id": "T2QzN64dLtie"
      },
      "execution_count": null,
      "outputs": []
    },
    {
      "cell_type": "code",
      "source": [
        "# counter vectorizer\n",
        "cv = feature.CountVectorizer(inputCol='category', outputCol='tf')\n",
        "# cv fitting and df transformation\n",
        "cv_model = cv.fit(newcatewoo)\n",
        "df_catwoo_cv = cv_model.transform(newcatewoo)"
      ],
      "metadata": {
        "id": "3lK11U8XL1Ro"
      },
      "execution_count": null,
      "outputs": []
    },
    {
      "cell_type": "code",
      "source": [
        "#get the three categories occuring most often for each cluster\n",
        "kmeancate = three_highest_catpluscount(df_catwoo_cv)"
      ],
      "metadata": {
        "id": "YJEIaX28L60G"
      },
      "execution_count": null,
      "outputs": []
    },
    {
      "cell_type": "code",
      "source": [
        "wordvector_catwoo = cv_model.vocabulary\n",
        "wordvector_catwoo"
      ],
      "metadata": {
        "colab": {
          "base_uri": "https://localhost:8080/"
        },
        "id": "i7tLH_4CL9AR",
        "outputId": "ccecb8f0-e910-4379-ba3c-8e104f000c9f"
      },
      "execution_count": null,
      "outputs": [
        {
          "output_type": "execute_result",
          "data": {
            "text/plain": [
              "['',\n",
              " 'None',\n",
              " 'Software',\n",
              " 'Mobile',\n",
              " 'Biotechnology',\n",
              " 'E-Commerce',\n",
              " 'Curated Web',\n",
              " 'Social Media',\n",
              " 'Enterprise Software',\n",
              " 'Advertising',\n",
              " 'Games',\n",
              " 'Hardware',\n",
              " 'Health Care',\n",
              " 'Finance',\n",
              " 'Education',\n",
              " 'Clean Technology',\n",
              " 'Analytics',\n",
              " 'Health and Wellness',\n",
              " 'SaaS',\n",
              " 'Internet',\n",
              " 'Apps',\n",
              " 'Manufacturing',\n",
              " 'Security',\n",
              " 'Video',\n",
              " 'Fashion',\n",
              " 'Search',\n",
              " 'Consulting',\n",
              " 'Travel',\n",
              " 'News',\n",
              " 'Cloud Computing',\n",
              " 'Web Hosting',\n",
              " 'Hospitality',\n",
              " 'Music',\n",
              " 'Networking',\n",
              " 'Technology',\n",
              " 'Social Network Media',\n",
              " 'Entertainment',\n",
              " 'Sales and Marketing',\n",
              " 'Real Estate',\n",
              " 'Marketplaces',\n",
              " 'Messaging',\n",
              " 'Semiconductors',\n",
              " 'Big Data',\n",
              " 'Sports',\n",
              " 'Photography',\n",
              " 'iPhone',\n",
              " 'Media',\n",
              " 'Android',\n",
              " 'Startups',\n",
              " 'Medical',\n",
              " 'Web Development',\n",
              " 'Retail',\n",
              " 'Design',\n",
              " 'Automotive',\n",
              " 'Content',\n",
              " 'Events',\n",
              " 'Location Based Services',\n",
              " 'Digital Media',\n",
              " 'Enterprises',\n",
              " 'Facebook Applications',\n",
              " 'Collaboration',\n",
              " 'Reviews and Recommendations',\n",
              " 'Publishing',\n",
              " 'Payments',\n",
              " 'Information Technology',\n",
              " 'iOS',\n",
              " 'Local',\n",
              " 'Transportation',\n",
              " 'Consumer Electronics',\n",
              " 'Services',\n",
              " 'Social Commerce',\n",
              " 'Video Streaming',\n",
              " 'Financial Services',\n",
              " 'CRM',\n",
              " 'Internet Marketing',\n",
              " 'Public Relations',\n",
              " 'Crowdsourcing',\n",
              " 'Business Services',\n",
              " 'Brand Marketing',\n",
              " 'B2B',\n",
              " 'Wireless',\n",
              " 'Shopping',\n",
              " 'Recruiting',\n",
              " 'Mobile Commerce',\n",
              " 'Television',\n",
              " 'Nonprofits',\n",
              " 'Human Resources',\n",
              " 'Real Time',\n",
              " 'Telecommunications',\n",
              " 'Big Data Analytics',\n",
              " 'File Sharing',\n",
              " 'iPad',\n",
              " 'Business Intelligence',\n",
              " 'Social Media Marketing',\n",
              " 'Medical Devices',\n",
              " 'Restaurants',\n",
              " 'Online Shopping',\n",
              " 'SEO',\n",
              " 'Mobile Payments',\n",
              " 'Email',\n",
              " 'Web Tools',\n",
              " 'Social Games',\n",
              " 'Public Transportation',\n",
              " 'Fitness',\n",
              " 'Storage',\n",
              " 'Databases',\n",
              " 'Small and Medium Businesses',\n",
              " 'Twitter Applications',\n",
              " 'Internet of Things',\n",
              " 'Customer Service',\n",
              " 'Pharmaceuticals',\n",
              " 'Mobile Games',\n",
              " 'Legal',\n",
              " 'Lifestyle',\n",
              " 'Peer-to-Peer',\n",
              " 'Photo Sharing',\n",
              " 'Open Source',\n",
              " 'Productivity Software',\n",
              " 'Consumers',\n",
              " 'Crowdfunding',\n",
              " 'Blogging Platforms',\n",
              " 'Venture Capital',\n",
              " 'Developer APIs',\n",
              " 'Health Care Information Technology',\n",
              " 'Local Businesses',\n",
              " 'Coupons',\n",
              " 'Kids',\n",
              " 'Employment',\n",
              " 'Loyalty Programs',\n",
              " 'Project Management',\n",
              " 'Audio',\n",
              " 'Consumer Goods',\n",
              " 'Cloud Data Services',\n",
              " 'Colleges',\n",
              " 'Finance Technology',\n",
              " 'Hotels',\n",
              " 'Ticketing',\n",
              " 'Marketing Automation',\n",
              " 'Career Management',\n",
              " 'Chat',\n",
              " 'Art',\n",
              " 'Predictive Analytics',\n",
              " 'App Marketing',\n",
              " 'Personalization',\n",
              " 'Discounts',\n",
              " 'Lead Generation',\n",
              " 'Machine Learning',\n",
              " 'Nanotechnology',\n",
              " 'Web Design',\n",
              " 'Virtualization',\n",
              " 'PaaS',\n",
              " 'Clean Energy',\n",
              " 'Gamification',\n",
              " 'Electronics',\n",
              " 'Network Security',\n",
              " 'Communities',\n",
              " 'Ediscovery',\n",
              " 'Artificial Intelligence',\n",
              " 'Banking',\n",
              " 'Incentives',\n",
              " 'SMS',\n",
              " 'Training',\n",
              " 'Cars',\n",
              " 'Trading',\n",
              " 'Parenting',\n",
              " 'Online Dating',\n",
              " 'Logistics',\n",
              " 'Tracking',\n",
              " 'Energy',\n",
              " 'Maps',\n",
              " '3D',\n",
              " 'Collaborative Consumption',\n",
              " 'Entrepreneur',\n",
              " 'Gift Card',\n",
              " 'Market Research',\n",
              " 'VoIP',\n",
              " 'Tablets',\n",
              " 'Home & Garden',\n",
              " 'Beauty',\n",
              " 'Video Games',\n",
              " 'Data Security',\n",
              " 'Optimization',\n",
              " 'Identity',\n",
              " 'Auctions',\n",
              " 'Personal Finance',\n",
              " 'All Students',\n",
              " 'Bitcoin',\n",
              " 'Film',\n",
              " 'Email Marketing',\n",
              " 'Data Visualization',\n",
              " 'Home Automation',\n",
              " 'Mobile Advertising',\n",
              " 'Semantic Search',\n",
              " 'Graphics',\n",
              " 'Insurance',\n",
              " 'Price Comparison',\n",
              " 'Mobile Software Tools',\n",
              " 'Online Reservations',\n",
              " 'Accounting',\n",
              " 'Consumer Internet',\n",
              " 'Weddings',\n",
              " 'Web CMS',\n",
              " 'Local Search',\n",
              " 'Creative',\n",
              " 'Online Scheduling',\n",
              " 'Investment Management',\n",
              " 'Pets',\n",
              " 'Game',\n",
              " 'Cloud Management',\n",
              " 'Freelancers',\n",
              " 'Gps',\n",
              " 'Online Travel',\n",
              " 'Energy Efficiency',\n",
              " 'Advertising Platforms',\n",
              " 'Online Rental',\n",
              " 'Ad Targeting',\n",
              " 'Distribution',\n",
              " 'Social Buying',\n",
              " 'Solar',\n",
              " 'Language Learning',\n",
              " 'Hospitals',\n",
              " 'Privacy',\n",
              " 'Information Services',\n",
              " 'Mobility',\n",
              " 'Point of Sale',\n",
              " 'Promotional',\n",
              " 'Data Integration',\n",
              " 'Outsourcing',\n",
              " 'Monetization',\n",
              " 'Virtual Worlds',\n",
              " 'Augmented Reality',\n",
              " 'Task Management',\n",
              " 'Printing',\n",
              " 'Tourism',\n",
              " 'Private Social Networking',\n",
              " 'Mobile Health',\n",
              " 'Environmental Innovation',\n",
              " 'Travel & Tourism',\n",
              " 'Sustainability',\n",
              " 'Sensors',\n",
              " 'Event Management',\n",
              " 'Data Centers',\n",
              " 'Wine And Spirits',\n",
              " 'Broadcasting',\n",
              " 'Teachers',\n",
              " 'Robotics',\n",
              " 'Semantic Web',\n",
              " 'Social Search',\n",
              " 'Testing',\n",
              " 'Document Management',\n",
              " 'Business Development',\n",
              " 'Life Sciences',\n",
              " 'Renewable Energies',\n",
              " 'Infrastructure',\n",
              " 'Concerts',\n",
              " 'Subscription Businesses',\n",
              " 'Data Mining',\n",
              " 'Risk Management',\n",
              " 'Agriculture',\n",
              " 'Visualization',\n",
              " 'Universities',\n",
              " 'Mobile Security',\n",
              " 'Green',\n",
              " 'Contact Management',\n",
              " 'Image Recognition',\n",
              " 'App Stores',\n",
              " 'Computers',\n",
              " 'Journalism',\n",
              " 'Classifieds',\n",
              " 'Retail Technology',\n",
              " 'Politics',\n",
              " 'Browser Extensions',\n",
              " 'Navigation',\n",
              " 'Gambling',\n",
              " 'Tutoring',\n",
              " 'Shipping',\n",
              " 'NFC',\n",
              " 'User Experience Design',\n",
              " 'Video on Demand',\n",
              " 'Women',\n",
              " 'Flash Storage',\n",
              " 'Supply Chain Management',\n",
              " 'Opinions',\n",
              " 'Mobile Devices',\n",
              " 'Application Platforms',\n",
              " 'Social CRM',\n",
              " 'Service Providers',\n",
              " 'Textbooks',\n",
              " 'Billing',\n",
              " 'Jewelry',\n",
              " 'Stock Exchanges',\n",
              " 'Reputation',\n",
              " 'Surveys',\n",
              " 'Presentations',\n",
              " 'Credit Cards',\n",
              " 'Professional Services',\n",
              " 'QR Codes',\n",
              " 'Healthcare Services',\n",
              " 'Therapeutics',\n",
              " 'mHealth',\n",
              " 'E-Commerce Platforms',\n",
              " 'Translation',\n",
              " 'Social Television',\n",
              " 'Content Delivery',\n",
              " 'Property Management',\n",
              " 'Social Recruiting',\n",
              " 'Food Processing',\n",
              " 'Natural Language Processing',\n",
              " 'Direct Marketing',\n",
              " 'Development Platforms',\n",
              " 'Charity',\n",
              " 'IaaS',\n",
              " 'Construction',\n",
              " 'Identity Management',\n",
              " 'Doctors',\n",
              " 'MMO Games',\n",
              " 'Meeting Software',\n",
              " 'Cloud Infrastructure',\n",
              " 'Information Security',\n",
              " 'M2M',\n",
              " 'Recycling',\n",
              " 'Career Planning',\n",
              " 'Search Marketing',\n",
              " 'Virtual Currency',\n",
              " 'Vacation Rentals',\n",
              " 'Online Gaming',\n",
              " 'Customer Support Tools',\n",
              " 'Local Based Services',\n",
              " 'Developer Tools',\n",
              " 'Cloud Security',\n",
              " 'Skill Assessment',\n",
              " 'K-12 Education',\n",
              " 'Flash Sales',\n",
              " 'Personal Health',\n",
              " 'Group Buying',\n",
              " 'Psychology',\n",
              " 'Social Media Monitoring',\n",
              " 'Specialty Foods',\n",
              " 'Electronic Health Records',\n",
              " 'Incubators',\n",
              " 'High Schools',\n",
              " 'Aerospace',\n",
              " 'Business Analytics',\n",
              " 'Artists Globally',\n",
              " 'Social Bookmarking',\n",
              " 'Celebrity',\n",
              " 'Nightlife',\n",
              " 'Diagnostics',\n",
              " 'World Domination',\n",
              " 'IT Management',\n",
              " 'Portals',\n",
              " 'Social Media Advertising',\n",
              " 'Non Profit',\n",
              " 'Credit',\n",
              " 'Computer Vision',\n",
              " 'Video Chat',\n",
              " 'Health and Insurance',\n",
              " 'Utilities',\n",
              " 'Polling',\n",
              " 'Fantasy Sports',\n",
              " 'Mobile Social',\n",
              " 'Commercial Real Estate',\n",
              " 'Cosmetics',\n",
              " 'Nutrition',\n",
              " 'Systems',\n",
              " 'Knowledge Management',\n",
              " 'Mobile Video',\n",
              " 'Toys',\n",
              " 'Content Discovery',\n",
              " 'Guides',\n",
              " 'Forums',\n",
              " 'Interest Graph',\n",
              " 'Shoes',\n",
              " 'Energy Management',\n",
              " 'Physicians',\n",
              " 'Freemium',\n",
              " 'Video Conferencing',\n",
              " 'Social Media Management',\n",
              " 'Music Services',\n",
              " 'Leisure',\n",
              " 'Communications Hardware',\n",
              " 'Smart Grid',\n",
              " 'Tech Field Support',\n",
              " 'Content Syndication',\n",
              " 'Product Development Services',\n",
              " 'Lighting',\n",
              " 'Communications Infrastructure',\n",
              " 'Social Travel',\n",
              " 'Soccer',\n",
              " 'RFID',\n",
              " 'Advice',\n",
              " 'MicroBlogging',\n",
              " 'Professional Networking',\n",
              " 'Local Advertising',\n",
              " 'Advertising Networks',\n",
              " 'Cyber Security',\n",
              " 'Social',\n",
              " 'IT and Cybersecurity',\n",
              " 'iPod Touch',\n",
              " 'Sales Automation',\n",
              " 'P2P Money Transfer',\n",
              " 'Algorithms',\n",
              " 'Comparison Shopping',\n",
              " 'Social Business',\n",
              " 'Water',\n",
              " 'Mass Customization',\n",
              " 'Product Design',\n",
              " 'Auto',\n",
              " 'Social Media Platforms',\n",
              " 'Geospatial',\n",
              " 'Cooking',\n",
              " 'DIY',\n",
              " 'Performance Marketing',\n",
              " 'Exercise',\n",
              " 'Online Video Advertising',\n",
              " 'Emerging Markets',\n",
              " 'Internet TV',\n",
              " 'Displays',\n",
              " 'Fraud Detection',\n",
              " 'Groceries',\n",
              " 'Architecture',\n",
              " 'Recipes',\n",
              " 'Gadget',\n",
              " 'Babies',\n",
              " 'Synchronization',\n",
              " 'Clinical Trials',\n",
              " 'Wholesale',\n",
              " 'Digital Signage',\n",
              " 'Oil & Gas',\n",
              " 'All Markets',\n",
              " 'Humanitarian',\n",
              " 'Interface Design',\n",
              " '3D Printing',\n",
              " 'Adventure Travel',\n",
              " 'Law Enforcement',\n",
              " 'Dental',\n",
              " 'Staffing Firms',\n",
              " 'Domains',\n",
              " 'Governments',\n",
              " 'Mobile Shopping',\n",
              " 'Home Renovation',\n",
              " 'Enterprise Search',\n",
              " 'Oil',\n",
              " 'Bridging Online and Offline',\n",
              " 'Educational Games',\n",
              " 'Licensing',\n",
              " 'Craft Beer',\n",
              " 'Diabetes',\n",
              " 'Rental Housing',\n",
              " 'E-Books',\n",
              " 'FreetoPlay Gaming',\n",
              " 'Nightclubs',\n",
              " 'Organic Food',\n",
              " 'Proximity Internet',\n",
              " 'Unifed Communications',\n",
              " 'Batteries',\n",
              " 'Entertainment Industry',\n",
              " 'Telephony',\n",
              " 'Video Editing',\n",
              " 'Organic',\n",
              " 'Homeland Security',\n",
              " 'Match-Making',\n",
              " 'Visual Search',\n",
              " 'Intellectual Property',\n",
              " '3D Technology',\n",
              " 'Mobile Analytics',\n",
              " 'Digital Entertainment',\n",
              " 'Windows Phone 7',\n",
              " 'Defense',\n",
              " 'Fleet Management',\n",
              " 'Contests',\n",
              " 'Employer Benefits Programs',\n",
              " 'Corporate Training',\n",
              " 'Mobile Enterprise',\n",
              " 'Intellectual Asset Management',\n",
              " 'Trusted Networks',\n",
              " 'Enterprise 2.0',\n",
              " 'Business Productivity',\n",
              " 'Digital Rights Management',\n",
              " 'Neuroscience',\n",
              " 'Embedded Hardware and Software',\n",
              " 'Mobile Coupons',\n",
              " 'Lead Management',\n",
              " 'Virtual Goods',\n",
              " 'Web Browsers',\n",
              " 'Office Space',\n",
              " 'Linux',\n",
              " 'Brokers',\n",
              " 'Procurement',\n",
              " 'Outdoors',\n",
              " 'Biometrics',\n",
              " 'Text Analytics',\n",
              " 'Photo Editing',\n",
              " 'College Campuses',\n",
              " 'Social Fundraising',\n",
              " 'Collectibles',\n",
              " 'Innovation Management',\n",
              " 'Internet Radio Market',\n",
              " 'Gas',\n",
              " 'Transaction Processing',\n",
              " 'Drones',\n",
              " 'Archiving',\n",
              " 'Home Decor',\n",
              " 'Charter Schools',\n",
              " 'Parking',\n",
              " 'Natural Resources',\n",
              " 'Postal and Courier Services',\n",
              " 'Google Apps',\n",
              " 'Industrial',\n",
              " 'Mobile Emergency&Health',\n",
              " 'Coffee',\n",
              " 'New Product Development',\n",
              " 'SNS',\n",
              " 'Innovation Engineering',\n",
              " 'Vertical Search',\n",
              " 'Usability',\n",
              " 'Music Venues',\n",
              " 'Writers',\n",
              " 'Chemicals',\n",
              " 'Farming',\n",
              " 'Film Production',\n",
              " 'Content Creators',\n",
              " 'Human Computer Interaction',\n",
              " 'Speech Recognition',\n",
              " 'Sporting Goods',\n",
              " 'Teenagers',\n",
              " 'Kinect',\n",
              " 'Families',\n",
              " 'Real Estate Investors',\n",
              " 'Bio-Pharm',\n",
              " 'Certification Test',\n",
              " 'Offline Businesses',\n",
              " 'DOD/Military',\n",
              " 'CAD',\n",
              " 'Designers',\n",
              " 'Medical Professionals',\n",
              " 'Contact Centers',\n",
              " 'Sponsorship',\n",
              " 'Virtual Workforces',\n",
              " 'Interior Design',\n",
              " 'Application Performance Monitoring',\n",
              " 'Mac',\n",
              " 'Electrical Distribution',\n",
              " 'Email Newsletters',\n",
              " 'Smart Building',\n",
              " 'English-Speaking',\n",
              " 'Material Science',\n",
              " 'Rapidly Expanding',\n",
              " 'University Students',\n",
              " 'Specialty Retail',\n",
              " 'Franchises',\n",
              " 'Internet Service Providers',\n",
              " 'Wealth Management',\n",
              " 'Corporate Wellness',\n",
              " 'Health Services Industry',\n",
              " 'Craigslist Killers',\n",
              " 'Cyber',\n",
              " 'Consumer Behavior',\n",
              " 'Engineering Firms',\n",
              " 'Angels',\n",
              " 'Web Presence Management',\n",
              " 'Oil and Gas',\n",
              " 'Q&A',\n",
              " 'Creative Industries',\n",
              " 'Advertising Exchanges',\n",
              " 'Hedge Funds',\n",
              " 'Simulation',\n",
              " 'Carbon',\n",
              " 'Consumer Lending',\n",
              " 'Industrial Automation',\n",
              " 'Realtors',\n",
              " 'Indoor Positioning',\n",
              " 'Local Coupons',\n",
              " 'Test and Measurement',\n",
              " 'Theatre',\n",
              " 'Active Lifestyle',\n",
              " 'Residential Solar',\n",
              " 'Estimation and Quoting',\n",
              " 'Online Identity',\n",
              " 'Spas',\n",
              " 'Mining Technologies',\n",
              " 'Cloud-Based Music',\n",
              " 'Demographies',\n",
              " 'Software Compliance',\n",
              " 'Financial Exchanges',\n",
              " 'Senior Citizens',\n",
              " 'Game Mechanics',\n",
              " 'New Technologies',\n",
              " 'Comics',\n",
              " 'Water Purification',\n",
              " 'College Recruiting',\n",
              " 'Mens Specific',\n",
              " 'Public Safety',\n",
              " 'High Tech',\n",
              " 'Flowers',\n",
              " 'Direct Sales',\n",
              " 'Self Development',\n",
              " 'Cable',\n",
              " 'Handmade',\n",
              " 'Government Innovation',\n",
              " 'Bicycles',\n",
              " 'ICT',\n",
              " 'Social Innovation',\n",
              " 'Alumni',\n",
              " 'Enterprise Application',\n",
              " 'Commodities',\n",
              " 'Electric Vehicles',\n",
              " 'Gold',\n",
              " 'Insurance Companies',\n",
              " 'Shared Services',\n",
              " 'Social News',\n",
              " 'Wind',\n",
              " 'Textiles',\n",
              " 'Enterprise Resource Planning',\n",
              " 'Advanced Materials',\n",
              " 'Enterprise Security',\n",
              " 'Taxis',\n",
              " 'RIM',\n",
              " 'Business Information Systems',\n",
              " 'Data Center Infrastructure',\n",
              " 'Lasers',\n",
              " 'Limousines',\n",
              " 'Energy IT',\n",
              " 'Religion',\n",
              " 'Elder Care',\n",
              " 'WebOS',\n",
              " 'Commercial Solar',\n",
              " 'Fuels',\n",
              " 'Corporate IT',\n",
              " 'Ventures for Good',\n",
              " 'Infrastructure Builders',\n",
              " 'Plumbers',\n",
              " 'Automated Kiosk',\n",
              " 'Lifestyle Products',\n",
              " 'Quantified Self',\n",
              " 'Recreation',\n",
              " 'Distributors',\n",
              " 'Heavy Industry',\n",
              " 'Lingerie',\n",
              " 'Mobile Infrastructure',\n",
              " 'Genetic Testing',\n",
              " 'Registrars',\n",
              " 'Internet Infrastructure',\n",
              " 'Waste Management',\n",
              " 'Young Adults',\n",
              " 'Product Search',\n",
              " 'Intelligent Systems',\n",
              " 'Online Auctions',\n",
              " 'EBooks',\n",
              " 'Independent Music Labels',\n",
              " 'Animal Feed',\n",
              " 'General Public Worldwide',\n",
              " 'Mechanical Solutions',\n",
              " 'Local Commerce',\n",
              " 'Sunglasses',\n",
              " 'Human Resource Automation',\n",
              " 'Senior Health',\n",
              " 'Bioinformatics',\n",
              " 'Personal Branding',\n",
              " 'In-Flight Entertainment',\n",
              " 'PC Gaming',\n",
              " 'Call Center Automation',\n",
              " 'Resorts',\n",
              " 'Medication Adherence',\n",
              " 'Deep Information Technology',\n",
              " 'Spam Filtering',\n",
              " 'Minerals',\n",
              " 'Coworking',\n",
              " 'Console Gaming',\n",
              " 'Eyewear',\n",
              " 'Logistics Company',\n",
              " 'Brewing',\n",
              " 'Green Consumer Goods',\n",
              " 'Custom Retail',\n",
              " 'Social Media Agent',\n",
              " 'Baby Accessories',\n",
              " 'Child Care',\n",
              " 'Multi-level Marketing',\n",
              " 'Building Products',\n",
              " 'Film Distribution',\n",
              " 'Video Processing',\n",
              " 'Gift Registries',\n",
              " 'Music Education',\n",
              " 'Sex',\n",
              " 'Dietary Supplements',\n",
              " 'Cosmetic Surgery',\n",
              " 'Personal Data',\n",
              " 'Outdoor Advertising',\n",
              " 'Data Center Automation',\n",
              " 'Energy Storage',\n",
              " 'Enterprise Hardware',\n",
              " 'Field Support Services',\n",
              " 'Racing',\n",
              " 'Farmers Market',\n",
              " 'Industrial Energy Efficiency',\n",
              " 'Group SMS',\n",
              " 'Semiconductor Manufacturing Equipment',\n",
              " 'Internet Technology',\n",
              " 'Space Travel',\n",
              " 'Veterinary',\n",
              " 'Social Investing',\n",
              " 'Physical Security',\n",
              " 'Enterprise Purchasing',\n",
              " 'BPO Services',\n",
              " 'Data Privacy',\n",
              " 'Tea',\n",
              " 'Surfing Community',\n",
              " 'App Discovery',\n",
              " 'Specialty Chemicals',\n",
              " 'Retirement',\n",
              " 'Moneymaking',\n",
              " 'Musicians',\n",
              " 'Motion Capture',\n",
              " 'Assisitive Technology',\n",
              " 'Niche Specific',\n",
              " 'Cause Marketing',\n",
              " 'Civil Engineers',\n",
              " 'TV Production',\n",
              " 'Alternative Medicine',\n",
              " 'Twin-Tip Skis',\n",
              " 'Impact Investing',\n",
              " 'Rehabilitation',\n",
              " 'Diving',\n",
              " 'Home Owners',\n",
              " 'Sailing Community',\n",
              " 'Underserved Children',\n",
              " 'EDA Tools',\n",
              " 'Baby Boomers',\n",
              " 'Golf Equipment',\n",
              " 'Boating Industry',\n",
              " 'Performing Arts',\n",
              " 'Debt Collecting',\n",
              " 'Green Building',\n",
              " 'Optical Communications',\n",
              " 'Swimming',\n",
              " 'Early-Stage Technology',\n",
              " 'Radical Breakthrough Startups',\n",
              " 'Social Opinion Platform',\n",
              " 'China Internet',\n",
              " 'Remediation',\n",
              " 'Service Industries',\n",
              " 'Lotteries',\n",
              " 'Assisted Living',\n",
              " 'Renewable Tech',\n",
              " 'Video Game Tournaments',\n",
              " 'Skate Wear',\n",
              " 'Rural Energy',\n",
              " 'Face Recognition',\n",
              " 'Utility Land Vehicles',\n",
              " 'Mobile Search',\n",
              " 'B2B Express Delivery',\n",
              " 'Vending and Concessions',\n",
              " 'Operating Systems',\n",
              " 'Medical Marijuana Patients',\n",
              " 'Pervasive Computing',\n",
              " 'Private School',\n",
              " 'Disruptive Models',\n",
              " 'Casual Games',\n",
              " 'Nutraceutical',\n",
              " 'Edutainment',\n",
              " 'Fmcg',\n",
              " 'Homeless Shelter',\n",
              " 'Technical Continuing Education',\n",
              " 'Gift Exchange',\n",
              " 'Temporary Staffing',\n",
              " 'Google Glass',\n",
              " 'Clean Technology IT',\n",
              " 'Experience Design',\n",
              " 'Biotechnology and Semiconductor',\n",
              " 'Outsourci',\n",
              " 'Musical Instruments',\n",
              " 'Enterprise Softw',\n",
              " 'Labor Optimization',\n",
              " 'Salesforce Killers',\n",
              " 'Generation Y-Z',\n",
              " 'Lifestyle Businesses',\n",
              " 'UHB LEDs',\n",
              " 'English Speaking Caribbean',\n",
              " 'Tobacco',\n",
              " 'Sports Stadiums',\n",
              " 'Skill Gaming',\n",
              " 'English Speaking World',\n",
              " 'Group Email',\n",
              " 'Biofuels',\n",
              " 'Virtual Desktop',\n",
              " 'Serious Games',\n",
              " 'Hip Hop',\n",
              " 'Business Travelers',\n",
              " 'Pre Seed',\n",
              " 'Invention',\n",
              " 'Wire',\n",
              " 'Social Activists',\n",
              " 'Distributed Generation',\n",
              " 'Low Bid Auctions',\n",
              " 'Aquaculture',\n",
              " 'Motors',\n",
              " 'Reading Apps',\n",
              " 'Charities',\n",
              " 'Content Summarization',\n",
              " 'Mob',\n",
              " 'Quantitative Marketing',\n",
              " 'Weird Hardware',\n",
              " 'UV LEDs',\n",
              " 'Bananas',\n",
              " 'Natural Gas Uses',\n",
              " 'Landsacping',\n",
              " 'Synthetic Biology',\n",
              " 'Indians',\n",
              " 'Building Owners',\n",
              " 'Governance',\n",
              " 'Timeshares',\n",
              " 'Funeral Industry',\n",
              " 'Hunting Industry',\n",
              " 'Guide to Nightlife',\n",
              " 'Self Storage',\n",
              " 'Direct Advertising',\n",
              " 'Unmanned Air Systems',\n",
              " 'Early Stage IT',\n",
              " 'South East Asia',\n",
              " 'Mobile Analyt',\n",
              " 'Green Advertising',\n",
              " 'Real',\n",
              " 'Biomass Power Generation',\n",
              " 'Shipping Broker Industry']"
            ]
          },
          "metadata": {},
          "execution_count": 52
        }
      ]
    },
    {
      "cell_type": "code",
      "source": [
        "# add categories to index\n",
        "kmeancate_words = add_category_words(kmeancate)"
      ],
      "metadata": {
        "id": "hdd7bjSrL--Q"
      },
      "execution_count": null,
      "outputs": []
    },
    {
      "cell_type": "code",
      "source": [
        "#create final representative category value for each cluster\n",
        "final = create_final_category(kmeancate_words)"
      ],
      "metadata": {
        "id": "8TRL8gusMDnA"
      },
      "execution_count": null,
      "outputs": []
    },
    {
      "cell_type": "code",
      "source": [
        "display(\n",
        "  final.\\\n",
        "  groupby(\"category_final\").\\\n",
        "  agg(fn.count(\"category_final\").alias(\"count\")).\\\n",
        "  filter(col(\"count\") > 1).\\\n",
        "  sort(col(\"count\").desc())\n",
        ")"
      ],
      "metadata": {
        "colab": {
          "base_uri": "https://localhost:8080/",
          "height": 34
        },
        "id": "Xh3QhjCVMFUm",
        "outputId": "024af6d2-5f37-491b-ebf2-76e4ade96265"
      },
      "execution_count": null,
      "outputs": [
        {
          "output_type": "display_data",
          "data": {
            "text/plain": [
              "DataFrame[category_final: string, count: bigint]"
            ]
          },
          "metadata": {}
        }
      ]
    },
    {
      "cell_type": "code",
      "source": [
        "#look for permalinks that occur twice \n",
        "display(dfcom.select(\"permalink\").groupBy(\"permalink\").agg(fn.count(\"permalink\")).where(fn.count(\"permalink\") == 2))"
      ],
      "metadata": {
        "colab": {
          "base_uri": "https://localhost:8080/",
          "height": 34
        },
        "id": "PlNguWd3MQdb",
        "outputId": "6d108f28-451c-4a52-a5b7-df8a142cdaed"
      },
      "execution_count": null,
      "outputs": [
        {
          "output_type": "display_data",
          "data": {
            "text/plain": [
              "DataFrame[permalink: string, count(permalink): bigint]"
            ]
          },
          "metadata": {}
        }
      ]
    },
    {
      "cell_type": "code",
      "source": [
        "#investigate duplicates\n",
        "display(dfcom.filter((col(\"permalink\") == \"/organization/prysm\")|(col(\"permalink\") == \"/organization/treasure-valley-urology-services\")))"
      ],
      "metadata": {
        "colab": {
          "base_uri": "https://localhost:8080/",
          "height": 86
        },
        "id": "tm78lVVAMHIX",
        "outputId": "be2e88c4-51ae-48c0-b16e-595a589ac022"
      },
      "execution_count": null,
      "outputs": [
        {
          "output_type": "display_data",
          "data": {
            "text/plain": [
              "DataFrame[permalink: string, name: string, homepage_url: string, category_list: string, market: string, funding_total_usd: string, status: string, country_code: string, state_code: string, region: string, city: string, funding_rounds: string, founded_at: string, founded_month: string, founded_quarter: string, founded_year: string, first_funding_at: string, last_funding_at: string]"
            ]
          },
          "metadata": {}
        }
      ]
    },
    {
      "cell_type": "markdown",
      "source": [
        "# Remove duplicates with less information"
      ],
      "metadata": {
        "id": "QM67uaqvMUHb"
      }
    },
    {
      "cell_type": "code",
      "source": [
        "#select observation with less information of duplicate 1\n",
        "dfcomsubtr1 = dfcom.filter((col(\"permalink\") == \"/organization/prysm\") & ((col(\"permalink\") == \"/organization/prysm\") & (col(\"funding_rounds\") == 1)))"
      ],
      "metadata": {
        "id": "f4faYAqBMX1P"
      },
      "execution_count": null,
      "outputs": []
    },
    {
      "cell_type": "code",
      "source": [
        "#select observation with less information of duplicate 2\n",
        "dfcomsubtr2 = dfcom.filter((col(\"permalink\") == \"/organization/treasure-valley-urology-services\") & ((col(\"permalink\") == \"/organization/treasure-valley-urology-services\") & (col(\"funding_rounds\") == 1)))"
      ],
      "metadata": {
        "id": "MmTj7KvaMYwO"
      },
      "execution_count": null,
      "outputs": []
    },
    {
      "cell_type": "code",
      "source": [
        "#get rid of duplicates (deprecated entries)\n",
        "dfcom = dfcom.subtract(dfcomsubtr1).subtract(dfcomsubtr2)"
      ],
      "metadata": {
        "id": "4OZGEZWlMaxT"
      },
      "execution_count": null,
      "outputs": []
    },
    {
      "cell_type": "code",
      "source": [
        "#double check if preparation worked out\n",
        "display(dfcom.select(\"permalink\").groupBy(\"permalink\").agg(fn.count(\"permalink\")).sort(\"count(permalink)\", ascending=False))"
      ],
      "metadata": {
        "id": "kNgITO4DMc6w",
        "outputId": "24e4af85-123b-4c9b-ac12-ca1f36b242b2",
        "colab": {
          "base_uri": "https://localhost:8080/",
          "height": 34
        }
      },
      "execution_count": null,
      "outputs": [
        {
          "output_type": "display_data",
          "data": {
            "text/plain": [
              "DataFrame[permalink: string, count(permalink): bigint]"
            ]
          },
          "metadata": {}
        }
      ]
    },
    {
      "cell_type": "markdown",
      "source": [
        "# define calculations for aggregation when joining the spreadsheets"
      ],
      "metadata": {
        "id": "S46RrhNSqED4"
      }
    },
    {
      "cell_type": "code",
      "source": [
        "#calculate the age of a company based on year of founding, the appropriate quarter and 2015, which is the date when the data set was created\n",
        "age_calc = fn.when(col(\"quarter_new\") == \"Q2\", 2015 - col(\"founded_year\") - 0.25).\\\n",
        "  otherwise(fn.when(col(\"quarter_new\") == \"Q3\", 2015 - col(\"founded_year\") - 0.5).\\\n",
        "            otherwise(fn.when(col(\"quarter_new\") == \"Q4\", 2015 - col(\"founded_year\") - 0.75).\\\n",
        "                      otherwise(2015 - col(\"founded_year\"))))"
      ],
      "metadata": {
        "id": "XE9ARq7EqFV2"
      },
      "execution_count": null,
      "outputs": []
    },
    {
      "cell_type": "code",
      "source": [
        "#calculate the time to funding of a company based on date of funding and date of data set creation \n",
        "time_to_funding_calc = fn.when(col(\"funded_quarter_new\") == \"Q2\", col(\"funded_year\") + 0.25 - (2015 - col(\"age\"))).\\\n",
        "  otherwise(fn.when(col(\"funded_quarter_new\") == \"Q3\", col(\"funded_year\") + 0.5 - (2015 - col(\"age\"))).\\\n",
        "            otherwise(fn.when(col(\"funded_quarter_new\") == \"Q4\", col(\"funded_year\") + 0.75 - (2015 - col(\"age\"))).\\\n",
        "                      otherwise(col(\"funded_year\") - (2015 - col(\"age\")))))"
      ],
      "metadata": {
        "id": "V1DVh86RqKzx"
      },
      "execution_count": null,
      "outputs": []
    },
    {
      "cell_type": "markdown",
      "source": [
        "# Defining subsets before joining"
      ],
      "metadata": {
        "id": "0EwJCfCtqUIY"
      }
    },
    {
      "cell_type": "code",
      "source": [
        "#select subsets before joining to exclude information/observations which will not be used\n",
        "dfcomsub = dfcom.\\\n",
        "  withColumn(\"quarter_new\", col(\"founded_quarter\").substr(6,2)).\\\n",
        "  withColumn(\"age\", age_calc).\\\n",
        "  select(\"permalink\", \"name\", \"market\", \"funding_total_usd\", \"status\", \"country_code\", \"city\", \"funding_rounds\", \"founded_year\", \"quarter_new\",\"age\")\n",
        "\n",
        "dfinvsub = dfinv.\\\n",
        "  withColumn(\"funded_quarter_new\", col(\"funded_quarter\").substr(6,2)).\\\n",
        "  select(\"company_permalink\", \"investor_permalink\", \"investor_name\", \"investor_country_code\", \"funding_round_type\", \"funded_quarter_new\", \"funded_year\", \"raised_amount_usd\")"
      ],
      "metadata": {
        "id": "qEk-c1HNqYMX"
      },
      "execution_count": null,
      "outputs": []
    },
    {
      "cell_type": "markdown",
      "source": [
        "# Join Companies and investment data"
      ],
      "metadata": {
        "id": "qBIr6XtwqdDH"
      }
    },
    {
      "cell_type": "code",
      "source": [
        "#multiple rows in dfinv for each permalink\n",
        "dfmaster = dfcomsub.join(dfinvsub, dfcomsub[\"permalink\"] == dfinvsub[\"company_permalink\"], 'leftouter')\n",
        "dfmaster2 = dfmaster.\\\n",
        "  withColumn(\"time_to_funding\", time_to_funding_calc)"
      ],
      "metadata": {
        "id": "RffLbOTJqhXz"
      },
      "execution_count": null,
      "outputs": []
    },
    {
      "cell_type": "code",
      "source": [
        "# Aggregate multiple entries of each company \n",
        "dfmaster2_agg = dfmaster2.\\\n",
        "  groupby(col(\"permalink\").alias(\"permalink_agg\")).\\\n",
        "  agg(fn.count(\"investor_permalink\").alias(\"count_investor\"),\n",
        "      fn.min(\"time_to_funding\").alias(\"time_to_first_funding\"),\n",
        "      fn.concat_ws(\", \", fn.collect_list(col(\"investor_country_code\"))).alias(\"investor_country_codes\"),\n",
        "      fn.concat_ws(\", \", fn.collect_list(col(\"funding_round_type\"))).alias(\"funding_round_types\"),\n",
        "      fn.sum(\"raised_amount_usd\").alias(\"total_raised_usd\"))"
      ],
      "metadata": {
        "id": "ZqkG29XTMfIe"
      },
      "execution_count": null,
      "outputs": []
    },
    {
      "cell_type": "code",
      "source": [
        "dfmaster2_agg.count()"
      ],
      "metadata": {
        "id": "xjs3pP5qMOaa",
        "colab": {
          "base_uri": "https://localhost:8080/"
        },
        "outputId": "d5f3f737-6a9f-426a-a282-60481b8cfbe1"
      },
      "execution_count": null,
      "outputs": [
        {
          "output_type": "execute_result",
          "data": {
            "text/plain": [
              "49437"
            ]
          },
          "metadata": {},
          "execution_count": 67
        }
      ]
    },
    {
      "cell_type": "markdown",
      "source": [
        "# join aggregated values to companies subset dataframe"
      ],
      "metadata": {
        "id": "jikd5m0uquPS"
      }
    },
    {
      "cell_type": "code",
      "source": [
        "dfmaster_final = dfcomsub.join(dfmaster2_agg, dfcomsub[\"permalink\"] == dfmaster2_agg[\"permalink_agg\"], 'leftouter')"
      ],
      "metadata": {
        "id": "8cCPAYGwqxTg"
      },
      "execution_count": null,
      "outputs": []
    },
    {
      "cell_type": "code",
      "source": [
        "display(dfmaster_final)"
      ],
      "metadata": {
        "id": "uKvnoz6hD1iK",
        "colab": {
          "base_uri": "https://localhost:8080/",
          "height": 86
        },
        "outputId": "c2110baf-b189-4421-e460-88a0ab68ef44"
      },
      "execution_count": null,
      "outputs": [
        {
          "output_type": "display_data",
          "data": {
            "text/plain": [
              "DataFrame[permalink: string, name: string, market: string, funding_total_usd: string, status: string, country_code: string, city: string, funding_rounds: string, founded_year: string, quarter_new: string, age: double, permalink_agg: string, count_investor: bigint, time_to_first_funding: double, investor_country_codes: string, funding_round_types: string, total_raised_usd: double]"
            ]
          },
          "metadata": {}
        }
      ]
    },
    {
      "cell_type": "code",
      "source": [
        "dfmaster_final.count()"
      ],
      "metadata": {
        "id": "HGGOOpbTDpJV",
        "colab": {
          "base_uri": "https://localhost:8080/"
        },
        "outputId": "b49b7d41-4ffc-4f6c-9244-5a814e5c170c"
      },
      "execution_count": null,
      "outputs": [
        {
          "output_type": "execute_result",
          "data": {
            "text/plain": [
              "49437"
            ]
          },
          "metadata": {},
          "execution_count": 70
        }
      ]
    },
    {
      "cell_type": "code",
      "source": [
        "#examination of observations with target variable acquired\n",
        "display(dfmaster.where(col(\"status\") == \"acquired\"))"
      ],
      "metadata": {
        "id": "jHjfNRtRDRB_",
        "colab": {
          "base_uri": "https://localhost:8080/",
          "height": 86
        },
        "outputId": "145fb03d-4120-4c40-d598-2c3f7a19a588"
      },
      "execution_count": null,
      "outputs": [
        {
          "output_type": "display_data",
          "data": {
            "text/plain": [
              "DataFrame[permalink: string, name: string, market: string, funding_total_usd: string, status: string, country_code: string, city: string, funding_rounds: string, founded_year: string, quarter_new: string, age: double, company_permalink: string, investor_permalink: string, investor_name: string, investor_country_code: string, funding_round_type: string, funded_quarter_new: string, funded_year: string, raised_amount_usd: string]"
            ]
          },
          "metadata": {}
        }
      ]
    },
    {
      "cell_type": "code",
      "source": [
        "#drop column which exists twice with different name\n",
        "dfmaster3 = dfmaster2.drop(\"company_permalink\")"
      ],
      "metadata": {
        "id": "gFS-0lHaC_gL"
      },
      "execution_count": null,
      "outputs": []
    },
    {
      "cell_type": "markdown",
      "source": [
        "# investigate quarter of founding and funds"
      ],
      "metadata": {
        "id": "i2TknKyOq_c0"
      }
    },
    {
      "cell_type": "code",
      "source": [
        "#summarize raised amount of USD for each quarter\n",
        "investperquarter = dfmaster3.\\\n",
        "select(\"quarter_new\", \"raised_amount_usd\").\\\n",
        "groupby(\"quarter_new\").\\\n",
        "agg(fn.sum(\"raised_amount_usd\")).\\\n",
        "sort(\"quarter_new\")"
      ],
      "metadata": {
        "id": "evtktCKbrB61"
      },
      "execution_count": null,
      "outputs": []
    },
    {
      "cell_type": "code",
      "source": [
        "investperquarternona = investperquarter.na.drop()"
      ],
      "metadata": {
        "id": "KgW-M9moCuZr"
      },
      "execution_count": null,
      "outputs": []
    },
    {
      "cell_type": "code",
      "source": [
        "#companies which were founded in quarter 1 tend to get more funds than others\n",
        "display(investperquarternona)"
      ],
      "metadata": {
        "id": "4simsfkOCiJy",
        "colab": {
          "base_uri": "https://localhost:8080/",
          "height": 34
        },
        "outputId": "a487e411-ceae-477a-9352-23d3c2ba292c"
      },
      "execution_count": null,
      "outputs": [
        {
          "output_type": "display_data",
          "data": {
            "text/plain": [
              "DataFrame[quarter_new: string, sum(raised_amount_usd): double]"
            ]
          },
          "metadata": {}
        }
      ]
    },
    {
      "cell_type": "markdown",
      "source": [
        "# join custom category column to dataframe of companies and investments data"
      ],
      "metadata": {
        "id": "HA45ErKOrNsG"
      }
    },
    {
      "cell_type": "code",
      "source": [
        "#select permalink, category and kmeans_feat\n",
        "df_join1 = df_catid_kmeans.\\\n",
        "  select(\"permalink\", \"category\", \"kmeans_feat\")"
      ],
      "metadata": {
        "id": "Q-PdRe4DrO2J"
      },
      "execution_count": null,
      "outputs": []
    },
    {
      "cell_type": "code",
      "source": [
        "#join to final custom category df\n",
        "df_final_permas = df_join1.join(final, df_join1[\"kmeans_feat\"] == final[\"kmean_feat\"], 'leftouter')"
      ],
      "metadata": {
        "id": "fygvDMxoCVN0"
      },
      "execution_count": null,
      "outputs": []
    },
    {
      "cell_type": "code",
      "source": [
        "display(df_final_permas)"
      ],
      "metadata": {
        "id": "YsLToW-OCGwv",
        "colab": {
          "base_uri": "https://localhost:8080/",
          "height": 34
        },
        "outputId": "28d14894-272d-4fd4-86d5-982e4bb14b25"
      },
      "execution_count": null,
      "outputs": [
        {
          "output_type": "display_data",
          "data": {
            "text/plain": [
              "DataFrame[permalink: string, category: array<string>, kmeans_feat: int, category_final: string, kmean_feat: double]"
            ]
          },
          "metadata": {}
        }
      ]
    },
    {
      "cell_type": "code",
      "source": [
        "#select subset and rename permalink column to ensure unique column names\n",
        "df_final_permas_sub = df_final_permas.\\\n",
        "  select(col(\"permalink\").alias(\"permalink_sub\"),\"category_final\")"
      ],
      "metadata": {
        "id": "7qs9Mz1JB1R6"
      },
      "execution_count": null,
      "outputs": []
    },
    {
      "cell_type": "code",
      "source": [
        "#join custom categories to master df which is the one resulting from joining companies and investment spreadsheet (inlcuding aggregation)\n",
        "df_master_final_cate = dfmaster_final.join(df_final_permas_sub, dfmaster_final[\"permalink\"] == df_final_permas_sub[\"permalink_sub\"], 'leftouter')"
      ],
      "metadata": {
        "id": "ftiDVO-XByoq"
      },
      "execution_count": null,
      "outputs": []
    },
    {
      "cell_type": "code",
      "source": [
        "display(df_master_final_cate)"
      ],
      "metadata": {
        "id": "4NvZrqfYBnFR",
        "colab": {
          "base_uri": "https://localhost:8080/",
          "height": 86
        },
        "outputId": "2d2138cb-7b0c-460a-ced5-c87771f351fb"
      },
      "execution_count": null,
      "outputs": [
        {
          "output_type": "display_data",
          "data": {
            "text/plain": [
              "DataFrame[permalink: string, name: string, market: string, funding_total_usd: string, status: string, country_code: string, city: string, funding_rounds: string, founded_year: string, quarter_new: string, age: double, permalink_agg: string, count_investor: bigint, time_to_first_funding: double, investor_country_codes: string, funding_round_types: string, total_raised_usd: double, permalink_sub: string, category_final: string]"
            ]
          },
          "metadata": {}
        }
      ]
    },
    {
      "cell_type": "markdown",
      "source": [
        "# get majority of investor_country_codes and funding_round_types to reduce complexity"
      ],
      "metadata": {
        "id": "cJI4uKM5rkiE"
      }
    },
    {
      "cell_type": "code",
      "source": [
        "#select subset of appropriate columns\n",
        "dfmastermajority = df_master_final_cate.select(\"permalink\", \"investor_country_codes\", \"funding_round_types\")"
      ],
      "metadata": {
        "id": "NmgFHk6arlu5"
      },
      "execution_count": null,
      "outputs": []
    },
    {
      "cell_type": "code",
      "source": [
        "#the blank strings have to get converted to NULL for further functions\n",
        "dfmajority = dfmastermajority.\\\n",
        "  withColumn(\"investor_country_codes\", blank_as_null(\"investor_country_codes\")).\\\n",
        "  withColumn(\"funding_round_types\", blank_as_null(\"funding_round_types\"))"
      ],
      "metadata": {
        "id": "HtmnGrRg_yNq"
      },
      "execution_count": null,
      "outputs": []
    },
    {
      "cell_type": "code",
      "source": [
        "#write investor_country_codes string and funding_round_types strings that a separated by commas into a list\n",
        "majority = dfmajority.\\\n",
        "  withColumn(\"investor_country_codes\", split(col(\"investor_country_codes\"), \",\\s*\")).\\\n",
        "  withColumn(\"funding_round_types\", split(col(\"funding_round_types\"), \",\\s*\"))"
      ],
      "metadata": {
        "id": "xzgtUAy1_tyi"
      },
      "execution_count": null,
      "outputs": []
    },
    {
      "cell_type": "code",
      "source": [
        "#dropping of rows with NULL values\n",
        "majoritydropinv = majority.select(\"permalink\",\"investor_country_codes\").na.drop()\n",
        "majoritydropround = majority.select(\"permalink\",\"funding_round_types\").na.drop()"
      ],
      "metadata": {
        "id": "zIjb2p7i9_bV"
      },
      "execution_count": null,
      "outputs": []
    },
    {
      "cell_type": "code",
      "source": [
        "# Counter vectorizing the investor_country_codes and funding_round_types feature in order to use the vector to calculate the majority count for each observation\n",
        "\n",
        "cv_inv = feature.CountVectorizer(inputCol='investor_country_codes', outputCol='tf')\n",
        "\n",
        "cv_round = feature.CountVectorizer(inputCol='funding_round_types', outputCol='tf')\n",
        "\n",
        "\n",
        "cv_inv_model = cv_inv.fit(majoritydropinv)\n",
        "df_cv_inv = cv_inv_model.transform(majoritydropinv)\n",
        "\n",
        "cv_round_model = cv_round.fit(majoritydropround)\n",
        "df_cv_round = cv_round_model.transform(majoritydropround)"
      ],
      "metadata": {
        "id": "jVWoIeaQ8Cw1"
      },
      "execution_count": null,
      "outputs": []
    },
    {
      "cell_type": "code",
      "source": [
        "#calculate the two highest counts of the investor_country_code for each company \n",
        "invtwo = two_highest_catpluscount(df_cv_inv)"
      ],
      "metadata": {
        "id": "t1FLpiBV79Fr"
      },
      "execution_count": null,
      "outputs": []
    },
    {
      "cell_type": "code",
      "source": [
        "#assign the words of the counter vectorizer of the investor_country_codes\n",
        "inv_words = cv_inv_model.vocabulary"
      ],
      "metadata": {
        "id": "ZTowAqi7r0V-"
      },
      "execution_count": null,
      "outputs": []
    },
    {
      "cell_type": "code",
      "source": [
        "#assign the corresponding investor_country_codes to the counts for each company\n",
        "invplus_words = add_inv_words(invtwo)"
      ],
      "metadata": {
        "id": "qmA9JkhCr2ZO"
      },
      "execution_count": null,
      "outputs": []
    },
    {
      "cell_type": "code",
      "source": [
        "#calculate the two highest counts of the funding_round_types for each company \n",
        "roundtwo = two_highest_catpluscount(df_cv_round)"
      ],
      "metadata": {
        "id": "DTzYw7XBr5EU"
      },
      "execution_count": null,
      "outputs": []
    },
    {
      "cell_type": "code",
      "source": [
        "#assign the corresponding funding_round_types to the counts for each company\n",
        "round_words = cv_round_model.vocabulary"
      ],
      "metadata": {
        "id": "NgA8Gz5-r9rF"
      },
      "execution_count": null,
      "outputs": []
    },
    {
      "cell_type": "code",
      "source": [
        "#assign the corresponding funding_round_types to the counts for each company\n",
        "roundpluswords = add_round_words(roundtwo)"
      ],
      "metadata": {
        "id": "AdS03mxfr-iw"
      },
      "execution_count": null,
      "outputs": []
    },
    {
      "cell_type": "code",
      "source": [
        "#join the \"majority\" investor_country_codes to the master table\n",
        "masternew = df_master_final_cate.join(invplus_words.select(\"perma\",col(\"category\").alias(\"investor_country_code\")), df_master_final_cate[\"permalink\"] == invplus_words[\"perma\"], 'leftouter')"
      ],
      "metadata": {
        "id": "x1q8LA4AsAUp"
      },
      "execution_count": null,
      "outputs": []
    },
    {
      "cell_type": "code",
      "source": [
        "#selection in order to rename and for better joining\n",
        "roundpluswords = roundpluswords.select(col(\"perma\").alias(\"permaround\"),col(\"category\").alias(\"funding_round_type\"))"
      ],
      "metadata": {
        "id": "RUJzt7JYsCUt"
      },
      "execution_count": null,
      "outputs": []
    },
    {
      "cell_type": "code",
      "source": [
        "#join the \"majority\" funding_round_types to the master table\n",
        "masternew = masternew.join(roundpluswords, masternew[\"permalink\"] == roundpluswords[\"permaround\"], 'leftouter')"
      ],
      "metadata": {
        "id": "iC8HBMxxsExh"
      },
      "execution_count": null,
      "outputs": []
    },
    {
      "cell_type": "code",
      "source": [
        "display(masternew)"
      ],
      "metadata": {
        "colab": {
          "base_uri": "https://localhost:8080/",
          "height": 104
        },
        "id": "lfdNbvvksHxY",
        "outputId": "0376a6e0-8c3a-412e-ff53-e8260549bcae"
      },
      "execution_count": null,
      "outputs": [
        {
          "output_type": "display_data",
          "data": {
            "text/plain": [
              "DataFrame[permalink: string, name: string, market: string, funding_total_usd: string, status: string, country_code: string, city: string, funding_rounds: string, founded_year: string, quarter_new: string, age: double, permalink_agg: string, count_investor: bigint, time_to_first_funding: double, investor_country_codes: string, funding_round_types: string, total_raised_usd: double, permalink_sub: string, category_final: string, perma: string, investor_country_code: string, permaround: string, funding_round_type: string]"
            ]
          },
          "metadata": {}
        }
      ]
    },
    {
      "cell_type": "code",
      "source": [
        "#this dataframe was exported and then imported in another notebook \n",
        "#the entire project is split into two notebooks\n",
        "\n",
        "masterdropped = masternew.drop(\"funding_total_usd\", \"permalink_agg\", \"investor_country_codes\", \"funding_round_types\", \"permalink_sub\", \"perma\", \"permaround\")"
      ],
      "metadata": {
        "id": "Q7zo1mCtsINa"
      },
      "execution_count": null,
      "outputs": []
    },
    {
      "cell_type": "code",
      "source": [
        "masterdropped.count()"
      ],
      "metadata": {
        "colab": {
          "base_uri": "https://localhost:8080/"
        },
        "id": "uPh0SFMusJBX",
        "outputId": "bbb9d3d1-cf8a-41b2-8c8c-71ffed6466ea"
      },
      "execution_count": null,
      "outputs": [
        {
          "output_type": "execute_result",
          "data": {
            "text/plain": [
              "49445"
            ]
          },
          "metadata": {},
          "execution_count": 98
        }
      ]
    },
    {
      "cell_type": "code",
      "source": [
        "display(masterdropped)"
      ],
      "metadata": {
        "colab": {
          "base_uri": "https://localhost:8080/",
          "height": 86
        },
        "id": "ZYIbc3XssI9K",
        "outputId": "4175140e-758a-4e13-e543-5e6e5f49757f"
      },
      "execution_count": null,
      "outputs": [
        {
          "output_type": "display_data",
          "data": {
            "text/plain": [
              "DataFrame[permalink: string, name: string, market: string, status: string, country_code: string, city: string, funding_rounds: string, founded_year: string, quarter_new: string, age: double, count_investor: bigint, time_to_first_funding: double, total_raised_usd: double, category_final: string, investor_country_code: string, funding_round_type: string]"
            ]
          },
          "metadata": {}
        }
      ]
    },
    {
      "cell_type": "markdown",
      "source": [
        "# create binary value for target variable"
      ],
      "metadata": {
        "id": "d4Rlk-g_sWML"
      }
    },
    {
      "cell_type": "code",
      "source": [
        "#create new column with 1 or 0 depending on value of target variable: acquired = 1, otherwise 0\n",
        "finaltarget = masterdropped.\\\n",
        "  withColumn(\"label\", fn.when(col(\"status\") == \"acquired\",1).otherwise(0))"
      ],
      "metadata": {
        "id": "okrvg99jsXdW"
      },
      "execution_count": null,
      "outputs": []
    },
    {
      "cell_type": "code",
      "source": [
        "display(finaltarget)"
      ],
      "metadata": {
        "colab": {
          "base_uri": "https://localhost:8080/",
          "height": 86
        },
        "id": "SucD5HcssI7B",
        "outputId": "b810e187-6a03-4e1f-c583-81640dc55743"
      },
      "execution_count": null,
      "outputs": [
        {
          "output_type": "display_data",
          "data": {
            "text/plain": [
              "DataFrame[permalink: string, name: string, market: string, status: string, country_code: string, city: string, funding_rounds: string, founded_year: string, quarter_new: string, age: double, count_investor: bigint, time_to_first_funding: double, total_raised_usd: double, category_final: string, investor_country_code: string, funding_round_type: string, label: int]"
            ]
          },
          "metadata": {}
        }
      ]
    },
    {
      "cell_type": "markdown",
      "source": [
        "# drop missing values"
      ],
      "metadata": {
        "id": "EWBGX3tksgzg"
      }
    },
    {
      "cell_type": "code",
      "source": [
        "#create subset of dataframe without missing values\n",
        "finalwithoutna = finaltarget.na.drop()"
      ],
      "metadata": {
        "id": "TSGtdm97sh1Y"
      },
      "execution_count": null,
      "outputs": []
    },
    {
      "cell_type": "code",
      "source": [
        "masternew.toPandas().to_csv('master.csv')"
      ],
      "metadata": {
        "id": "sveDaAwjsIuo"
      },
      "execution_count": null,
      "outputs": []
    },
    {
      "cell_type": "code",
      "source": [],
      "metadata": {
        "id": "YomXkDalsIKX"
      },
      "execution_count": null,
      "outputs": []
    }
  ]
}